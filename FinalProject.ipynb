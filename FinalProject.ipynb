{
 "cells": [
  {
   "cell_type": "markdown",
   "metadata": {},
   "source": [
    "# Project Title : Yearly UCSD Application Rate and League Table Linear Regression Model\n",
    "Authors: \n",
    "Thanh Luong\n",
    "Abigail Han\n",
    "Saroop Samra\n",
    "Amy Nguyen"
   ]
  },
  {
   "cell_type": "markdown",
   "metadata": {},
   "source": [
    "**Instructions**\n",
    "\n",
    "In this document, include text and code to walk users through your analysis. Feel free to add more cells as you go, but try to keep the five sections provided in order as they are. Feel free to add subsections within each section to organize your project. \n",
    "\n",
    "Be sure to change the title and include authors in the first cell.\n",
    "\n",
    "When finished, download as a PDF and submit the PDF on Gradescope for extra credit. Be sure to include all gorup members. There are up to 15 points extra credit, so even if you don't complete the whole project, completing part of this document will likely earn you some extra credit."
   ]
  },
  {
   "cell_type": "markdown",
   "metadata": {},
   "source": [
    "# Question\n",
    "Is there a valid SIMPLE linear regression with US News Rankings and Yearly UCSD Application Rate?\n",
    "What does a visualization of this look like?\n",
    "What is the pearson correlation factor?\n",
    "\n",
    "\n",
    "Is there a valid MULTIPLE linear regression with US News Rankings and Times Score and Yearly UCSD Application Rate?\n",
    "What does a visualization of this look like?\n",
    "What is the pearson correlation factor?"
   ]
  },
  {
   "cell_type": "markdown",
   "metadata": {},
   "source": [
    "# Data\n",
    "\n",
    "Include the code to read your dataset in below and briefly explain what information is included in your dataset that you'll use for analysis."
   ]
  },
  {
   "cell_type": "code",
   "execution_count": 4,
   "metadata": {},
   "outputs": [
    {
     "name": "stdout",
     "output_type": "stream",
     "text": [
      "[[ 1996.      43.       0.   23687.       0.  ]\n",
      " [ 1997.      34.       0.   25098.       5.96]\n",
      " [ 1998.      33.       0.   28090.      11.92]\n",
      " [ 1999.      32.       0.   32541.      15.85]\n",
      " [ 2000.      32.       0.   35693.       9.69]\n",
      " [ 2001.      31.       0.   38188.       6.99]\n",
      " [ 2002.      31.       0.   41346.       8.27]\n",
      " [ 2003.      31.       0.   43443.       5.07]\n",
      " [ 2004.      32.       0.   41524.      -4.42]\n",
      " [ 2005.      35.       0.   40534.      -2.38]\n",
      " [ 2006.      32.       0.   43591.       7.54]\n",
      " [ 2007.      38.       0.   45088.       3.43]\n",
      " [ 2008.      38.       0.   47385.       5.09]\n",
      " [ 2009.      35.       0.   47060.      -0.69]\n",
      " [ 2010.      35.       0.   48098.       2.21]\n",
      " [ 2011.      35.      73.2  53449.      11.13]\n",
      " [ 2012.      37.      73.   60832.      13.81]\n",
      " [ 2013.      38.      75.2  67391.      10.78]\n",
      " [ 2014.      39.      67.4  73448.       8.99]\n",
      " [ 2015.      37.      68.6  78061.       6.28]\n",
      " [ 2016.      39.      72.2  84206.       7.87]\n",
      " [ 2017.      44.      73.2  88448.       5.04]\n",
      " [ 2018.      42.      78.7  97898.      10.68]]\n"
     ]
    }
   ],
   "source": [
    "import numpy as np\n",
    "import matplotlib.pyplot as plt\n",
    "import statsmodels.api as sm\n",
    "\n",
    "my_data = np.loadtxt('ec_data.txt',delimiter=',',dtype=float)\n",
    "np.set_printoptions(suppress=True)\n",
    "print(my_data)"
   ]
  },
  {
   "cell_type": "markdown",
   "metadata": {},
   "source": [
    "<h3> Data Sources for attempted Sentimental Analysis</h3>\n",
    "<p> First data source is the training data used to get the probabilities of sentiment given certain words.\n",
    "    The second data source is a News Article on UCSD which we web scraped.</p>"
   ]
  },
  {
   "cell_type": "code",
   "execution_count": 119,
   "metadata": {},
   "outputs": [
    {
     "name": "stdout",
     "output_type": "stream",
     "text": [
      "{'swype': {'Pos': 1}, 'iphon': {'Pos': 30, 'Neg': 45}, 'will': {'Pos': 9, 'Neg': 10}, 'crack.': {'Pos': 1}, 'that': {'Pos': 7, 'Neg': 34}, 'ad': {'Pos': 1}, 'more': {'Pos': 3, 'Neg': 5}, 'carrier': {'Pos': 1}, 'support': {'Pos': 3, 'Neg': 2}, '(just': {'Pos': 1}, 'announced)': {'Pos': 1}, 'hilari': {'Pos': 1}, 'video': {'Pos': 2}, 'doe': {'Pos': 2, 'Neg': 8}, 'duet': {'Pos': 1}, 'with': {'Pos': 15, 'Neg': 50}, 'siri.': {'Pos': 2, 'Neg': 2}, 'pretti': {'Pos': 3, 'Neg': 2}, 'much': {'Pos': 2, 'Neg': 5}, 'sum': {'Pos': 1}, 'love': {'Pos': 26, 'Neg': 3}, 'affair!': {'Pos': 1}, 'http://t.co/8exbnqji': {'Pos': 1}, 'made': {'Pos': 4, 'Neg': 8}, 'easi': {'Pos': 1}, 'switch': {'Pos': 2}, 'iphone.': {'Pos': 2, 'Neg': 4}, 'just': {'Pos': 11, 'Neg': 33}, 'realiz': {'Pos': 1}, 'reason': {'Pos': 1}, 'into': {'Pos': 1, 'Neg': 4}, 'twitter': {'Pos': 4, 'Neg': 1}, 'ios5': {'Pos': 6, 'Neg': 12}, 'thank': {'Pos': 31, 'Neg': 12}, 'current': {'Pos': 3}, 'user': {'Pos': 2, 'Neg': 2}, 'littl': {'Pos': 4, 'Neg': 4}, 'disappoint': {'Pos': 1, 'Neg': 7}, 'should': {'Pos': 3, 'Neg': 3}, 'move': {'Pos': 3, 'Neg': 2}, 'strangest': {'Pos': 1}, 'thing': {'Pos': 4, 'Neg': 3}, 'siri': {'Pos': 11, 'Neg': 14}, 'said': {'Pos': 2, 'Neg': 2}, 'far.': {'Pos': 1}, 'sooo': {'Pos': 1}, 'glad': {'Pos': 2, 'Neg': 3}, 'gave': {'Pos': 2}, 'sens': {'Pos': 1}, 'humor!': {'Pos': 1}, 'http://t.co/twaeudbp': {'Pos': 1}, 'great': {'Pos': 11, 'Neg': 5}, 'close': {'Pos': 1, 'Neg': 1}, 'person': {'Pos': 1, 'Neg': 1}, 'event': {'Pos': 1}, 'tonight': {'Pos': 1}, 'regent': {'Pos': 1, 'Neg': 1}, 'store!': {'Pos': 2}, 'from': {'Pos': 13, 'Neg': 16}, 'which': {'Pos': 1, 'Neg': 3}, 'compani': {'Pos': 1, 'Neg': 1}, 'experi': {'Pos': 1, 'Neg': 4}, 'best': {'Pos': 4, 'Neg': 2}, 'custom': {'Pos': 5, 'Neg': 15}, 'servic': {'Pos': 9, 'Neg': 13}, 'asid': {'Pos': 1}, 'appli': {'Pos': 1}, 'hope': {'Pos': 3, 'Neg': 4}, 'they': {'Pos': 2, 'Neg': 16}, 'call': {'Pos': 3, 'Neg': 7}, 'lmao': {'Pos': 2}, 'think': {'Pos': 6, 'Neg': 6}, 'onto': {'Pos': 2}, 'someth': {'Pos': 3, 'Neg': 2}, 'magical!': {'Pos': 3}, 'dying!!!': {'Pos': 2}, 'haha.': {'Pos': 2}, 'suggest': {'Pos': 2, 'Neg': 1}, 'where': {'Pos': 5, 'Neg': 3}, 'find': {'Pos': 3, 'Neg': 2}, 'whore': {'Pos': 2}, 'hide': {'Pos': 1, 'Neg': 1}, 'bodi': {'Pos': 1}, 'lolol': {'Pos': 1}, 'regist': {'Pos': 2}, 'developer...': {'Pos': 2}, \"here'\": {'Pos': 2}, 'actual': {'Pos': 5, 'Neg': 2}, 'it...': {'Pos': 2}, 'help': {'Pos': 3, 'Neg': 1}, 'greatli': {'Pos': 2}, 'appreciated!': {'Pos': 2}, 'wow.': {'Pos': 1, 'Neg': 1}, 'deal': {'Pos': 2, 'Neg': 2}, 'refurb': {'Pos': 1}, '(first': {'Pos': 1}, 'gen)': {'Pos': 1}, 'models.': {'Pos': 1}, 'appl': {'Pos': 5, 'Neg': 16}, 'offer': {'Pos': 2}, 'refurbish': {'Pos': 1}, '1st-gen': {'Pos': 1}, 'ipad': {'Pos': 5, 'Neg': 9}, 'http://t.co/ukwokbgd': {'Pos': 1}, 'learn': {'Pos': 2}, 'mandarin': {'Pos': 1}, 'upcom': {'Pos': 1}, 'trip': {'Pos': 1}, 'hong': {'Pos': 1}, 'kong.': {'Pos': 1}, 'gotta': {'Pos': 1, 'Neg': 4}, 'hand': {'Pos': 2}, 'their': {'Pos': 2, 'Neg': 4}, 'uber': {'Pos': 1}, 'use': {'Pos': 6, 'Neg': 9}, 'flashcard': {'Pos': 1}, 'app': {'Pos': 3, 'Neg': 12}, 'come': {'Pos': 1, 'Neg': 3}, 'dark': {'Pos': 1}, 'side': {'Pos': 2}, 'send': {'Pos': 3, 'Neg': 10}, 'free': {'Pos': 6}, 'publicli': {'Pos': 2}, 'ceremoni': {'Pos': 2}, 'burn': {'Pos': 2}, '(ani': {'Pos': 1}, 'version': {'Pos': 1, 'Neg': 3}, 'locat': {'Pos': 1, 'Neg': 2}, 'wipe': {'Pos': 1}, 'stolen': {'Pos': 1}, 'air.': {'Pos': 1}, 'covent': {'Pos': 1}, 'garden': {'Pos': 1, 'Neg': 1}, 'replac': {'Pos': 11, 'Neg': 2}, 'macbook': {'Pos': 6, 'Neg': 2}, 'keyboard/crack': {'Pos': 1}, 'wristpad': {'Pos': 1}, 'dure': {'Pos': 1}, 'lunch': {'Pos': 1}, 'break': {'Pos': 1, 'Neg': 2}, 'today': {'Pos': 4, 'Neg': 1}, 'warranty.': {'Pos': 1}, 'thanks!!': {'Pos': 1}, 'bound': {'Pos': 1}, 'playbook': {'Pos': 1}, 'some': {'Pos': 1, 'Neg': 7}, 'n.f.l.': {'Pos': 1}, 'team': {'Pos': 1, 'Neg': 1}, 'http://t.co/2uxawkwf': {'Pos': 1}, 'eff': {'Pos': 1}, 'amazing!!': {'Pos': 1}, 'amaz': {'Pos': 5}, 'feature.': {'Pos': 1}, 'http://t.co/jatfvfpm': {'Pos': 1}, \"we'r\": {'Pos': 2}, 'featur': {'Pos': 3, 'Neg': 4}, 'educ': {'Pos': 2}, '**website**': {'Pos': 2}, 'sweet!': {'Pos': 3}, 'http://t.co/0ywvbe1z': {'Pos': 2}, 'when': {'Pos': 7, 'Neg': 13}, 'want': {'Pos': 3, 'Neg': 7}, 'done': {'Pos': 5, 'Neg': 6}, 'right': {'Pos': 3, 'Neg': 8}, 'yourself...': {'Pos': 1}, 'at&t': {'Pos': 1}, \"you'r\": {'Pos': 1, 'Neg': 4}, 'useless': {'Pos': 1, 'Neg': 1}, 'these': {'Pos': 1}, 'days.': {'Pos': 2}, 'unexpect': {'Pos': 1}, 'workshop': {'Pos': 1}, 'yesterday': {'Pos': 1}, 'awesom': {'Pos': 5, 'Neg': 1}, 'amount': {'Pos': 1}, 'info': {'Pos': 1}, '&lt;3': {'Pos': 2}, 'question': {'Pos': 1, 'Neg': 2}, 'bro.': {'Pos': 1}, 'over': {'Pos': 4, 'Neg': 1}, 'peopl': {'Pos': 4, 'Neg': 2}, 'bitch': {'Pos': 2}, 'about': {'Pos': 7, 'Neg': 15}, \"it'\": {'Pos': 7, 'Neg': 12}, 'smartest': {'Pos': 2}, 'phone': {'Pos': 9, 'Neg': 20}, \"i'v\": {'Pos': 2, 'Neg': 5}, 'ever': {'Pos': 4, 'Neg': 1}, 'veri': {'Pos': 5, 'Neg': 6}, 'happy.': {'Pos': 2}, 'point': {'Pos': 1, 'Neg': 2}, \"'corpor\": {'Pos': 1}, \"mentor'\": {'Pos': 1}, 'signup': {'Pos': 1}, 'tripl': {'Pos': 1}, 'http://t.co/gcy8iphn': {'Pos': 1}, 'thxx': {'Pos': 1}, 'appstor': {'Pos': 1}, 'well': {'Pos': 8, 'Neg': 2}, 'itun': {'Pos': 1, 'Neg': 15}, 'mobil': {'Pos': 1, 'Neg': 3}, 'devices.': {'Pos': 1}, 'talk': {'Pos': 1, 'Neg': 3}, 'desktop': {'Pos': 1, 'Neg': 1}, 'app.': {'Pos': 1, 'Neg': 1}, 'nytimes:': {'Pos': 1}, 'coach': {'Pos': 1}, 'you.': {'Pos': 1}, 'bring': {'Pos': 1, 'Neg': 2}, 'your': {'Pos': 7, 'Neg': 27}, 'ipad.': {'Pos': 1, 'Neg': 1}, 'http://t.co/j2ftieng': {'Pos': 1}, 'wish': {'Pos': 1, 'Neg': 3}, 'sell': {'Pos': 4, 'Neg': 1}, 'million': {'Pos': 5}, 'unit': {'Pos': 1}, 'first': {'Pos': 3, 'Neg': 5}, 'weekend': {'Pos': 4}, 'steve': {'Pos': 3, 'Neg': 5}, 'job': {'Pos': 1, 'Neg': 2}, 'brillianc': {'Pos': 1}, 'live': {'Pos': 1}, 'ever!': {'Pos': 1}, 'than': {'Pos': 4, 'Neg': 7}, 'apolog': {'Pos': 1}, 'download': {'Pos': 2, 'Neg': 1}, 'prove': {'Pos': 1}, 'popular': {'Pos': 1}, 'http://t.co/nshlfiux': {'Pos': 1}, 'lmfao': {'Pos': 1}, 'look': {'Pos': 3, 'Neg': 4}, 'argument': {'Pos': 1}, 'http://t.co/d4vjl7si': {'Pos': 1}, 'incredible:': {'Pos': 1}, '135%': {'Pos': 1}, 'better': {'Pos': 4, 'Neg': 7}, 'http://t.co/1fmjxtmm': {'Pos': 1}, 'save': {'Pos': 1, 'Neg': 5}, 'unwant': {'Pos': 1}, 'have': {'Pos': 7, 'Neg': 32}, 'seen': {'Pos': 2}, 'light!': {'Pos': 1}, 'http://t.co/8gup9acz': {'Pos': 1}, 'fix': {'Pos': 4, 'Neg': 5}, 'batteri': {'Pos': 2, 'Neg': 15}, 'drain': {'Pos': 1, 'Neg': 2}, 'problem': {'Pos': 1, 'Neg': 6}, 'work': {'Pos': 3, 'Neg': 15}, 'like': {'Pos': 4, 'Neg': 13}, 'champ': {'Pos': 1}, 'order': {'Pos': 1, 'Neg': 2}, 'brand': {'Pos': 1}, 'pro!!!': {'Pos': 2}, 'bahhh...': {'Pos': 1}, 'year': {'Pos': 2, 'Neg': 5}, 'old.': {'Pos': 1}, \"i'll\": {'Pos': 1}, 'miss': {'Pos': 2, 'Neg': 8}, 'time.': {'Pos': 1, 'Neg': 2}, 'blessed.': {'Pos': 1}, 'know': {'Pos': 1, 'Neg': 6}, 'brother': {'Pos': 2}, 'girlfriend': {'Pos': 1}, 'least': {'Pos': 1, 'Neg': 1}, 'store': {'Pos': 9, 'Neg': 13}, 'wait': {'Pos': 1, 'Neg': 12}, 'music!': {'Pos': 1}, 'glass': {'Pos': 1}, 'bad!': {'Pos': 1, 'Neg': 1}, 'debut': {'Pos': 1}, 'bloomberg': {'Pos': 1}, 'http://t.co/avsl3ygu': {'Pos': 1}, 'technolog': {'Pos': 2}, 'icloud': {'Pos': 2, 'Neg': 6}, 'unreal': {'Pos': 1}, 'thi': {'Pos': 10, 'Neg': 38}, 'updat': {'Pos': 7, 'Neg': 24}, 'anoth': {'Pos': 3, 'Neg': 6}, 'mention': {'Pos': 1}, 'store:': {'Pos': 1}, 'http://t.co/fiioapkt': {'Pos': 1}, 'onc': {'Pos': 2}, 'again': {'Pos': 3, 'Neg': 2}, 'get': {'Pos': 5, 'Neg': 4}, 'time': {'Pos': 6, 'Neg': 22}, 'forward': {'Pos': 2}, 'stick': {'Pos': 1}, 'longer': {'Pos': 2}, 'pay': {'Pos': 1}, 'most': {'Pos': 1, 'Neg': 5}, 'texts.': {'Pos': 1, 'Neg': 1}, 'hate': {'Pos': 1, 'Neg': 8}, 'comput': {'Pos': 1, 'Neg': 5}, 'need': {'Pos': 2, 'Neg': 15}, 'wanna': {'Pos': 1, 'Neg': 3}, 'one.': {'Pos': 1, 'Neg': 1}, 'gf(iphone4s)': {'Pos': 1}, 'great!': {'Pos': 1}, 'everything!': {'Pos': 1}, 'flawless': {'Pos': 1, 'Neg': 1}, 'champ!': {'Pos': 1}, 'cloud': {'Pos': 2, 'Neg': 2}, 'total': {'Pos': 1, 'Neg': 5}, 'email': {'Pos': 2, 'Neg': 1}, 'company...': {'Pos': 1}, 'alway': {'Pos': 1, 'Neg': 2}, 'upgrad': {'Pos': 4, 'Neg': 15}, 'iphone!': {'Pos': 3, 'Neg': 1}, 'nice': {'Pos': 6, 'Neg': 1}, 'tech': {'Pos': 1, 'Neg': 3}, 'itouch': {'Pos': 1, 'Neg': 2}, 'millenia': {'Pos': 1}, 'mall.': {'Pos': 1}, 'faster': {'Pos': 1}, 'ipad?': {'Pos': 1, 'Neg': 1}, 'imac': {'Pos': 1, 'Neg': 1}, 'even': {'Pos': 1, 'Neg': 5}, 'though': {'Pos': 1, 'Neg': 1}, \"haven't\": {'Pos': 1}, 'hubbi': {'Pos': 1}, 'day': {'Pos': 4}, 'now!': {'Pos': 2}, 'make': {'Pos': 4, 'Neg': 12}, 'store)': {'Pos': 1, 'Neg': 1}, 'http://t.co/kj6pjvkh': {'Pos': 1}, 'incred': {'Pos': 1}, 'go': {'Pos': 2, 'Neg': 6}, 'abov': {'Pos': 2}, 'beyond': {'Pos': 1}, 'water-damag': {'Pos': 1}, 'wow!': {'Pos': 1, 'Neg': 1}, 'play': {'Pos': 3, 'Neg': 2}, 'man.': {'Pos': 2}, 'camera': {'Pos': 1, 'Neg': 2}, 'http://t.co/tmdfqre1': {'Pos': 1}, 'yeah...': {'Pos': 1}, 'chang': {'Pos': 2, 'Neg': 2}, 'life.': {'Pos': 2, 'Neg': 3}, 'safari': {'Pos': 1}, 'reader': {'Pos': 1}, 'own': {'Pos': 1}, 'worldwid': {'Pos': 1}, 'case': {'Pos': 2}, 'crack': {'Pos': 3}, 'walk': {'Pos': 1, 'Neg': 1}, '(-2)': {'Pos': 1}, 'laid': {'Pos': 1}, 'next': {'Pos': 3, 'Neg': 3}, 'last': {'Pos': 3, 'Neg': 1}, '2012': {'Pos': 2}, 'iphone4s.': {'Pos': 1}, 'iphone(4g/5)': {'Pos': 1}, 'http://t.co/dxxklubp': {'Pos': 1}, 'kind': {'Pos': 2}, 'excited.': {'Pos': 1}, 'class': {'Pos': 1}, 'then': {'Pos': 1, 'Neg': 4}, 'snow': {'Pos': 1}, 'leopard': {'Pos': 1}, 'lion': {'Pos': 1, 'Neg': 6}, '4-5yr': {'Pos': 1}, 'after': {'Pos': 3, 'Neg': 20}, 'disrupt': {'Pos': 1}, 'lost': {'Pos': 1, 'Neg': 4}, 'gig': {'Pos': 1}, 'keep': {'Pos': 1, 'Neg': 5}, 'do': {'Pos': 3, 'Neg': 1}, 'what': {'Pos': 5, 'Neg': 15}, 'becaus': {'Pos': 1, 'Neg': 2}, 'well!': {'Pos': 1}, 'http://t.co/zzc6be0w': {'Pos': 1}, 'yessss!': {'Pos': 1}, 'lovin': {'Pos': 1}, 'especi': {'Pos': 1}, 'slide': {'Pos': 1}, 'down': {'Pos': 4, 'Neg': 8}, 'screen': {'Pos': 3, 'Neg': 4}, 'good': {'Pos': 4, 'Neg': 5}, 'second.': {'Pos': 1}, 'madness?!': {'Pos': 1}, 'invested.': {'Pos': 1}, 'year.': {'Pos': 1}, 'gear': {'Pos': 1, 'Neg': 1}, 'there...!': {'Pos': 1}, 'sent': {'Pos': 2, 'Neg': 2}, 'grandma': {'Pos': 1}, 'post': {'Pos': 2, 'Neg': 1}, 'card': {'Pos': 4, 'Neg': 1}, 'sorri': {'Pos': 1, 'Neg': 5}, 'put': {'Pos': 1}, 'wash': {'Pos': 1, 'Neg': 1}, 'equival': {'Pos': 1}, 'blend?': {'Pos': 1}, 'hear': {'Pos': 1, 'Neg': 5}, 'still': {'Pos': 2, 'Neg': 9}, 'alive.': {'Pos': 1}, 'launder': {'Pos': 1}, \"ari'\": {'Pos': 1}, 'finest': {'Pos': 1}, 'moment.': {'Pos': 1}, 'dri': {'Pos': 1}, '(organ': {'Pos': 1}, 'rice': {'Pos': 1}, 'boot': {'Pos': 1}, 'up!!!!!!!!!!!': {'Pos': 1}, 'bravo': {'Pos': 2}, 'http://t.co/bgotzj7k': {'Pos': 1}, 'bless': {'Pos': 1}, 'system.': {'Pos': 1}, 'been': {'Pos': 2, 'Neg': 14}, 'smash': {'Pos': 1, 'Neg': 1}, 'were': {'Pos': 2, 'Neg': 2}, 'lock': {'Pos': 1}, 'open': {'Pos': 1, 'Neg': 5}, 'unlocking.': {'Pos': 1}, 'word': {'Pos': 1, 'Neg': 2}, 'sale': {'Pos': 1}, 'four': {'Pos': 1}, 'million:': {'Pos': 1}, 'http://t.co/zx5pw0gt': {'Pos': 1}, '(via': {'Pos': 1, 'Neg': 1}, 'here': {'Pos': 1, 'Neg': 1}, 'today.': {'Pos': 1, 'Neg': 3}, 'god': {'Pos': 1}, 'easter': {'Pos': 3}, 'eggs.': {'Pos': 3}, 'pull': {'Pos': 6, 'Neg': 1}, 'middl': {'Pos': 3}, 'bottom': {'Pos': 3}, 'down.': {'Pos': 3, 'Neg': 2}, 'feature!': {'Pos': 3}, 'start': {'Pos': 1, 'Neg': 1}, 'services.': {'Pos': 1}, 'champ.': {'Pos': 1}, 'gone': {'Pos': 1, 'Neg': 2}, 'beauti': {'Pos': 1, 'Neg': 1}, 'morn': {'Pos': 1}, 'simpli': {'Pos': 1}, 'best.': {'Pos': 2}, 'must': {'Pos': 2, 'Neg': 5}, 'admit': {'Pos': 1}, 'happi': {'Pos': 1, 'Neg': 2}, 'camper!': {'Pos': 1}, 'text': {'Pos': 2, 'Neg': 2}, 'tone': {'Pos': 1}, 'lol!': {'Pos': 1}, 'ring': {'Pos': 1, 'Neg': 1}, 'tone:': {'Pos': 2}, 'drake': {'Pos': 1}, 'vers!': {'Pos': 1}, \"nicki'\": {'Pos': 1}, 'day305': {'Pos': 1}, 'receiv': {'Pos': 1}, 'ipod': {'Pos': 2, 'Neg': 3}, 'wife': {'Pos': 1}, 'alon': {'Pos': 1, 'Neg': 1}, 'worth': {'Pos': 1}, 'upgrade.': {'Pos': 2, 'Neg': 1}, 'continu': {'Pos': 1, 'Neg': 2}, 'enhanc': {'Pos': 1}, 'http://t.co/bppjwncp': {'Pos': 1}, 'be': {'Pos': 1, 'Neg': 2}, 'honor': {'Pos': 1}, 'tonit': {'Pos': 1}, 'truli': {'Pos': 2}, 'loss': {'Pos': 1}, 'world.h': {'Pos': 1}, 'http://t.co/d7eejhbt': {'Pos': 1}, 'this.': {'Pos': 1, 'Neg': 2}, 'much.': {'Pos': 1, 'Neg': 1}, 'http://t.co/ui8loezx': {'Pos': 1}, 'notifi': {'Pos': 1}, 'arriv': {'Pos': 1}, 'local': {'Pos': 1}, 'offic': {'Pos': 1, 'Neg': 1}, 'deliv': {'Pos': 1, 'Neg': 2}, 'today...': {'Pos': 1}, 'sunday.': {'Pos': 1}, 'i0s5': {'Pos': 1}, 'updates.': {'Pos': 1}, \"can't\": {'Pos': 1, 'Neg': 15}, 'somehow': {'Pos': 1}, 'simplifi': {'Pos': 1}, 'life': {'Pos': 1, 'Neg': 3}, 'more.': {'Pos': 1, 'Neg': 1}, \"that'\": {'Pos': 2, 'Neg': 3}, \"right-it'\": {'Pos': 1}, 'apple.': {'Pos': 1}, 'iphone4': {'Pos': 1, 'Neg': 5}, 'siri!': {'Pos': 1}, 'meet': {'Pos': 1}, 'butler.': {'Pos': 1}, 'click': {'Pos': 1, 'Neg': 2}, 'link': {'Pos': 1}, 'http://t.co/lvffdcel': {'Pos': 1}, '(never': {'Pos': 1}, 'ever)': {'Pos': 1}, 'feel': {'Pos': 2, 'Neg': 1}, 'worst': {'Pos': 1, 'Neg': 6}, 'speaker': {'Pos': 1}, 'ever!!': {'Pos': 1}, 'spoil': {'Pos': 1}, 'me!!': {'Pos': 1}, 'http://t.co/a8on3iaa': {'Pos': 1}, 'imessage...good': {'Pos': 1}, 'luck': {'Pos': 1}, 'surviv': {'Pos': 1}, 'have.': {'Pos': 1}, '{welcom': {'Pos': 1}, 'club}': {'Pos': 1}, 'innovations.': {'Pos': 1}, 'exhibit': {'Pos': 1}, 'facetim': {'Pos': 1}, 'instead': {'Pos': 1, 'Neg': 1}, 'watch': {'Pos': 1}, 'game': {'Pos': 1, 'Neg': 1}, 'sport': {'Pos': 1}, 'bar.': {'Pos': 1, 'Neg': 1}, 'http://t.co/ou7k39g': {'Pos': 1}, 'wuhu!!!!!!!!': {'Pos': 1}, 'berri': {'Pos': 1}, 'power': {'Pos': 2}, 'work??': {'Pos': 1}, 'ever....': {'Pos': 1}, 'guy': {'Pos': 1, 'Neg': 4}, 'http://t.co/nsaisrip': {'Pos': 1}, 'witchcraft.': {'Pos': 1}, \"what'\": {'Pos': 1, 'Neg': 3}, 'lead': {'Pos': 1, 'Neg': 2}, 'lost?': {'Pos': 1}, 'notif': {'Pos': 1, 'Neg': 1}, 'search': {'Pos': 1, 'Neg': 1}, 'cover': {'Pos': 1}, 'mail': {'Pos': 1, 'Neg': 1}, 'wifi': {'Pos': 1}, 'sync': {'Pos': 1, 'Neg': 9}, 'backup': {'Pos': 1}, 'integr': {'Pos': 1, 'Neg': 1}, 'done.': {'Pos': 1}, 'jame': {'Pos': 2}, 'stewart': {'Pos': 2}, 'stori': {'Pos': 2}, \"today'\": {'Pos': 2}, 'import': {'Pos': 2}, 'architectur': {'Pos': 2}, 'retail': {'Pos': 2}, 'success': {'Pos': 2, 'Neg': 1}, 'http://t.': {'Pos': 1}, 'http://t.co/kniz452': {'Pos': 1}, 'http://t.co/ondxwp': {'Pos': 1}, 'welcom': {'Pos': 1}, 'world': {'Pos': 1, 'Neg': 2}, 'guys.': {'Pos': 1}, 'impress': {'Pos': 3, 'Neg': 1}, 'geniu': {'Pos': 1, 'Neg': 8}, 'metro': {'Pos': 1}, 'centre.': {'Pos': 1}, 'cabl': {'Pos': 1}, 'book': {'Pos': 1, 'Neg': 3}, 'grati': {'Pos': 2}, 'show': {'Pos': 3, 'Neg': 5}, 'hairlin': {'Pos': 2}, 'screen.': {'Pos': 2, 'Neg': 3}, 'day.': {'Pos': 1, 'Neg': 4}, \"hasn't\": {'Pos': 1, 'Neg': 1}, 'happen': {'Pos': 1, 'Neg': 3}, 'sinc': {'Pos': 1, 'Neg': 8}, 'edg': {'Pos': 1}, 'would': {'Pos': 1, 'Neg': 9}, 'taken': {'Pos': 1}, 'min': {'Pos': 1}, 'write': {'Pos': 1}, 'convert': {'Pos': 1}, 'grass': {'Pos': 1}, 'greener!': {'Pos': 1}, 'backsid': {'Pos': 2}, 'phone!': {'Pos': 2, 'Neg': 1}, 'space': {'Pos': 1, 'Neg': 2}, 'http://t.co/jinnhvwz': {'Pos': 1}, 'product': {'Pos': 2, 'Neg': 7}, 'inspir': {'Pos': 1}, 'unbeliev': {'Pos': 1}, '_ibertaddigital.tv/': {'Pos': 1}, 'briliant': {'Pos': 1}, 'stevejob': {'Pos': 1}, 'produck': {'Pos': 1}, 'present...': {'Pos': 1}, 'http://t.co/dbbwsdpx': {'Pos': 1}, 'awsom': {'Pos': 1}, 'ipad...': {'Pos': 1}, 'ipod.': {'Pos': 1}, 'amazing!': {'Pos': 1}, '......': {'Pos': 1}, 'feature.....': {'Pos': 1}, 'requir': {'Pos': 1, 'Neg': 1}, 'ilovey': {'Pos': 1}, 'final': {'Pos': 2}, 'stupid': {'Pos': 1, 'Neg': 1}, 'lesson.': {'Pos': 1}, 'absolut': {'Pos': 2, 'Neg': 2}, 'invent': {'Pos': 1, 'Neg': 2}, 'parent': {'Pos': 1}, \"he'\": {'Pos': 1}, 'going.': {'Pos': 1}, 'amazing.': {'Pos': 2}, 'dammit': {'Pos': 1}, 'listen': {'Pos': 1}, 'creat': {'Pos': 1}, 'folder': {'Pos': 1, 'Neg': 1}, 'within': {'Pos': 1}, 'photo': {'Pos': 2, 'Neg': 4}, 'album': {'Pos': 1, 'Neg': 3}, 'finally!!': {'Pos': 1}, 'thorn': {'Pos': 1}, 'while.': {'Pos': 1}, 'workstat': {'Pos': 1}, 'die': {'Pos': 1, 'Neg': 2}, 'months.': {'Pos': 1}, 'long': {'Pos': 1}, 'hello': {'Pos': 1, 'Neg': 1}, 'realli': {'Pos': 1, 'Neg': 14}, 'throw': {'Pos': 1, 'Neg': 1}, 'trash': {'Pos': 1}, 'upload': {'Pos': 1}, 'issues!': {'Pos': 1}, 'submit': {'Pos': 1}, 'support!': {'Pos': 1, 'Neg': 1}, 'chris!': {'Pos': 1}, 'this...': {'Pos': 2}, 'http://t.co/wtj1ogdo': {'Pos': 2}, 'crazi': {'Pos': 1}, 'crop': {'Pos': 1}, 'best!': {'Pos': 1}, 'hell': {'Pos': 1, 'Neg': 1}, 'yes!!!': {'Pos': 1}, 'contact': {'Pos': 1, 'Neg': 5}, 'back!!': {'Pos': 1}, 'fu*k': {'Pos': 1}, 'prop': {'Pos': 1}, 'employe': {'Pos': 1}, \"didn't\": {'Pos': 1, 'Neg': 3}, 'charg': {'Pos': 1, 'Neg': 7}, 'back': {'Pos': 1, 'Neg': 7}, 'plate': {'Pos': 1}, 'day!': {'Pos': 1, 'Neg': 1}, 'mous': {'Pos': 1, 'Neg': 1}, 'sweet': {'Pos': 1, 'Neg': 1}, \"siri'\": {'Pos': 1, 'Neg': 1}, 'voic': {'Pos': 1, 'Neg': 4}, 'recognit': {'Pos': 1, 'Neg': 1}, 'step': {'Pos': 1, 'Neg': 2}, 'previou': {'Pos': 1}, 'attempts.': {'Pos': 1}, 'kevin': {'Pos': 1}, 'expected!': {'Pos': 1}, 'touch.': {'Pos': 1}, 'amazing!!!': {'Pos': 1}, 'love!': {'Pos': 1}, 'appar': {'Neg': 4}, 'update.': {'Neg': 3}, '25mb': {'Neg': 2}, 'storag': {'Neg': 3}, 'befor': {'Neg': 3}, 'tell': {'Neg': 6}, 'inbox': {'Neg': 2}, 'full.': {'Neg': 2}, 'expensive.': {'Neg': 2}, 'went': {'Neg': 5}, 'htc/galaxy.': {'Neg': 2}, 'loyalti': {'Neg': 2}, 'w/phone': {'Neg': 2}, 'comp..': {'Neg': 2}, 'kill': {'Neg': 4}, 'http://t.co/72jw4z5c': {'Neg': 1}, 'tune': {'Neg': 1}, 'iphone?': {'Neg': 1}, 'lone': {'Neg': 1}, 'without': {'Neg': 3}, 'them.': {'Neg': 1}, 'silli': {'Neg': 1}, 'hurri': {'Neg': 2}, 'releas': {'Neg': 4}, 'exchang': {'Neg': 1}, 'cord': {'Neg': 2}, 'genius?': {'Neg': 1}, 'airdrop': {'Neg': 1}, 'immedi': {'Neg': 1}, 'declin': {'Neg': 1}, 'request.': {'Neg': 1}, 'everi': {'Neg': 7}, 'articl': {'Neg': 1}, 'fuck': {'Neg': 29}, 'future.': {'Neg': 1}, 'http://t.co/zndp9vr6': {'Neg': 1}, 'yellowgate?': {'Neg': 2}, 'complain': {'Neg': 2}, 'yellow': {'Neg': 2}, 'tint': {'Neg': 2}, 'http://t.co/uaqrxtnk': {'Neg': 2}, 'it..': {'Neg': 1}, 'pictur': {'Neg': 1}, 'list!': {'Neg': 1}, 'simpl': {'Neg': 2}, 'major': {'Neg': 2}, 'ask': {'Neg': 2}, 'dream': {'Neg': 1}, 'electr': {'Neg': 1}, 'sleep.': {'Neg': 1}, 'snippi': {'Neg': 1}, 'answer.': {'Neg': 2}, 'opportun': {'Neg': 1}, 'surpris': {'Neg': 1}, 'error': {'Neg': 1}, 'alert': {'Neg': 1}, 'author': {'Neg': 4}, \"there'\": {'Neg': 2}, 'button.': {'Neg': 1}, 'shhhh.': {'Neg': 1}, 'evil': {'Neg': 1}, 'sith': {'Neg': 1}, 'lord': {'Neg': 1}, 'blaze': {'Neg': 1}, 'inferno.': {'Neg': 1}, 'obvious': {'Neg': 1}, 'noth': {'Neg': 6}, 'iphoto': {'Neg': 1}, 'perfect': {'Neg': 1}, 'opposit': {'Neg': 1}, \"'insan\": {'Neg': 1}, \"great'.\": {'Neg': 1}, 'please.': {'Neg': 1}, 'delet': {'Neg': 3}, 'music': {'Neg': 5}, 'dick': {'Neg': 2}, '-&gt;': {'Neg': 1}, 'authoris': {'Neg': 1}, \"doesn't\": {'Neg': 14}, 'auto-authoris': {'Neg': 1}, 'sign': {'Neg': 2}, 'itunes?': {'Neg': 1}, 'grrrr...': {'Neg': 1}, 'serious': {'Neg': 5}, 'of': {'Neg': 1}, 'clue': {'Neg': 1}, 'mean': {'Neg': 1}, 'could': {'Neg': 7}, 'harder': {'Neg': 2}, 'purchas': {'Neg': 7}, 'pro?': {'Neg': 1}, 'shit': {'Neg': 8}, 'shit.': {'Neg': 5}, 'data': {'Neg': 6}, 'media': {'Neg': 1}, 'would.': {'Neg': 1}, 'take': {'Neg': 4}, 'rebuild.': {'Neg': 1}, 'cannot': {'Neg': 4}, 'there': {'Neg': 3}, \"isn't\": {'Neg': 8}, '64gb': {'Neg': 1}, 'vegas!!': {'Neg': 1}, 'give': {'Neg': 5}, 'break!!!!': {'Neg': 1}, 'downloads.': {'Neg': 1}, 'hour': {'Neg': 12}, 'i-pad': {'Neg': 1}, 'wonky!': {'Neg': 1}, 'dear': {'Neg': 15}, 'notbook': {'Neg': 1}, 'profit': {'Neg': 1}, 'lack': {'Neg': 2}, 'both!!!': {'Neg': 1}, 'phone.': {'Neg': 3}, 'ruin': {'Neg': 1}, \"you'v\": {'Neg': 2}, 'turn': {'Neg': 8}, 'utterli': {'Neg': 2}, 'pile': {'Neg': 1}, 'option': {'Neg': 1}, '?not': {'Neg': 1}, 'sure': {'Neg': 4}, 'duff': {'Neg': 1}, '2001?': {'Neg': 1}, 'almost': {'Neg': 1}, 'week': {'Neg': 4}, 'paid': {'Neg': 2}, 'match': {'Neg': 1}, 'fix?': {'Neg': 1}, 'remov': {'Neg': 1}, 'hella': {'Neg': 1}, 'hard': {'Neg': 3}, 'what???': {'Neg': 1}, 'suck': {'Neg': 7}, 'interest': {'Neg': 1}, 'note': {'Neg': 1}, 'droid': {'Neg': 3}, \"razr'\": {'Neg': 1}, 'removable.': {'Neg': 1}, 'preorder': {'Neg': 1}, 'launch': {'Neg': 2}, 'can': {'Neg': 1}, 'jackass': {'Neg': 1}, 'shoot': {'Neg': 1}, 'blend': {'Neg': 1}, 'shuffl': {'Neg': 1}, 'etc..': {'Neg': 1}, 'sound': {'Neg': 4}, 'qualiti': {'Neg': 3}, 'awful..': {'Neg': 1}, 'pain': {'Neg': 4}, 'crap.': {'Neg': 1}, 'downgrad': {'Neg': 1}, 'wise': {'Neg': 1}, 'slow': {'Neg': 3}, 'stuck': {'Neg': 4}, 'half': {'Neg': 5}, 'uch.': {'Neg': 1}, 'other': {'Neg': 3}, 'damage.': {'Neg': 1}, 'such': {'Neg': 5}, 'thorough': {'Neg': 1}, 'icloud.': {'Neg': 1}, 'cost': {'Neg': 1}, 'mightily.': {'Neg': 1}, 'includ': {'Neg': 2}, 'song': {'Neg': 1}, 'compil': {'Neg': 1}, 'under': {'Neg': 1}, \"artist'\": {'Neg': 1}, 'name.': {'Neg': 1}, 'rcve': {'Neg': 1}, 'txt': {'Neg': 1}, '4pm.then': {'Neg': 1}, 'exclaims:': {'Neg': 1}, 'whole': {'Neg': 1}, 'phone!!lmao': {'Neg': 1}, 'chao': {'Neg': 1}, 'street.': {'Neg': 1}, 'ethiopian': {'Neg': 1}, 'feed': {'Neg': 1}, 'station.': {'Neg': 1}, 'believ': {'Neg': 2}, 'same': {'Neg': 4}, 'cool': {'Neg': 1}, 'survey!': {'Neg': 1}, 'correction:': {'Neg': 1}, 'kudo': {'Neg': 1}, 'chri': {'Neg': 1}, 'alamo': {'Neg': 1}, 'ranch': {'Neg': 1}, 's.a.': {'Neg': 1}, 'tx-fix': {'Neg': 1}, 'issu': {'Neg': 14}, \"couldn't\": {'Neg': 2}, 'resolv': {'Neg': 3}, 'hero': {'Neg': 1}, 'stand': {'Neg': 1}, 'line': {'Neg': 5}, 'newest': {'Neg': 1}, 'model': {'Neg': 1}, 'suckers...': {'Neg': 1}, 'braill': {'Neg': 1}, 'type': {'Neg': 2}, 'bump': {'Neg': 1}, 'earbud': {'Neg': 1}, 'dark.': {'Neg': 1}, 'crush': {'Neg': 1}, 'dreams....': {'Neg': 1}, 'already??': {'Neg': 2}, '---&gt;': {'Neg': 2}, 'schedul': {'Neg': 3}, 'summer': {'Neg': 2}, 'launch?': {'Neg': 2}, 'http://t.co/ofh9ptag': {'Neg': 2}, \"won't\": {'Neg': 9}, 'until': {'Neg': 1}, 'thursday': {'Neg': 1}, 'avail': {'Neg': 2}, 'appoint': {'Neg': 2}, \"'genius'\": {'Neg': 1}, 'luck.': {'Neg': 1}, 'wtf?!?!': {'Neg': 1}, 'allow': {'Neg': 1}, 'push': {'Neg': 1}, 'newstand?': {'Neg': 1}, 'yap': {'Neg': 1}, 'fuck!': {'Neg': 1}, 'messag': {'Neg': 5}, 'icon': {'Neg': 2}, 'used?': {'Neg': 1}, 'yea!': {'Neg': 1}, 'pre-ord': {'Neg': 1}, 'through': {'Neg': 2}, 'interesting...': {'Neg': 1}, 'reserv': {'Neg': 5}, 'http://t.co/zzk4ftii': {'Neg': 1}, 'crappi': {'Neg': 2}, 'keyboard': {'Neg': 3}, 'stickies?': {'Neg': 1}, \"they'v\": {'Neg': 1}, 'around': {'Neg': 1}, 'progress': {'Neg': 1}, 'them!!': {'Neg': 1}, 'why?': {'Neg': 1}, 'function': {'Neg': 3}, 'page': {'Neg': 3}, 'aw': {'Neg': 2}, 'interrupt': {'Neg': 1}, 'counter-intuit': {'Neg': 1}, 'piec': {'Neg': 4}, 'crap': {'Neg': 2}, 'computer.': {'Neg': 2}, '3500': {'Neg': 1}, 'dollar': {'Neg': 1}, 'drain.': {'Neg': 1}, 'slowly!!!!!': {'Neg': 1}, 'ipad1': {'Neg': 1}, 'beta7/8': {'Neg': 1}, 'solv': {'Neg': 1}, 'ipad2': {'Neg': 1}, 'pick': {'Neg': 2}, 'month': {'Neg': 1}, 'set': {'Neg': 1}, 'calendar': {'Neg': 2}, 'item': {'Neg': 5}, 'yet?!': {'Neg': 1}, 'program': {'Neg': 2}, 'ever.': {'Neg': 3}, 'software.': {'Neg': 2}, 'better.': {'Neg': 4}, '$319': {'Neg': 1}, 'repair': {'Neg': 2}, '$700': {'Neg': 1}, 'android': {'Neg': 1}, 'come!': {'Neg': 1}, 'proper': {'Neg': 2}, 'consolid': {'Neg': 1}, 'stop': {'Neg': 5}, 'lose': {'Neg': 4}, 'checkbox': {'Neg': 1}, 'wack': {'Neg': 1}, 'line.': {'Neg': 1}, 'humpt!': {'Neg': 1}, 'others)': {'Neg': 2}, 'http://t.co/jzmvbdnm': {'Neg': 1}, 'frustrat': {'Neg': 1}, 'bought': {'Neg': 1}, 'onli': {'Neg': 12}, 'doesnt': {'Neg': 1}, 'ship': {'Neg': 1}, 'media!': {'Neg': 1}, 'those': {'Neg': 2}, 'enabled.': {'Neg': 1}, 'plan': {'Neg': 2}, 'handl': {'Neg': 3}, 'prevent': {'Neg': 1}, 'audio': {'Neg': 2}, 'oper': {'Neg': 1}, 'properly?': {'Neg': 1}, 'sound.': {'Neg': 1}, 'hater': {'Neg': 1}, 'finish': {'Neg': 1}, 'fast': {'Neg': 1}, 'http://t.co/5uh4a4vt': {'Neg': 1}, 'automatically-depreciate-all-iphones-older-than-the-4': {'Neg': 1}, 'signal.': {'Neg': 1}, 'rapidli': {'Neg': 1}, 'processor-wise.': {'Neg': 1}, 'compact': {'Neg': 1}, 'flash': {'Neg': 1}, 'cards...': {'Neg': 1}, 'goe': {'Neg': 3}, 'damn': {'Neg': 7}, 'you!': {'Neg': 4}, 'term': {'Neg': 1}, 'condit': {'Neg': 1}, 'store.': {'Neg': 5}, \"we'll\": {'Neg': 1}, 'read': {'Neg': 1}, 'really???': {'Neg': 1}, 'prolli': {'Neg': 1}, 'ganna': {'Neg': 2}, 'late': {'Neg': 4}, 'screw': {'Neg': 3}, 'alarm': {'Neg': 2}, 'dose': {'Neg': 1}, 'decid': {'Neg': 2}, 'freez': {'Neg': 3}, 'sick': {'Neg': 1}, 'wont': {'Neg': 2}, 'imessag': {'Neg': 3}, 'annoy': {'Neg': 1}, 'shit?': {'Neg': 1}, 'http://t.co/nb4dhlsg': {'Neg': 1}, 'chu!!': {'Neg': 2}, 'offici': {'Neg': 3}, 'boycot': {'Neg': 2}, 'curs': {'Neg': 2}, 'them': {'Neg': 9}, 'wast': {'Neg': 5}, 'whatchu': {'Neg': 1}, 'phone??': {'Neg': 1}, 'samsung': {'Neg': 1}, 'seek': {'Neg': 1}, 'japan': {'Neg': 1}, 'australiapat': {'Neg': 1}, 'intensifi': {'Neg': 1}, 'injunct': {'Neg': 1}, 'sought': {'Neg': 1}, 'against': {'Neg': 1}, 'http://t.co/qmwjtvnk': {'Neg': 1}, 'softwar': {'Neg': 3}, 'dead': {'Neg': 3}, 'restore?': {'Neg': 1}, 'room': {'Neg': 1}, 'music..': {'Neg': 1}, 'photos..': {'Neg': 1}, 'apps!': {'Neg': 1}, 'undo': {'Neg': 1}, 'garbage??': {'Neg': 1}, 'system': {'Neg': 2}, 'site': {'Neg': 1}, 'browser': {'Neg': 1}, 'troubl': {'Neg': 5}, 'brightness.': {'Neg': 2}, 'rememb': {'Neg': 3}, 'evil.': {'Neg': 1}, 'enter': {'Neg': 1}, 'market': {'Neg': 1}, 'second': {'Neg': 2}, 'full': {'Neg': 4}, 'piss': {'Neg': 5}, 'both': {'Neg': 1}, 'bs!!!': {'Neg': 1}, 'between': {'Neg': 1}, 'certain': {'Neg': 1}, 'closed!': {'Neg': 1}, 'time!': {'Neg': 1}, 'ugh!': {'Neg': 1}, 'working.': {'Neg': 1}, 'product.': {'Neg': 1}, 'wors': {'Neg': 1}, 'hockey': {'Neg': 1}, 'puck': {'Neg': 1}, 'mouse.': {'Neg': 1}, 'use.': {'Neg': 1}, 'youuuuuuuuuuuu': {'Neg': 1}, 'everyth': {'Neg': 2}, 'account...': {'Neg': 1}, 'suddenli': {'Neg': 2}, 'address': {'Neg': 1}, 'someon': {'Neg': 4}, 'oh..': {'Neg': 1}, 'overcapac': {'Neg': 1}, 'huh?!': {'Neg': 1}, '-____-': {'Neg': 1}, 'great!!!': {'Neg': 1}, 'window': {'Neg': 2}, 'compatible....': {'Neg': 1}, 'care': {'Neg': 2}, 'it!!': {'Neg': 1}, 'restor': {'Neg': 9}, 'restrict': {'Neg': 1}, 'sms?': {'Neg': 1}, 'texts....': {'Neg': 1}, 'none': {'Neg': 2}, 'do?!?': {'Neg': 1}, 'seemingli': {'Neg': 1}, 'endless': {'Neg': 1}, 'loop': {'Neg': 2}, 'investig': {'Neg': 1}, 'terrible!': {'Neg': 1}, 'apology!': {'Neg': 1}, 'then.': {'Neg': 1}, 'annoyed.': {'Neg': 2}, 'busi': {'Neg': 3}, 'stylus.': {'Neg': 1}, 'forev': {'Neg': 1}, 'outsid': {'Neg': 2}, 'never': {'Neg': 7}, 'pleas': {'Neg': 7}, \"daughter'\": {'Neg': 1}, 'drive': {'Neg': 1}, 'nut': {'Neg': 1}, 'preorder.': {'Neg': 1}, 'blame': {'Neg': 2}, 'sprint': {'Neg': 3}, 'honest': {'Neg': 1}, 'complet': {'Neg': 3}, 'poor': {'Neg': 1}, 'before!': {'Neg': 1}, 'happened?': {'Neg': 2}, 'http://t.co/gklxmui6': {'Neg': 1}, 'slip': {'Neg': 1}, '(except': {'Neg': 1}, 'cute': {'Neg': 1}, 'eyelash': {'Neg': 1}, 'bat': {'Neg': 1}, 'girlies).': {'Neg': 1}, 'http://t.co/dohdenmg': {'Neg': 1}, 'ipa': {'Neg': 1}, 'jailbrok': {'Neg': 1}, 'it...now': {'Neg': 1}, 'shag': {'Neg': 1}, 'letm': {'Neg': 1}, 'sym!!!!': {'Neg': 1}, 'are...': {'Neg': 1}, 'snatch': {'Neg': 1}, 'douchebag': {'Neg': 1}, \"'it'\": {'Neg': 1}, \"ours!'\": {'Neg': 1}, 'depend': {'Neg': 1}, 'network': {'Neg': 9}, 'connection?': {'Neg': 1}, 'utter': {'Neg': 1}, 'frustration.': {'Neg': 1}, 'ridic': {'Neg': 1}, '___-': {'Neg': 1}, 'amused.': {'Neg': 1}, 'seem': {'Neg': 4}, 'render': {'Neg': 1}, 'machin': {'Neg': 1}, 'incap': {'Neg': 1}, 'video.': {'Neg': 1}, 'zero': {'Neg': 1}, 'commit': {'Neg': 1}, 'idisk': {'Neg': 1}, 'rain': {'Neg': 1}, 'soon': {'Neg': 1}, 'idisk.': {'Neg': 1}, 'storage?': {'Neg': 1}, 'share': {'Neg': 3}, 'remind': {'Neg': 3}, 'list': {'Neg': 1}, 'iphone?also': {'Neg': 1}, 'login': {'Neg': 1}, 'webpag': {'Neg': 1}, 'modifi': {'Neg': 1}, 'phone?': {'Neg': 1}, 'fuzzbal': {'Neg': 1}, 'crash': {'Neg': 2}, 'congratul': {'Neg': 1}, 'incompat': {'Neg': 2}, 'vertic': {'Neg': 1}, 'mission': {'Neg': 1}, 'control.': {'Neg': 1}, 'horizont': {'Neg': 1}, 'nauseou': {'Neg': 1}, 'explain': {'Neg': 1}, 'whhyy': {'Neg': 1}, 'distribut': {'Neg': 1}, 'stores.': {'Neg': 1}, 'http://t.co/uf9tak8f': {'Neg': 1}, 'gah.': {'Neg': 1}, 'attempt': {'Neg': 1}, 'succeed.': {'Neg': 1}, 'earli': {'Neg': 1}, 'adopt': {'Neg': 1}, 'pdf': {'Neg': 1}, 'epub': {'Neg': 1}, 'file': {'Neg': 1}, 'disappear': {'Neg': 1}, 'ibook': {'Neg': 1}, 'upgrade?': {'Neg': 1}, 'hurts.': {'Neg': 1}, 'lie': {'Neg': 3}, 'definit': {'Neg': 3}, '&lt;&lt;': {'Neg': 1}, 'check': {'Neg': 2}, 'settings:': {'Neg': 1}, 'usag': {'Neg': 1}, 'huge': {'Neg': 1}, 'podcast': {'Neg': 2}, 'drop': {'Neg': 3}, 'ball': {'Neg': 1}, 'http://t.co/wvzprbci': {'Neg': 1}, \"don't\": {'Neg': 12}, 'voice.': {'Neg': 1}, 'perhap': {'Neg': 1}, 'star': {'Neg': 1}, 'war': {'Neg': 1}, 'http://t.co/psujg9pn': {'Neg': 1}, 'brain': {'Neg': 2}, 'sucks.': {'Neg': 2}, 'password': {'Neg': 1}, 'protect': {'Neg': 2}, 'them?': {'Neg': 1}, 'um...': {'Neg': 1}, 'that.': {'Neg': 1}, 'quickly.': {'Neg': 1}, 'anyon': {'Neg': 3}, 'els': {'Neg': 5}, 'see': {'Neg': 2}, 'signal': {'Neg': 1}, 'bar': {'Neg': 1}, 'dont': {'Neg': 3}, 'norepli': {'Neg': 1}, 'return': {'Neg': 3}, 'address.': {'Neg': 1}, 'anyway.': {'Neg': 1}, 'control': {'Neg': 1}, 'touch': {'Neg': 2}, 'knew': {'Neg': 1}, 'pink.': {'Neg': 1}, 'studying/': {'Neg': 1}, 'hold': {'Neg': 7}, 'hindi': {'Neg': 1}, 'cheer': {'Neg': 1}, 'about.': {'Neg': 1}, 'indian': {'Neg': 1}, 'languages!?': {'Neg': 1}, 'warning:': {'Neg': 2}, 'spontan': {'Neg': 2}, 'loos': {'Neg': 2}, 'might': {'Neg': 2}, \"app'\": {'Neg': 2}, 'fault': {'Neg': 2}, 'http://t.co/1sesvwwm': {'Neg': 2}, 'yeah...should': {'Neg': 1}, 'option...hop': {'Neg': 1}, 'figur': {'Neg': 4}, 'out.': {'Neg': 3}, 'copi': {'Neg': 2}, 'hell?': {'Neg': 2}, 'unhappi': {'Neg': 2}, 'service/product': {'Neg': 1}, 'quality.': {'Neg': 1}, 'again.': {'Neg': 2}, '&lt;input': {'Neg': 2}, 'type=number&gt;': {'Neg': 2}, 'blue?': {'Neg': 2}, 'minutes.': {'Neg': 2}, \"lt'\": {'Neg': 1}, \"they'r\": {'Neg': 3}, 'dupe': {'Neg': 1}, 'calendar/mail/batteri': {'Neg': 1}, 'inventor': {'Neg': 1}, 'shit?!!?': {'Neg': 1}, 'excit': {'Neg': 1}, 'longer-': {'Neg': 1}, 'tragic': {'Neg': 1}, 'battery.': {'Neg': 1}, 'really?': {'Neg': 1}, 'restore.': {'Neg': 3}, 'org': {'Neg': 1}, 'dissent!': {'Neg': 1}, 'multipl': {'Neg': 1}, 'connect': {'Neg': 8}, 'network.': {'Neg': 1}, 'server': {'Neg': 3}, '(and': {'Neg': 1}, 'exercise!)': {'Neg': 1}, 'working!': {'Neg': 1}, 'renam': {'Neg': 2}, 'havin': {'Neg': 1}, 'ugh.': {'Neg': 1}, 'bottleneck': {'Neg': 1}, 'network!!!!!!!': {'Neg': 2}, 'issues?': {'Neg': 1}, 'chanc': {'Neg': 1}, 'headphon': {'Neg': 1}, 'blast': {'Neg': 1}, 'ears?': {'Neg': 1}, 'quit': {'Neg': 1}, 'obnoxi': {'Neg': 1}, 'problem?': {'Neg': 1}, 'seriously?': {'Neg': 1}, 'this?': {'Neg': 1}, 'cloudy.': {'Neg': 1}, 'techy.': {'Neg': 1}, 'process': {'Neg': 1}, 'command': {'Neg': 1}, 'fail': {'Neg': 4}, 'design': {'Neg': 3}, 'appropri': {'Neg': 2}, 'project': {'Neg': 2}, 'resourc': {'Neg': 2}, 'reliabl': {'Neg': 2}, 'spoke': {'Neg': 1}, 'blare': {'Neg': 1}, 'direct': {'Neg': 1}, 'wrong': {'Neg': 1}, 'down!': {'Neg': 1}, 'suspect': {'Neg': 1}, 'health-declin': {'Neg': 1}, 'perfectli': {'Neg': 1}, 'release...': {'Neg': 1}, 'ailing.': {'Neg': 1}, 'hour.': {'Neg': 1}, 'stink.': {'Neg': 1}, 'waaaaay': {'Neg': 1}, 'inform': {'Neg': 1}, 'properli': {'Neg': 2}, 'migrat': {'Neg': 1}, 'mani': {'Neg': 3}, 'complaint': {'Neg': 1}, 'damag': {'Neg': 1}, 'http://t.co/ql7zmppo': {'Neg': 1}, 'rape': {'Neg': 1}, 'life?': {'Neg': 2}, 'small': {'Neg': 1}, '}:0(': {'Neg': 1}, 'realis': {'Neg': 1}, 'base': {'Neg': 1}, 'petty.': {'Neg': 1}, 'origin': {'Neg': 1}, \"'folder'\": {'Neg': 1}, 'location?': {'Neg': 1}, 'painful.': {'Neg': 1}, 'domain': {'Neg': 1}, 'fail.': {'Neg': 2}, 'ppl.': {'Neg': 1}, 'empti': {'Neg': 1}, 'skin': {'Neg': 1}, 'repres': {'Neg': 1}, 'chipset': {'Neg': 1}, 'tear': {'Neg': 1}, 'cowork': {'Neg': 1}, 'thunderbolt': {'Neg': 1}, 'tri': {'Neg': 3}, 'throat.': {'Neg': 1}, 'slower': {'Neg': 1}, 'update?': {'Neg': 1}, 'nexu': {'Neg': 1}, 'week.': {'Neg': 1}, 'forc': {'Neg': 2}, 'w/the': {'Neg': 1}, 'stuff.': {'Neg': 1}, 'thanks!': {'Neg': 2}, 'stories-': {'Neg': 1}, '2.now': {'Neg': 1}, 'mins.': {'Neg': 1}, 'not.': {'Neg': 1}, 'minut': {'Neg': 4}, 'upset': {'Neg': 1}, 'inconvenienc': {'Neg': 1}, 'backup.': {'Neg': 1}, 'financ': {'Neg': 1}, 'greedi': {'Neg': 1}, 'bastards!': {'Neg': 1}, 'santa...get': {'Neg': 1}, 'jolli': {'Neg': 1}, 'white': {'Neg': 1}, 'spend': {'Neg': 2}, 'unqual': {'Neg': 1}, 'recov': {'Neg': 2}, 'again-th': {'Neg': 1}, 'immobil': {'Neg': 1}, 'not!': {'Neg': 1}, 'ponder': {'Neg': 1}, 'update...': {'Neg': 1}, 'difficulti': {'Neg': 1}, 'served.': {'Neg': 1}, 'sydney.': {'Neg': 1}, 'train': {'Neg': 1}, 'extend': {'Neg': 1}, 'clock': {'Neg': 1}, 'service.': {'Neg': 2}, 'know?': {'Neg': 1}, 'tire': {'Neg': 2}, 'trying.': {'Neg': 1}, \"icloud'\": {'Neg': 1}, 'jobs.': {'Neg': 1}, 'test': {'Neg': 1}, 'yesterday.': {'Neg': 1}, 'thanks.': {'Neg': 1}, 'products?!': {'Neg': 1}, '(still': {'Neg': 1}, 'frozen)': {'Neg': 1}, 'on!!!': {'Neg': 1}, 'perpetu': {'Neg': 1}, 'apptment': {'Neg': 1}, 'run': {'Neg': 1}, 'dodgi': {'Neg': 1}, 'mega': {'Neg': 1}, 'hire': {'Neg': 1}, 'staff.': {'Neg': 1}, 'took': {'Neg': 3}, 'syncron': {'Neg': 1}, 'told': {'Neg': 3}, 'needless': {'Neg': 1}, 'hotel': {'Neg': 1}, 'relaxing.': {'Neg': 1}, 'overal': {'Neg': 1}, 'howev': {'Neg': 1}, 'terribl': {'Neg': 3}, 'gato': {'Neg': 1}, '$199': {'Neg': 1}, 'home': {'Neg': 2}, 'button': {'Neg': 2}, 'iphone?!?': {'Neg': 1}, 'onlin': {'Neg': 1}, 'else?': {'Neg': 1}, 'now...': {'Neg': 2}, '(cell)': {'Neg': 1}, 'iphone2': {'Neg': 1}, 'caus': {'Neg': 2}, 'apperatur': {'Neg': 1}, 'dilat': {'Neg': 1}, 'freeze.': {'Neg': 1}, 'suburb': {'Neg': 1}, 'pin': {'Neg': 1}, 'states!': {'Neg': 1}, 'fix.': {'Neg': 1}, 'disappointed.': {'Neg': 1}, 'clarenc': {'Neg': 1}, 'thoma': {'Neg': 1}, 'toss': {'Neg': 1}, 'decad': {'Neg': 1}, 'workflow': {'Neg': 1}, 'standard': {'Neg': 1}, 'itunes.': {'Neg': 1}, 'staff': {'Neg': 1}, 'rock': {'Neg': 1}, 'answer': {'Neg': 1}, 'know.': {'Neg': 1}, \"weren't\": {'Neg': 1}, 'questions.': {'Neg': 1}, 'yeah': {'Neg': 1}, 'except': {'Neg': 1}, 'receipt': {'Neg': 1}, 'print': {'Neg': 1}, 'playlist': {'Neg': 2}, 'bummer!': {'Neg': 1}, 'fantasi': {'Neg': 1}, 'footbal': {'Neg': 1}, 'crashing;': {'Neg': 1}, 'running.': {'Neg': 1}, 'sux!': {'Neg': 1}, 'terrible.': {'Neg': 1}, 'clean': {'Neg': 1}, 'duplic': {'Neg': 2}, 'magic': {'Neg': 1}, 'reappeared.': {'Neg': 1}, 'http://t.co/ykqip7nk': {'Neg': 1}, 'whoever': {'Neg': 1}, 'key.': {'Neg': 1}, 'key': {'Neg': 1}, 'often': {'Neg': 3}, 'mine': {'Neg': 1}, 'too!': {'Neg': 1}, 'soooo': {'Neg': 1}, 'pissed!': {'Neg': 1}, 'sister': {'Neg': 1}, 'famili': {'Neg': 1}, 'info.': {'Neg': 1}, 'sloppi': {'Neg': 1}, 'team.': {'Neg': 1}, 'known': {'Neg': 1}, 'plan.': {'Neg': 1}, 'now.': {'Neg': 5}, 'itouch4': {'Neg': 1}, 'laptop.': {'Neg': 1}, 'see?': {'Neg': 1}, 'cancer': {'Neg': 1}, 'messages.': {'Neg': 1}, 'mayb': {'Neg': 1}, 'fault.': {'Neg': 1}, 'wireless': {'Neg': 1}, 'now?': {'Neg': 2}, 'worri': {'Neg': 1}, 'say': {'Neg': 2}, \"(i'm\": {'Neg': 1}, 'problems)': {'Neg': 1}, 'toledooh': {'Neg': 1}, 'ordered!!!': {'Neg': 1}, 'non-appl': {'Neg': 1}, 'equip': {'Neg': 1}, 'broke': {'Neg': 1}, 'guess': {'Neg': 1}, 'asu': {'Neg': 1}, 'ical': {'Neg': 1}, 'events?': {'Neg': 1}, 'everything.': {'Neg': 1}, '(tri': {'Neg': 1}, 'off)': {'Neg': 1}, 'convenient/handy/thoughtful/smart': {'Neg': 1}, 'anymore!': {'Neg': 1}, '(none!!!)': {'Neg': 1}, 'crashing...fix': {'Neg': 1}, 'it...now..please..lol': {'Neg': 1}, '-f.light': {'Neg': 1}, 'works!!!': {'Neg': 1}, 'gonna': {'Neg': 1}, 'durable!!!': {'Neg': 1}, 'myself!!!': {'Neg': 1}, 'becuz': {'Neg': 1}, 'region/': {'Neg': 1}, '+965': {'Neg': 1}, 'abl': {'Neg': 1}, 'events.': {'Neg': 1}, 'apple!': {'Neg': 1}, 'newsstand': {'Neg': 3}, 'folder.': {'Neg': 1}, 'serv': {'Neg': 1}, 'purpos': {'Neg': 1}, 'easier': {'Neg': 1}, 'fruits!': {'Neg': 1}, 'ipad2!': {'Neg': 1}, 'compar': {'Neg': 1}, 'crowd.': {'Neg': 1}, 'agre': {'Neg': 1}, 'buy': {'Neg': 2}, 'meant': {'Neg': 1}, 'complain.': {'Neg': 1}, 'ios5..': {'Neg': 1}, 'product...': {'Neg': 1}, 'internet': {'Neg': 1}, 'confus': {'Neg': 1}, 'consid': {'Neg': 1}, 'plu': {'Neg': 2}, 'stabl': {'Neg': 1}, 'though.': {'Neg': 2}, 'reach': {'Neg': 1}, 'signal?': {'Neg': 1}, 'loop.': {'Neg': 1}, 'undo?': {'Neg': 1}, 'warm': {'Neg': 1}, 'sometimes?': {'Neg': 1}, 'folder?!': {'Neg': 1}, 'alreadi': {'Neg': 1}, 'wall': {'Neg': 1}, 'microsoft': {'Neg': 1}, 'anymor': {'Neg': 1}, 'why??': {'Neg': 1}, 'that!': {'Neg': 1}, 'order!': {'Neg': 1}, 'tweet': {'Neg': 1}, 'rest': {'Neg': 1}, 'dead.': {'Neg': 1}, 'hell!!!!!': {'Neg': 1}, 'brick.': {'Neg': 1}, 're-instal': {'Neg': 1}, 'instal': {'Neg': 3}, 'former': {'Neg': 1}, 'owner.': {'Neg': 1}, \"where'\": {'Neg': 1}, 'babi': {'Neg': 1}, 'lisa?': {'Neg': 1}, 'tiger': {'Neg': 1}, 'wood': {'Neg': 1}, 'imposs': {'Neg': 1}, 'retrieve.': {'Neg': 1}, 'wififofum!': {'Neg': 1}, 'apps.': {'Neg': 1}, \"apple'\": {'Neg': 1}, 'overbear': {'Neg': 1}, 'policies!': {'Neg': 1}, 'disast': {'Neg': 1}, 'su': {'Neg': 1}, 'insur': {'Neg': 1}, 'manag': {'Neg': 1}, 'list.': {'Neg': 1}, 'bandwidth': {'Neg': 1}, 'document': {'Neg': 1}, 'bullshit!': {'Neg': 1}, 'features.': {'Neg': 1}, 'ones.': {'Neg': 1}, 'texts&gt;(': {'Neg': 1}, 'arrog': {'Neg': 2}, 'inept.': {'Neg': 2}, 'combo': {'Neg': 2}, 'biltmor': {'Neg': 2}, 'fade': {'Neg': 1}, 'black': {'Neg': 1}, 'begin': {'Neg': 1}, 'vibrat': {'Neg': 1}, 'reboot': {'Neg': 1}, 'hdmi': {'Neg': 1}, 'lame.': {'Neg': 1}, 'imag': {'Neg': 1}, 'roll': {'Neg': 1}, 'over?': {'Neg': 1}, 'much?': {'Neg': 1}, 'equal': {'Neg': 1}, 'updating?': {'Neg': 1}, 'ios5!!!': {'Neg': 1}, 'fails!': {'Neg': 1}, 'credit': {'Neg': 2}, 'unless': {'Neg': 1}, 'card.': {'Neg': 1}, 'redeem': {'Neg': 1}, 'cards.': {'Neg': 1}, 'fair': {'Neg': 1}, 'you?': {'Neg': 1}, 'less': {'Neg': 3}, 'improv': {'Neg': 1}, 'monday': {'Neg': 1}, 'access': {'Neg': 1}, 'mail...': {'Neg': 1}, 'premis': {'Neg': 1}, 'help!!': {'Neg': 1}, 'bummer': {'Neg': 1}, 'outlook': {'Neg': 1}, '(not': {'Neg': 2}, 'thunderbird)': {'Neg': 1}, 'firefox': {'Neg': 1}, 'chrome).': {'Neg': 1}, 'visual': {'Neg': 1}, 'merchandis': {'Neg': 1}, 'elegance.': {'Neg': 1}, 'sequenc': {'Neg': 1}, 'http://t.co/xv2q3gfi': {'Neg': 1}, 'termin': {'Neg': 1}, 'synching!': {'Neg': 1}, 'contacts!': {'Neg': 1}, 'back!!!': {'Neg': 1}, 'nonstop': {'Neg': 1}, 'calls&mut': {'Neg': 1}, 'randomli': {'Neg': 1}, 'activating&person': {'Neg': 1}, 'cant': {'Neg': 1}, 'occur': {'Neg': 1}, 'account': {'Neg': 1}, 'amongst': {'Neg': 1}, \"family'\": {'Neg': 1}, '?????wtf!!!!': {'Neg': 1}, '100%': {'Neg': 2}, '(post': {'Neg': 1}, 'upgrade)': {'Neg': 1}, 'folk': {'Neg': 2}, 'ideas.': {'Neg': 1}, 'cut': {'Neg': 1}, 'manage?!?': {'Neg': 1}, 'subscriptions!': {'Neg': 1}, 'http://t.co/ld2i871x': {'Neg': 1}, 'post-': {'Neg': 1}, 'solut': {'Neg': 1}, 'resellars.': {'Neg': 1}, 'promised.': {'Neg': 2}, 'similar': {'Neg': 1}, \"bell'\": {'Neg': 1}, 'monopolist': {'Neg': 1}, 'prctices?': {'Neg': 1}, 'also': {'Neg': 1}, 'forget': {'Neg': 1}, 'each': {'Neg': 1}, 'bloodi': {'Neg': 1}, 'purchase...': {'Neg': 1}, '*sigh*': {'Neg': 1}, 'stump': {'Neg': 1}, 'catastroph': {'Neg': 1}, 'hmmmm': {'Neg': 1}, 'canada.': {'Neg': 1}, 'directions?': {'Neg': 1}, 'voicecontrol': {'Neg': 1}, 'exclus': {'Neg': 1}, \"let'\": {'Neg': 1}, 'goes.': {'Neg': 1}, 'john': {'Neg': 1}, 'jean': {'Neg': 1}, 'name': {'Neg': 1}, 'french': {'Neg': 1}, 'boy.': {'Neg': 1}, 'works.': {'Neg': 1}, '24hr': {'Neg': 1}, 'report': {'Neg': 1}, 'theft': {'Neg': 1}, 'nothing.': {'Neg': 2}, 'bode': {'Neg': 1}, 'well.': {'Neg': 1}, 'night': {'Neg': 1}, 'charger': {'Neg': 1}, 'light': {'Neg': 1}, 'houston': {'Neg': 1}, 'problem!!': {'Neg': 1}, 'ios5.': {'Neg': 1}, 'right....': {'Neg': 1}, 'while': {'Neg': 1}, 'night.': {'Neg': 1}, 'togeth': {'Neg': 1}, 'launch!': {'Neg': 1}, 'focus.': {'Neg': 1}, 'movi': {'Neg': 1}, 'playlists.': {'Neg': 1}}\n"
     ]
    }
   ],
   "source": [
    "import pandas as pd\n",
    "from nltk.stem import PorterStemmer #for stemming words\n",
    "\n",
    "# training data from CMU's CSE class: http://boston.lti.cs.cmu.edu/classes/95-865-K/HW/HW3/\n",
    "twitter_sent = pd.read_csv(\"twitter_sentiment.csv\")\n",
    "\n",
    "twitter_sent.head()\n",
    "\n",
    "#Splice the words in each column to remove the short words and stem\n",
    "def filter_col(text_col):\n",
    "    spliced = text_col.split(\" \")\n",
    "    filtered = list(filter(remove_short, spliced))\n",
    "    return filtered\n",
    "\n",
    "#remove words that are theoretically too short to mean much, usernames, and hashtags\n",
    "def remove_short(word):\n",
    "    if len(word) <= 3 or \"@\" in word or \"#\" in word:\n",
    "        return False\n",
    "    return True\n",
    "\n",
    "#get the stem for same meaning words\n",
    "stemmer = PorterStemmer()\n",
    "filtered_cols = twitter_sent['text'].apply(filter_col)\n",
    "twitter_sent['text'] = filtered_cols.apply(lambda col: [stemmer.stem(word) for word in col])\n",
    "\n",
    "probs = {}\n",
    "\n",
    "row_count = twitter_sent.shape[0]\n",
    "# iterate through all of the rows in the training data\n",
    "for i in range(row_count):\n",
    "    col = twitter_sent['class']\n",
    "    col2 = twitter_sent['text']\n",
    "    emo = str(col[i])\n",
    "    txt = list(col2[i])\n",
    "    \n",
    "    # gets the count of the emotions for every single word in text\n",
    "    for i in range(len(txt)):\n",
    "        spliced = txt[i]\n",
    "        word = probs.get(spliced)\n",
    "        if word:\n",
    "            if word.get(emo):\n",
    "                word[emo] += 1\n",
    "            else:\n",
    "                word[emo] = 1\n",
    "        else:\n",
    "            probs[spliced] = {}\n",
    "            probs[spliced][emo] = 1\n",
    "print(probs)\n"
   ]
  },
  {
   "cell_type": "code",
   "execution_count": 116,
   "metadata": {},
   "outputs": [
    {
     "name": "stdout",
     "output_type": "stream",
     "text": [
      "['<p', 'class=\"meta', 'post-meta', 'clearfix\"><span', 'class=\"updated', 'meta-date\"><i', 'class=\"fa', 'fa-calendar\"></i>November', '19,', '2019</span><span', 'class=\"vcard', 'author', 'meta-author\"><span', 'class=\"fn\"><i', 'class=\"fa', 'fa-user\"></i><a', 'href=\"http://triton.news/author/mo/\"', 'rel=\"author\"', 'title=\"Posts', 'by', 'Mo', 'Elew\">Mo', 'Elew</a></span></span><span', 'class=\"meta-tags\"><i', 'class=\"fa', 'fa-tag\"></i><a', 'href=\"http://triton.news/category/news/local/\"', 'rel=\"category', 'tag\">Local</a>,', '<a', 'href=\"http://triton.news/category/news/\"', 'rel=\"category', 'tag\">News</a></span><span', 'class=\"meta-comments\"><i', 'class=\"fa', 'fa-comment-o\"></i><span', 'class=\"dsq-postid\"', 'data-dsqidentifier=\"28835', 'http://triton.news/?p=28835\">0</span></span>\\n</p><p>UC', 'San', 'Diego', 'Political', 'Science', 'Professor', 'Tom', 'Wong', 'plans', 'to', 'announce', 'his', 'campaign', 'for', 'San', 'Diego’s', '53rd', 'Congressional', 'District', 'on', 'November', '20,', 'a', 'seat', 'which', 'opened', 'up', '<a', 'href=\"https://www.sandiegouniontribune.com/news/politics/story/2019-09-04/rep-susan-davis-to-retire-drop-out-of-race-for-reelection-in-2020\">after', 'Democrat', 'Rep.', 'Susan', 'Davis', 'announced</a>', 'in', 'September', 'that', 'she', 'will', 'not', 'seek', 'reelection.', 'Wong', 'will', 'join', 'Sara', 'Jacobs,', '<a', 'href=\"https://www.sandiegouniontribune.com/news/politics/story/2019-09-14/san-diego-council-president-georgette-gomez-kicks-off-congressional-campaign\">San', 'Diego', 'City', 'Council', 'President', 'Georgette', 'Gomez</a>,', 'and', '11', 'others', 'in', 'the', 'race', 'for', 'the', '53rd', 'district.</p><p>Wong', 'submitted', '<a', 'href=\"https://docquery.fec.gov/cgi-bin/forms/C00727461/1362862/\">paperwork</a>', 'to', 'run', 'as', 'a', 'Democrat', 'a', 'few', 'days', 'before', 'his', 'opponent', '<a', 'href=\"https://timesofsandiego.com/politics/2019/11/16/california-democratic-party-endorses-georgette-gomez-in-53rd-congressional-district/\">San', 'Diego', 'Council', 'President', 'Georgette', 'Gómez', 'won', 'the', 'California', 'Democratic', 'Party’s', 'endorsement</a>', 'in', 'the', 'race.</p><p>The', '<a', 'href=\"https://susandavis.house.gov/district/\">53rd', 'Congressional', 'District</a>', 'stretches', 'from', 'the', 'I-5', 'and', 'Balboa', 'Park', 'on', 'the', 'west,', 'through', 'Mission', 'Valley']\n"
     ]
    }
   ],
   "source": [
    "import urllib.request\n",
    "from bs4 import BeautifulSoup\n",
    "\n",
    "# Web scraped an article for text (sentiment analysis)\n",
    "\n",
    "# I consulted these articles:     \n",
    "#       https://www.analyticsvidhya.com/blog/2018/07/hands-on-sentiment-analysis-dataset-python/\n",
    "#       https://www.geeksforgeeks.org/reading-selected-webpage-content-using-python-web-scraping/\n",
    "\n",
    "strrr = \"\"\n",
    "req = urllib.request.Request('http://triton.news/2019/11/ucsd-professor-tom-wong-to-announce-run-for-congress-tomorrow/')\n",
    "\n",
    "with urllib.request.urlopen(req) as response:\n",
    "    the_page = response.read()\n",
    "    soup=BeautifulSoup(the_page,'html.parser')\n",
    "    l=soup.findAll(\"p\")\n",
    "    for i in l:\n",
    "        strrr += str(i)\n",
    "    txt_lst = strrr.split(\" \")\n",
    "\n",
    "print(txt_lst[:150])\n",
    "\n",
    "#TO DO: get rid of short words, uses Naive Bayes formula to \n",
    "# compute the probability of negative, positive, or neutral sentiment given words in text (only use words that are\n",
    "# found in the twitter training dataset)\n",
    "    "
   ]
  },
  {
   "cell_type": "markdown",
   "metadata": {},
   "source": [
    "# Data Wrangling\n",
    "\n",
    "Include text and code needed to wrangle your data into a tidy data format. If your data are already in a usable format, explain what checks you did on the data (and include the code) to ensure that the data were tidy:\n",
    "\n",
    "Prepare data for simple linear regression : Year, US New Score, Yearly Applicant Rate\n",
    "  We will drop the Number of Applicants, Times Score columns \n",
    "  \n",
    "Prepare data for multiple linear regression : Year, US New Score, Times Score, Yearly Applicant Rate\n",
    "  We will drop the Number of Applicants\n",
    "  We will drop all Rows where the Times Score is zero (data was unavailable)\n",
    "  "
   ]
  },
  {
   "cell_type": "code",
   "execution_count": 5,
   "metadata": {},
   "outputs": [
    {
     "name": "stdout",
     "output_type": "stream",
     "text": [
      "Simple Linear Regression Data\n",
      "[[43.    0.  ]\n",
      " [34.    5.96]\n",
      " [33.   11.92]\n",
      " [32.   15.85]\n",
      " [32.    9.69]\n",
      " [31.    6.99]\n",
      " [31.    8.27]\n",
      " [31.    5.07]\n",
      " [32.   -4.42]\n",
      " [35.   -2.38]\n",
      " [32.    7.54]\n",
      " [38.    3.43]\n",
      " [38.    5.09]\n",
      " [35.   -0.69]\n",
      " [35.    2.21]\n",
      " [35.   11.13]\n",
      " [37.   13.81]\n",
      " [38.   10.78]\n",
      " [39.    8.99]\n",
      " [37.    6.28]\n",
      " [39.    7.87]\n",
      " [44.    5.04]\n",
      " [42.   10.68]]\n",
      "Multiple Linear Regression Data\n",
      "[[35.   73.2  11.13]\n",
      " [37.   73.   13.81]\n",
      " [38.   75.2  10.78]\n",
      " [39.   67.4   8.99]\n",
      " [37.   68.6   6.28]\n",
      " [39.   72.2   7.87]\n",
      " [44.   73.2   5.04]\n",
      " [42.   78.7  10.68]]\n"
     ]
    }
   ],
   "source": [
    "# Simple Linear Regression Data: Drop the Year, Number of Applicants, Times Score columns\n",
    "simple_linear_regress_data = np.delete(my_data, [0, 2,3], 1)\n",
    "print(\"Simple Linear Regression Data\")\n",
    "print(simple_linear_regress_data)\n",
    "\n",
    "# Multiple Linear Regression Data: Drop the Year, Number of Applicant columns\n",
    "#                                  Drop All Rows where Times Score is Zero\n",
    "multiple_linear_regress_data = np.delete(my_data, [0, 3], 1)\n",
    "multiple_linear_regress_data = multiple_linear_regress_data[multiple_linear_regress_data[:,1] != 0.0]\n",
    "print(\"Multiple Linear Regression Data\")\n",
    "print(multiple_linear_regress_data)"
   ]
  },
  {
   "cell_type": "markdown",
   "metadata": {},
   "source": [
    "# Data Analysis\n",
    "\n",
    "Include text and code to explore and analyze the data your group used for your final project."
   ]
  },
  {
   "cell_type": "code",
   "execution_count": 4,
   "metadata": {},
   "outputs": [
    {
     "ename": "NameError",
     "evalue": "name 'simple_linear_regress_data' is not defined",
     "output_type": "error",
     "traceback": [
      "\u001b[0;31m---------------------------------------------------------------------------\u001b[0m",
      "\u001b[0;31mNameError\u001b[0m                                 Traceback (most recent call last)",
      "\u001b[0;32m<ipython-input-4-1813d6f945bf>\u001b[0m in \u001b[0;36m<module>\u001b[0;34m\u001b[0m\n\u001b[0;32m----> 1\u001b[0;31m \u001b[0mX\u001b[0m \u001b[0;34m=\u001b[0m \u001b[0msimple_linear_regress_data\u001b[0m\u001b[0;34m[\u001b[0m\u001b[0;34m:\u001b[0m\u001b[0;34m,\u001b[0m\u001b[0;36m0\u001b[0m\u001b[0;34m]\u001b[0m\u001b[0;34m\u001b[0m\u001b[0m\n\u001b[0m\u001b[1;32m      2\u001b[0m \u001b[0mY\u001b[0m \u001b[0;34m=\u001b[0m \u001b[0msimple_linear_regress_data\u001b[0m\u001b[0;34m[\u001b[0m\u001b[0;34m:\u001b[0m\u001b[0;34m,\u001b[0m\u001b[0;36m1\u001b[0m\u001b[0;34m]\u001b[0m\u001b[0;34m\u001b[0m\u001b[0m\n\u001b[1;32m      3\u001b[0m \u001b[0mresults\u001b[0m \u001b[0;34m=\u001b[0m \u001b[0msm\u001b[0m\u001b[0;34m.\u001b[0m\u001b[0mOLS\u001b[0m\u001b[0;34m(\u001b[0m\u001b[0mY\u001b[0m\u001b[0;34m,\u001b[0m\u001b[0msm\u001b[0m\u001b[0;34m.\u001b[0m\u001b[0madd_constant\u001b[0m\u001b[0;34m(\u001b[0m\u001b[0mX\u001b[0m\u001b[0;34m)\u001b[0m\u001b[0;34m)\u001b[0m\u001b[0;34m.\u001b[0m\u001b[0mfit\u001b[0m\u001b[0;34m(\u001b[0m\u001b[0;34m)\u001b[0m\u001b[0;34m\u001b[0m\u001b[0m\n\u001b[1;32m      4\u001b[0m \u001b[0mprint\u001b[0m\u001b[0;34m(\u001b[0m\u001b[0mresults\u001b[0m\u001b[0;34m.\u001b[0m\u001b[0msummary\u001b[0m\u001b[0;34m(\u001b[0m\u001b[0;34m)\u001b[0m\u001b[0;34m)\u001b[0m\u001b[0;34m\u001b[0m\u001b[0m\n\u001b[1;32m      5\u001b[0m \u001b[0mplt\u001b[0m\u001b[0;34m.\u001b[0m\u001b[0mscatter\u001b[0m\u001b[0;34m(\u001b[0m\u001b[0mX\u001b[0m\u001b[0;34m,\u001b[0m \u001b[0mY\u001b[0m\u001b[0;34m,\u001b[0m \u001b[0ms\u001b[0m\u001b[0;34m=\u001b[0m\u001b[0mnp\u001b[0m\u001b[0;34m.\u001b[0m\u001b[0mpi\u001b[0m\u001b[0;34m*\u001b[0m\u001b[0;36m3\u001b[0m\u001b[0;34m)\u001b[0m\u001b[0;34m\u001b[0m\u001b[0m\n",
      "\u001b[0;31mNameError\u001b[0m: name 'simple_linear_regress_data' is not defined"
     ]
    }
   ],
   "source": [
    "X = simple_linear_regress_data[:,0]\n",
    "Y = simple_linear_regress_data[:,1]\n",
    "results = sm.OLS(Y,sm.add_constant(X)).fit()\n",
    "print(results.summary())\n",
    "plt.scatter(X, Y, s=np.pi*3)\n",
    "plt.title('Simple Linear Regression')\n",
    "plt.xlabel('US News Score')\n",
    "plt.ylabel('UCSD Yearly Applicant Rate')\n",
    "plt.plot(np.unique(X), np.poly1d(np.polyfit(X, Y, 1))(np.unique(X)))\n",
    "plt.show()\n",
    "\n",
    "X = np.delete(multiple_linear_regress_data, [2], 1)\n",
    "Y = multiple_linear_regress_data[:,2]\n",
    "print(X)\n",
    "results = sm.OLS(Y,sm.add_constant(X)).fit()\n",
    "print(results.summary())"
   ]
  },
  {
   "cell_type": "markdown",
   "metadata": {},
   "source": [
    "# Programming Experience\n",
    "\n",
    "In this section, include information about your team's level of exprience programming in Python. Discuss briefly what new things (concepts, skills, packages, etc.) you learned by completing this extra credit."
   ]
  },
  {
   "cell_type": "markdown",
   "metadata": {},
   "source": [
    "<p>Three of the members have had Python programming experiance and are Data Science Majors (2 sophmores and 1 freshman). Some of us have taken DSC10 and DSC20 courses. However, we all needed refreshes as it was a while ago that some of us last wrote Python We also learned the new API: statsmodels. We didnt use this in our prior classes. We used this to perform simple and multiple linear regression. We also did lots of Google searches, this was useful to learn how to plot a scatter chart.</p>\n",
    "\n",
    "<p>Amy's Past Experiences: I took DSC 20 and did a did a Data Challenge so I have basic experience using Python and Pandas.<br> Amy's contributions: I did the attempt for the sentiment analysis portion so I learned a lot about having reading data from a URL using URLlib and using beautiful soup to get rid of the unneccesary HTML. I applied the concepts of tokenization to stem words and remove unneccesary words for analysis. This is my first time using PorterStemmer. </p>"
   ]
  },
  {
   "cell_type": "code",
   "execution_count": null,
   "metadata": {},
   "outputs": [],
   "source": [
    "\n",
    "    \n"
   ]
  }
 ],
 "metadata": {
  "kernelspec": {
   "display_name": "Python 3",
   "language": "python",
   "name": "python3"
  },
  "language_info": {
   "codemirror_mode": {
    "name": "ipython",
    "version": 3
   },
   "file_extension": ".py",
   "mimetype": "text/x-python",
   "name": "python",
   "nbconvert_exporter": "python",
   "pygments_lexer": "ipython3",
   "version": "3.6.2"
  }
 },
 "nbformat": 4,
 "nbformat_minor": 4
}
