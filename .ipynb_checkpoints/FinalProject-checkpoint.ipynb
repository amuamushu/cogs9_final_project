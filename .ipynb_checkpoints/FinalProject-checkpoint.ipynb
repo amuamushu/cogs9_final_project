{
 "cells": [
  {
   "cell_type": "markdown",
   "metadata": {},
   "source": [
    "# Project Title : Yearly UCSD Application Rate and League Table Linear Regression Model\n",
    "Authors: \n",
    "Thanh Luong\n",
    "Abigail Han\n",
    "Saroop Samra\n",
    "Amy Nguyen"
   ]
  },
  {
   "cell_type": "markdown",
   "metadata": {},
   "source": [
    "# Question\n",
    "Is there a valid SIMPLE linear regression with US News Rankings and Yearly UCSD Application Rate?\n",
    "What does a visualization of this look like?\n",
    "What is the pearson correlation factor?\n",
    "\n",
    "\n",
    "Is there a valid MULTIPLE linear regression with US News Rankings and Times Score and Yearly UCSD Application Rate?\n",
    "What does a visualization of this look like?\n",
    "What is the pearson correlation factor?"
   ]
  },
  {
   "cell_type": "markdown",
   "metadata": {},
   "source": [
    "# Data\n",
    "\n",
    "Include the code to read your dataset in below and briefly explain what information is included in your dataset that you'll use for analysis."
   ]
  },
  {
   "cell_type": "code",
   "execution_count": 1,
   "metadata": {},
   "outputs": [
    {
     "name": "stdout",
     "output_type": "stream",
     "text": [
      "[[ 1996.      43.       0.   23687.       0.  ]\n",
      " [ 1997.      34.       0.   25098.       5.96]\n",
      " [ 1998.      33.       0.   28090.      11.92]\n",
      " [ 1999.      32.       0.   32541.      15.85]\n",
      " [ 2000.      32.       0.   35693.       9.69]\n",
      " [ 2001.      31.       0.   38188.       6.99]\n",
      " [ 2002.      31.       0.   41346.       8.27]\n",
      " [ 2003.      31.       0.   43443.       5.07]\n",
      " [ 2004.      32.       0.   41524.      -4.42]\n",
      " [ 2005.      35.       0.   40534.      -2.38]\n",
      " [ 2006.      32.       0.   43591.       7.54]\n",
      " [ 2007.      38.       0.   45088.       3.43]\n",
      " [ 2008.      38.       0.   47385.       5.09]\n",
      " [ 2009.      35.       0.   47060.      -0.69]\n",
      " [ 2010.      35.       0.   48098.       2.21]\n",
      " [ 2011.      35.      73.2  53449.      11.13]\n",
      " [ 2012.      37.      73.   60832.      13.81]\n",
      " [ 2013.      38.      75.2  67391.      10.78]\n",
      " [ 2014.      39.      67.4  73448.       8.99]\n",
      " [ 2015.      37.      68.6  78061.       6.28]\n",
      " [ 2016.      39.      72.2  84206.       7.87]\n",
      " [ 2017.      44.      73.2  88448.       5.04]\n",
      " [ 2018.      42.      78.7  97898.      10.68]]\n"
     ]
    }
   ],
   "source": [
    "import numpy as np\n",
    "import matplotlib.pyplot as plt\n",
    "import statsmodels.api as sm\n",
    "\n",
    "my_data = np.loadtxt('ec_data.txt',delimiter=',',dtype=float)\n",
    "np.set_printoptions(suppress=True)\n",
    "print(my_data)"
   ]
  },
  {
   "cell_type": "markdown",
   "metadata": {},
   "source": [
    "# Data Wrangling\n",
    "\n",
    "Include text and code needed to wrangle your data into a tidy data format. If your data are already in a usable format, explain what checks you did on the data (and include the code) to ensure that the data were tidy:\n",
    "\n",
    "Prepare data for simple linear regression : Year, US New Score, Yearly Applicant Rate\n",
    "  We will drop the Number of Applicants, Times Score columns \n",
    "  \n",
    "Prepare data for multiple linear regression : Year, US New Score, Times Score, Yearly Applicant Rate\n",
    "  We will drop the Number of Applicants\n",
    "  We will drop all Rows where the Times Score is zero (data was unavailable)\n",
    "  "
   ]
  },
  {
   "cell_type": "code",
   "execution_count": 2,
   "metadata": {},
   "outputs": [
    {
     "name": "stdout",
     "output_type": "stream",
     "text": [
      "Simple Linear Regression Data\n",
      "[[43.    0.  ]\n",
      " [34.    5.96]\n",
      " [33.   11.92]\n",
      " [32.   15.85]\n",
      " [32.    9.69]\n",
      " [31.    6.99]\n",
      " [31.    8.27]\n",
      " [31.    5.07]\n",
      " [32.   -4.42]\n",
      " [35.   -2.38]\n",
      " [32.    7.54]\n",
      " [38.    3.43]\n",
      " [38.    5.09]\n",
      " [35.   -0.69]\n",
      " [35.    2.21]\n",
      " [35.   11.13]\n",
      " [37.   13.81]\n",
      " [38.   10.78]\n",
      " [39.    8.99]\n",
      " [37.    6.28]\n",
      " [39.    7.87]\n",
      " [44.    5.04]\n",
      " [42.   10.68]]\n",
      "Multiple Linear Regression Data\n",
      "[[35.   73.2  11.13]\n",
      " [37.   73.   13.81]\n",
      " [38.   75.2  10.78]\n",
      " [39.   67.4   8.99]\n",
      " [37.   68.6   6.28]\n",
      " [39.   72.2   7.87]\n",
      " [44.   73.2   5.04]\n",
      " [42.   78.7  10.68]]\n"
     ]
    }
   ],
   "source": [
    "# Simple Linear Regression Data: Drop the Year, Number of Applicants, Times Score columns\n",
    "simple_linear_regress_data = np.delete(my_data, [0, 2,3], 1)\n",
    "print(\"Simple Linear Regression Data\")\n",
    "print(simple_linear_regress_data)\n",
    "\n",
    "# Multiple Linear Regression Data: Drop the Year, Number of Applicant columns\n",
    "#                                  Drop All Rows where Times Score is Zero\n",
    "multiple_linear_regress_data = np.delete(my_data, [0, 3], 1)\n",
    "multiple_linear_regress_data = multiple_linear_regress_data[multiple_linear_regress_data[:,1] != 0.0]\n",
    "print(\"Multiple Linear Regression Data\")\n",
    "print(multiple_linear_regress_data)"
   ]
  },
  {
   "cell_type": "markdown",
   "metadata": {},
   "source": [
    "# Data Analysis\n",
    "\n",
    "Include text and code to explore and analyze the data your group used for your final project."
   ]
  },
  {
   "cell_type": "code",
   "execution_count": 3,
   "metadata": {},
   "outputs": [
    {
     "name": "stdout",
     "output_type": "stream",
     "text": [
      "                            OLS Regression Results                            \n",
      "==============================================================================\n",
      "Dep. Variable:                      y   R-squared:                       0.004\n",
      "Model:                            OLS   Adj. R-squared:                 -0.043\n",
      "Method:                 Least Squares   F-statistic:                   0.08631\n",
      "Date:                Wed, 18 Dec 2019   Prob (F-statistic):              0.772\n",
      "Time:                        22:13:01   Log-Likelihood:                -69.636\n",
      "No. Observations:                  23   AIC:                             143.3\n",
      "Df Residuals:                      21   BIC:                             145.5\n",
      "Df Model:                           1                                         \n",
      "Covariance Type:            nonrobust                                         \n",
      "==============================================================================\n",
      "                 coef    std err          t      P>|t|      [0.025      0.975]\n",
      "------------------------------------------------------------------------------\n",
      "const          9.4822     10.267      0.924      0.366     -11.869      30.833\n",
      "x1            -0.0838      0.285     -0.294      0.772      -0.677       0.509\n",
      "==============================================================================\n",
      "Omnibus:                        0.940   Durbin-Watson:                   0.920\n",
      "Prob(Omnibus):                  0.625   Jarque-Bera (JB):                0.745\n",
      "Skew:                          -0.413   Prob(JB):                        0.689\n",
      "Kurtosis:                       2.689   Cond. No.                         339.\n",
      "==============================================================================\n",
      "\n",
      "Warnings:\n",
      "[1] Standard Errors assume that the covariance matrix of the errors is correctly specified.\n"
     ]
    },
    {
     "data": {
      "image/png": "[encoded data removed]",
      "text/plain": [
       "<Figure size 432x288 with 1 Axes>"
      ]
     },
     "metadata": {
      "needs_background": "light"
     },
     "output_type": "display_data"
    },
    {
     "name": "stdout",
     "output_type": "stream",
     "text": [
      "[[35.  73.2]\n",
      " [37.  73. ]\n",
      " [38.  75.2]\n",
      " [39.  67.4]\n",
      " [37.  68.6]\n",
      " [39.  72.2]\n",
      " [44.  73.2]\n",
      " [42.  78.7]]\n",
      "                            OLS Regression Results                            \n",
      "==============================================================================\n",
      "Dep. Variable:                      y   R-squared:                       0.577\n",
      "Model:                            OLS   Adj. R-squared:                  0.408\n",
      "Method:                 Least Squares   F-statistic:                     3.416\n",
      "Date:                Wed, 18 Dec 2019   Prob (F-statistic):              0.116\n",
      "Time:                        22:13:02   Log-Likelihood:                -15.773\n",
      "No. Observations:                   8   AIC:                             37.55\n",
      "Df Residuals:                       5   BIC:                             37.79\n",
      "Df Model:                           2                                         \n",
      "Covariance Type:            nonrobust                                         \n",
      "==============================================================================\n",
      "                 coef    std err          t      P>|t|      [0.025      0.975]\n",
      "------------------------------------------------------------------------------\n",
      "const          0.4593     18.039      0.025      0.981     -45.911      46.829\n",
      "x1            -0.6873      0.303     -2.266      0.073      -1.467       0.092\n",
      "x2             0.4895      0.248      1.973      0.105      -0.148       1.127\n",
      "==============================================================================\n",
      "Omnibus:                        1.051   Durbin-Watson:                   2.569\n",
      "Prob(Omnibus):                  0.591   Jarque-Bera (JB):                0.761\n",
      "Skew:                           0.589   Prob(JB):                        0.683\n",
      "Kurtosis:                       2.054   Cond. No.                     1.92e+03\n",
      "==============================================================================\n",
      "\n",
      "Warnings:\n",
      "[1] Standard Errors assume that the covariance matrix of the errors is correctly specified.\n",
      "[2] The condition number is large, 1.92e+03. This might indicate that there are\n",
      "strong multicollinearity or other numerical problems.\n"
     ]
    },
    {
     "name": "stderr",
     "output_type": "stream",
     "text": [
      "/Users/amytrinhnguyen/Library/Python/3.6/lib/python/site-packages/scipy/stats/stats.py:1450: UserWarning: kurtosistest only valid for n>=20 ... continuing anyway, n=8\n",
      "  \"anyway, n=%i\" % int(n))\n"
     ]
    }
   ],
   "source": [
    "X = simple_linear_regress_data[:,0]\n",
    "Y = simple_linear_regress_data[:,1]\n",
    "results = sm.OLS(Y,sm.add_constant(X)).fit()\n",
    "print(results.summary())\n",
    "plt.scatter(X, Y, s=np.pi*3)\n",
    "plt.title('Simple Linear Regression')\n",
    "plt.xlabel('US News Score')\n",
    "plt.ylabel('UCSD Yearly Applicant Rate')\n",
    "plt.plot(np.unique(X), np.poly1d(np.polyfit(X, Y, 1))(np.unique(X)))\n",
    "plt.show()\n",
    "\n",
    "X = np.delete(multiple_linear_regress_data, [2], 1)\n",
    "Y = multiple_linear_regress_data[:,2]\n",
    "print(X)\n",
    "results = sm.OLS(Y,sm.add_constant(X)).fit()\n",
    "print(results.summary())"
   ]
  },
  {
   "cell_type": "markdown",
   "metadata": {},
   "source": [
    "<h1> Sentiment Analysis </h1>"
   ]
  },
  {
   "cell_type": "markdown",
   "metadata": {},
   "source": [
    "<h3> Data Sources</h3>\n",
    "<p> The first data source is a News Article on UCSD which we web scraped. The second is the training data used to get the probabilities of sentiment given certain words.</p>"
   ]
  },
  {
   "cell_type": "code",
   "execution_count": 4,
   "metadata": {},
   "outputs": [],
   "source": [
    "import pandas as pd\n",
    "\n",
    "# training data from CMU's CSE class: http://boston.lti.cs.cmu.edu/classes/95-865-K/HW/HW3/\n",
    "twitter_sent = pd.read_csv(\"twitter_sentiment.csv\")\n",
    "\n",
    "twitter_sent.head()\n",
    "\n",
    "#Splice the words in each column to remove the short words and stem\n",
    "def filter_col(text_col):\n",
    "    spliced = text_col.split(\" \")\n",
    "    filtered = list(filter(remove_short, spliced))\n",
    "    filtered_meaning = list(filter(remove_meaningless, filtered))\n",
    "    filtered_duplicates = list(set(filtered_meaning))\n",
    "    return filtered_duplicates\n",
    "\n",
    "\n",
    "meaningless = [\"@\", \"#\", \"/\", \"=\", \"<\", \">\", \"-\"]\n",
    "#remove words that are theoretically too short to mean much\n",
    "def remove_short(word):\n",
    "    if len(word) <= 3:\n",
    "            return False\n",
    "    return True\n",
    "\n",
    "#remove words with usernames, urls, and hashtags\n",
    "def remove_meaningless(word):\n",
    "    for i in meaningless:\n",
    "        if i in word:\n",
    "            return False\n",
    "    return True"
   ]
  },
  {
   "cell_type": "code",
   "execution_count": 5,
   "metadata": {},
   "outputs": [
    {
     "name": "stdout",
     "output_type": "stream",
     "text": [
      "['author', 'Diego', 'Political', 'Science', 'Professor', 'Wong', 'plans', 'announce', 'campaign', 'Diego’s', '53rd', 'Congressional', 'District', 'November', 'seat', 'which', 'opened', 'Democrat', 'Rep.', 'Susan', 'Davis', 'September', 'that', 'will', 'seek', 'reelection.', 'Wong', 'will', 'join', 'Sara', 'Jacobs,', 'Diego', 'City', 'Council', 'President', 'Georgette', 'others', 'race', '53rd', 'submitted', 'Democrat', 'days', 'before', 'opponent', 'Diego', 'Council', 'President', 'Georgette', 'Gómez', 'California', 'Democratic', 'Party’s', 'Congressional', 'stretches', 'from', 'Balboa', 'Park', 'west,', 'through', 'Mission', 'Valley', 'East', 'County,', 'continuing', 'south', 'Chula', 'Vista.', 'Wong', 'currently', 'lives', 'Diego’s', 'North', 'Park', 'formerly', 'undocumented', 'immigrant,', 'immigrated', 'with', 'family', 'from', 'Hong', 'Kong', 'two.', 'Wong', 'grew', 'neighborhood', 'Riverside', 'later', 'graduated', 'with', 'B.A.', 'Ph.D.', 'Political', 'Science', 'from', 'Riverside.', 'started', 'professor', 'UCSD', 'from', 'poor', 'family', 'poor', 'neighborhood', 'going', 'same', 'schools', 'rich', 'kids', 'learned', 'about', 'class', 'very', 'early', 'life,”', 'said', 'Wong', '2016', 'news', 'learned', 'about', 'what', 'didn’t', 'have.', 'also', 'learned', 'easy', 'excuse', 'served', 'adviser', 'under', 'Obama', 'administration', '2016', 'White', 'House', 'Initiative', 'Asian', 'Americans', 'Pacific', 'founding', 'director', 'Immigration', 'Policy', 'Center', 'Diego', 'which', 'researches', 'consequences', 'U.S.', 'immigration', 'policy.', 'Wong', 'recently', 'lead', 'author', 'study', 'effects', 'Trump', 'Administration’s', '“Remain', 'Mexico”', 'asylum', 'which', 'found', 'that', 'policy', 'exposes', 'asylum', 'seekers', 'risks', 'like', 'violence', 'homelessness', 'while', 'waiting', 'their', 'court', 'also', 'conducted', 'research', 'sanctuary', 'cities', 'Deferred', 'Action', 'Childhood', 'Arrivals', 'program.', 'most', 'recent', 'book', 'Politics', 'Immigration:', 'Partisanship,', 'Changing', 'Demographics,', 'American', 'National', 'Identity', '2016', 'focuses', 'incentives', 'congressional', 'representatives', 'have', 'support', 'oppose', 'immigration', 'policy', 'with', 'research', 'immigration', 'policy,', 'Wong', 'taught', 'classes', 'immigration,', 'human', 'rights,', 'multiculturalism.', 'According', 'Wong', 'also', 'consulted', 'campaigns', 'elections', 'mobilizing', 'voters', 'color', 'immigrant', 'told', 'that', 'work', 'immigration', 'politics', 'policy', 'done', 'honor', 'Chinese', 'family,', 'aren’t', 'very', 'sharing', 'feelings', 'with', 'each', 'other,”', 'Wong', 'told', 'show', 'them', 'appreciation,', 'acknowledgment', 'that', 'understand', 'came', 'here', 'struggle', 'growing', 'actually', 'worth', 'elected,', 'Wong', 'will', 'third', 'undocumented', 'immigrant', 'serve', 'California', 'Primary', 'Tuesday,', 'March', '2020', 'and,', 'under', 'primary', 'system,', 'will', 'decide', 'candidates', 'will', '2020', 'general', 'election', 'Elew', 'Senior', 'Staff', 'Writer', 'Triton.', 'follow', 'Musical’s', '“Songs', 'World”', 'Musical’s', '“Songs', 'World”', 'Sixth:', 'Friendship', 'That', 'Could', 'Never', 'Sixth:', 'Friendship', 'That', 'Could', 'Never', 'Culture:', 'Kaibigang', 'Culture:', 'Kaibigang', 'Hold', 'Vigil', 'Protest', 'Response', 'Iran', 'Humanitarian', 'Hold', 'Vigil', 'Protest', 'Response', 'Iran', 'Humanitarian', 'contact', 'send', 'tip?', 'that', 'send', 'contact', 'send', 'tip?', 'that', 'work', 'with', 'Fill', 'application', 'work', 'with', 'Fill', 'application', 'submit', 'letter', 'editor?', 'submit', 'letter', 'editor?', 'Copyright', 'Triton.', 'Triton', 'anyway', 'affiliated', 'with', 'Diego', 'opinions', 'expressed', 'therein', 'overall', 'public', 'opinions', 'UCSD,', 'ASUCSD,', 'staff.', 'Materials', 'produced', 'Triton', 'reflect', 'views', 'Regents', 'University', 'California', 'Regents', 'endorse,', 'warrant,', 'otherwise', 'take', 'responsibility', 'said', 'content.', 'Editorials', 'represent', 'majority', 'opinion', 'Triton', 'Editorial']\n"
     ]
    }
   ],
   "source": [
    "import urllib.request\n",
    "from bs4 import BeautifulSoup\n",
    "\n",
    "# Web scraped an article for text (sentiment analysis)\n",
    "\n",
    "# I consulted these articles:     \n",
    "#       https://www.analyticsvidhya.com/blog/2018/07/hands-on-sentiment-analysis-dataset-python/\n",
    "#       https://www.geeksforgeeks.org/reading-selected-webpage-content-using-python-web-scraping/\n",
    "\n",
    "strrr = \"\"\n",
    "req = urllib.request.Request('http://triton.news/2019/11/ucsd-professor-tom-wong-to-announce-run-for-congress-tomorrow/')\n",
    "\n",
    "with urllib.request.urlopen(req) as response:\n",
    "    the_page = response.read()\n",
    "    soup=BeautifulSoup(the_page,'html.parser')\n",
    "    l=soup.findAll(\"p\") # get all the paragraphs only in the html page\n",
    "    \n",
    "    for i in l:\n",
    "        strrr += str(i)\n",
    "    \n",
    "    txt_lst = strrr.split(\" \") #added all text to a list\n",
    "    filt_txt_lst = list(filter(remove_short, txt_lst))\n",
    "    art_words = list(filter(remove_meaningless, filt_txt_lst))\n",
    "    print(art_words)"
   ]
  },
  {
   "cell_type": "code",
   "execution_count": 7,
   "metadata": {},
   "outputs": [],
   "source": [
    "from nltk.stem import PorterStemmer #for stemming words\n",
    "\n",
    "#get the stem for same meaning words\n",
    "stemmer = PorterStemmer()\n",
    "filtered_cols = twitter_sent['text'].apply(filter_col)\n",
    "twitter_sent['text'] = filtered_cols.apply(lambda col: [stemmer.stem(word) for word in col])"
   ]
  },
  {
   "cell_type": "code",
   "execution_count": 8,
   "metadata": {},
   "outputs": [
    {
     "name": "stdout",
     "output_type": "stream",
     "text": [
      "{'that': {'Pos': 8, 'Neg': 32}, 'will': {'Pos': 9, 'Neg': 11}, 'support': {'Pos': 4, 'Neg': 3}, 'with': {'Pos': 16, 'Neg': 48}, 'said': {'Pos': 3, 'Neg': 3}, 'from': {'Pos': 14, 'Neg': 16}, 'which': {'Pos': 2, 'Neg': 4}, 'their': {'Pos': 3, 'Neg': 5}, 'send': {'Pos': 4, 'Neg': 10}, 'done': {'Pos': 6, 'Neg': 7}, 'about': {'Pos': 8, 'Neg': 16}, 'have': {'Pos': 8, 'Neg': 31}, 'work': {'Pos': 4, 'Neg': 16}, 'like': {'Pos': 5, 'Neg': 13}, 'most': {'Pos': 2, 'Neg': 6}, 'class': {'Pos': 2, 'Neg': 1}, 'what': {'Pos': 6, 'Neg': 16}, 'here': {'Pos': 2, 'Neg': 2}, 'worth': {'Pos': 2, 'Neg': 1}, 'honor': {'Pos': 2, 'Neg': 1}, 'have.': {'Pos': 2, 'Neg': 1}, 'lead': {'Pos': 2, 'Neg': 3}, 'book': {'Pos': 2, 'Neg': 4}, 'show': {'Pos': 4, 'Neg': 6}, 'submit': {'Pos': 2, 'Neg': 1}, 'contact': {'Pos': 2, 'Neg': 6}, 'author': {'Pos': 1, 'Neg': 5}, 'take': {'Pos': 1, 'Neg': 5}, 'under': {'Pos': 1, 'Neg': 2}, 'same': {'Pos': 1, 'Neg': 5}, 'through': {'Pos': 1, 'Neg': 3}, 'them': {'Pos': 1, 'Neg': 8}, 'seek': {'Pos': 1, 'Neg': 2}, 'poor': {'Pos': 1, 'Neg': 2}, 'staff.': {'Pos': 1, 'Neg': 2}, 'told': {'Pos': 1, 'Neg': 4}, 'each': {'Pos': 1, 'Neg': 2}, 'also': {'Pos': 1, 'Neg': 2}, 'while': {'Pos': 1, 'Neg': 2}} {'Pos': 137, 'Neg': 307}\n"
     ]
    }
   ],
   "source": [
    "probs = {}\n",
    "emo_count = {\"Pos\": 0, \"Neg\": 0}\n",
    "row_count = twitter_sent.shape[0]\n",
    "# iterate through all of the rows in the training data\n",
    "for i in range(row_count):\n",
    "    col = twitter_sent['class']\n",
    "    col2 = twitter_sent['text']\n",
    "    emo = str(col[i])\n",
    "    txt = list(col2[i])\n",
    "    \n",
    "    # gets the count of the emotions for every single word in text\n",
    "    for i in range(len(txt)):\n",
    "        spliced = txt[i]\n",
    "        # only use the words that appear in both the training dataset and the article\n",
    "        if spliced not in art_words:\n",
    "            continue\n",
    "            \n",
    "        word = probs.get(spliced)\n",
    "        if word:\n",
    "            if word.get(emo):\n",
    "                word[emo] += 1\n",
    "            else:\n",
    "                word[emo] = 1\n",
    "        else:\n",
    "            probs[spliced] = {}\n",
    "            word = probs.get(spliced)\n",
    "            # nudge both counts over by 1 to prevent \n",
    "            # any of the counts from being 0 (only nudge each word once)\n",
    "            word[\"Pos\"] = 1\n",
    "            word[\"Neg\"] = 1\n",
    "            word[emo] += 1\n",
    "            emo_count['Pos'] += 1 # accounts for nudging\n",
    "            emo_count['Neg'] += 1\n",
    "        \n",
    "        emo_count[emo] += 1\n",
    "    \n",
    "\n",
    "print(probs, emo_count)"
   ]
  },
  {
   "cell_type": "code",
   "execution_count": 9,
   "metadata": {},
   "outputs": [],
   "source": [
    "def calc_cond(emo, word):\n",
    "    if word.get(emo):\n",
    "        return word.get(emo)/emo_count.get(emo)\n",
    "    return 0\n",
    "\n",
    "def calc_all_cond(emo):\n",
    "    prob_words_given_emo = emo_count.get(emo)\n",
    "    for key in probs.keys():\n",
    "        word = probs.get(key)\n",
    "        prob_words_given_emo *= calc_cond(emo, word)\n",
    "    return prob_words_given_emo"
   ]
  },
  {
   "cell_type": "code",
   "execution_count": 10,
   "metadata": {},
   "outputs": [
    {
     "name": "stdout",
     "output_type": "stream",
     "text": [
      "The article has positive sentiment\n"
     ]
    }
   ],
   "source": [
    "prob_pos_g_w = calc_all_cond(\"Pos\")\n",
    "prob_neg_g_w = calc_all_cond(\"Neg\")\n",
    "\n",
    "if prob_pos_g_w > prob_neg_g_w:\n",
    "    print(\"The article has positive sentiment\")\n",
    "elif prob_pos_g_w < prob_neg_g_w:\n",
    "    print(\"The article has negative sentiment\")\n",
    "else:\n",
    "    print(\"The article is neutral\")"
   ]
  },
  {
   "cell_type": "markdown",
   "metadata": {},
   "source": [
    "# Programming Experience\n",
    "\n",
    "In this section, include information about your team's level of exprience programming in Python. Discuss briefly what new things (concepts, skills, packages, etc.) you learned by completing this extra credit."
   ]
  },
  {
   "cell_type": "markdown",
   "metadata": {},
   "source": [
    "<p>Three of the members have had Python programming experiance and are Data Science Majors (2 sophmores and 1 freshman). Some of us have taken DSC10 and DSC20 courses. However, we all needed refreshes as it was a while ago that some of us last wrote Python We also learned the new API: statsmodels. We didnt use this in our prior classes. We used this to perform simple and multiple linear regression. We also did lots of Google searches, this was useful to learn how to plot a scatter chart.</p>\n",
    "\n",
    "<p>Amy's Past Experiences: I took DSC 20 and did a did a Data Challenge so I have basic experience using Python and Pandas.<br> Amy's contributions: I did the attempt for the sentiment analysis portion so I learned a lot about having reading data from a URL using URLlib and using beautiful soup to get rid of the unneccesary HTML. I applied the concepts of tokenization to stem words and remove unneccesary words for analysis. This is my first time using PorterStemmer. </p>\n",
    "\n",
    "<p>Saroop worked on the data input, linear Regression and visualization and learned the statsmodels for the first time.</p>\n",
    "\n",
    "<p>All members reviewed the code and had a basic understanding of what we were attempting.</p>\n",
    "\n"
   ]
  },
  {
   "cell_type": "code",
   "execution_count": null,
   "metadata": {},
   "outputs": [],
   "source": [
    "\n"
   ]
  },
  {
   "cell_type": "code",
   "execution_count": 12,
   "metadata": {},
   "outputs": [
    {
     "name": "stderr",
     "output_type": "stream",
     "text": [
      "/Library/Frameworks/Python.framework/Versions/3.6/lib/python3.6/site-packages/ipykernel_launcher.py:11: DeprecationWarning: cafile, cpath and cadefault are deprecated, use a custom context instead.\n",
      "  # This is added back by InteractiveShellApp.init_path()\n"
     ]
    }
   ],
   "source": [
    "#https://stackoverflow.com/questions/27835619/urllib-and-ssl-certificate-verify-failed-error\n",
    "import certifi\n",
    "\n",
    "req = urllib.request.Request(\"https://ucsdnews.ucsd.edu/pressrelease/stroke-drug-boosts-stem-cell-therapy-for-spinal-cord-injury-in-rats\")\n",
    "\n",
    "# usock = urllib.request.urlopen(req)\n",
    "# html = usock.read()\n",
    "# usock.close()\n",
    "# print(html)\n",
    "\n",
    "with urllib.request.urlopen(req, cafile=certifi.where()) as response:\n",
    "    the_page = response.read()\n",
    "    soup=BeautifulSoup(the_page,'html.parser')"
   ]
  },
  {
   "cell_type": "code",
   "execution_count": 21,
   "metadata": {},
   "outputs": [
    {
     "name": "stdout",
     "output_type": "stream",
     "text": [
      "Checking connection to Site...\n",
      "Connection to Site OK.\n",
      "b'<!DOCTYPE html>\\n<!--[if lt IE 7]>      <html class=\"no-js lt-ie9 lt-ie8 lt-ie7\"> <![endif]-->\\n<!--[if IE 7]>         <html class=\"no-js lt-ie9 lt-ie8\"> <![endif]-->\\n<!--[if IE 8]>         <html class=\"no-js lt-ie9\"> <![endif]-->\\n<!--[if gt IE 8]><!--> <html class=\"no-js modern\"> <!--<![endif]-->\\n<head>\\n\\t<meta charset=\"utf-8\">\\n\\t<meta http-equiv=\"X-UA-Compatible\" content=\"IE=edge,chrome=1\">\\n\\n<!-- editable : insert title and tag logic here -->\\n\\t<title>Stroke Drug Boosts Stem Cell Therapy for Spinal Cord Injury in Rats</title>\\n\\n<!-- end editable -->\\n\\n\\t<meta name=\"viewport\" content=\"width=device-width, initial-scale=1.0\">\\n\\t\\n\\t\\n\\t\\n\\t\\n\\t\\t<meta property=\"og:description\" content=\"In a UC San Diego study, rats with spinal cord injuries experienced a three-fold increase in motor activity when treated with neural progenitor cells that had been pre-conditioned with a modified form of tPA, a drug commonly used to treat non-hemorrhagic stroke.\"/>\\n\\t\\t\\t\\n\\t\\n\\t\\n\\t\\n\\t\\n\\n<link rel=\"stylesheet\" href=\"/css/css/style.css?v=1.7\">\\n\\n<!-- galleria vendor css -->\\n<link type=\"text/css\" rel=\"stylesheet\" href=\"/js/vendor/galleria/themes/classic/galleria.classic.css\">\\n\\n<!-- modernizr -->\\n<script type=\"text/javascript\" src=\"/js/vendor/modernizr-2.6.2-respond-1.1.0.min.js\"></script>\\n\\n<!-- load typekit fonts -->\\n<script type=\"text/javascript\" src=\"//use.typekit.net/ztl8una.js\"></script>\\n<script type=\"text/javascript\">try{Typekit.load();}catch(e){}</script>\\n\\n<script>\\n  (function(i,s,o,g,r,a,m){i[\\'GoogleAnalyticsObject\\']=r;i[r]=i[r]||function(){(i[r].q=i[r].q||[]).push(arguments)},i[r].l=1*new Date();a=s.createElement(o),\\n  m=s.getElementsByTagName(o)[0];a.async=1;a.src=g;m.parentNode.insertBefore(a,m)\\n  })(window,document,\\'script\\',\\'https://www.google-analytics.com/analytics.js\\',\\'ga\\');\\n\\n  ga(\\'create\\', \\'UA-3409104-4\\', \\'auto\\');\\n  ga(\\'send\\', \\'pageview\\');\\n</script>\\n\\n\\t\\n\\n</head>\\n\\n<!-- use ex or lx on the body class for more or less chrome within the content area. ex is a cleaner, stripped down version of the theme -->\\n<body class=\"ex\">\\n\\t<div id=\"fb-root\"></div>\\n\\t<script>(function(d, s, id) {\\n\\t  var js, fjs = d.getElementsByTagName(s)[0];\\n\\t  if (d.getElementById(id)) return;\\n\\t  js = d.createElement(s); js.id = id;\\n\\t  js.src = \\'https://connect.facebook.net/en_US/sdk.js#xfbml=1&version=v3.0\\';\\n\\t  fjs.parentNode.insertBefore(js, fjs);\\n\\t}(document, \\'script\\', \\'facebook-jssdk\\'));</script>\\n\\n\\t<header id=\"sh\">\\n\\t\\n\\t<!-- SITE TITLE -->\\n\\t\\n<!-- editable : insert site title text and classes here -->\\n\\t\\t<div id=\"sh-titles\" class=\"sh-titles-separate double-title l-row clearfix\">\\n\\t\\t\\t<div class=\"sh-background\">NEWS</div>\\n\\t\\t\\t<div class=\"sh-campus\"><a href=\"http://ucsd.edu\" class=\"sh-campus-link\" target=\"_blank\">UC San Diego</a></div>\\n\\t\\t\\t<h1 class=\"sh-site sh-site-small\"><a href=\"/\">UC San Diego News Center</a></h1>\\n<!-- end editable -->\\n\\t\\t\\t<a class=\"sn-link smooth\" href=\"#sn\"><div><span>MENU</span></div></a>\\n\\t\\t</div>\\n\\t</header>\\n\\n<div id=\"content-wrapper\">\\n\\t<div id=\"nr-layout\" class=\"content l-row clearfix\">\\n\\t\\t<article id=\"story\">\\n\\t\\t\\t\\n\\t\\t\\t\\n\\n\\t\\t\\t\\n\\n\\t\\t\\t\\n\\n\\t\\t\\t\\n\\t\\t\\t\\t\\n\\t\\t\\t\\n\\n\\t\\t\\t<header class=\"clearfix\">\\n\\t\\t\\t\\t<div class=\"story-meta\">\\n\\t\\t\\t\\t\\t<time class=\"story-date\" datetime=\"2019-12-17\">\\n\\t\\t\\t\\t\\t\\t<a href=\"https://ucsdnews.ucsd.edu/archives/date/171219\">December 17, 2019</a>\\n\\t\\t\\t\\t\\t</time>\\n\\t\\t\\t\\t\\t\\n\\t\\t\\t\\t\\t<span class=\"separator\">|</span>\\n\\t\\t\\t\\t\\t<span class=\"story-auth\">\\n\\t\\t\\t\\t\\t\\tBy <a href=\"https://ucsdnews.ucsd.edu/archives/author/Heather Buschman, PhD\">Heather Buschman, PhD</a>\\n\\t\\t\\t\\t\\t</span>\\n\\t\\t\\t\\t\\t\\n\\t\\t\\t\\t</div>\\n\\n\\t\\t\\t\\t<h1>Stroke Drug Boosts Stem Cell Therapy for Spinal Cord Injury in Rats</h1>\\n\\t\\t\\t\\t\\n\\t\\t\\t</header>\\n\\n\\t\\t\\t<!-- //////// BEGIN ARTICLE CONTENT //////// -->\\n\\t\\t\\t<div class=\"story-body\">\\n\\t\\t\\t\\t\\n\\n\\t\\t\\t\\t<p>Four months after treating them, Yasuhiro Shiga, MD, PhD, checked on his rats. Walking into the lab, he carried minimal expectations. Treating spinal cord injuries with stem cells had been tried by many people, many times before, with modest success at best. The endpoint he was specifically there to measure &mdash; pain levels &mdash; hadn&rsquo;t seemed to budge in past efforts.</p>\\n\\n<p>&ldquo;Well, it doesn&rsquo;t seem to be working. I don&rsquo;t see any real change in pain behavior in any of the groups,&rdquo; said Shiga, a visiting scholar at University of California San Diego School of Medicine, apologetically, as he walked into the office of his supervisor, Wendy Campana, PhD, professor in the Department of Anesthesiology and Program in Neuroscience.</p>\\n\\n<p>But, to Campana&rsquo;s surprise, he continued, almost as an after-thought.</p>\\n\\n<figure class=\"sm r\"><img alt=\"SCI stem cells\" src=\"/news_uploads/2019_12_17_Campana-SCI-stem-cells.jpg\" />\\n<p>In this microscopic view of rat spinal cord injury models, you can see a large abundance of neural progenitor cell-derived axons emerging when the cells are preconditioned with modified tPA stroke drug (right) than in those who received unconditioned cells (left).</p>\\n</figure>\\n\\n<p>&ldquo;Although &hellip; some rats are actually really moving.&rdquo; &nbsp;</p>\\n\\n<p>The difference for those rats was this: Before delivering them into the spinal cord injury site, Shiga and Campana had conditioned stem cells with a modified form of tissue-type plasminogen activator (tPA), a drug commonly used to treat non-hemorrhagic stroke.</p>\\n\\n<p>Their findings are published December 17, 2019 in <a href=\"https://www.nature.com/articles/s41598-019-55132-8\" target=\"_blank\"><em>Scientific Reports</em></a>.</p>\\n\\n<p>tPA is used to break up blood clots, allowing blood to more freely flow back into the brain following a stroke. But tPA is also a naturally occurring enzyme known to boost neuron growth and dampen inflammation. So the researchers used an enzymatically inactive form of tPA, still anti-inflammatory and pro-neuron growth but without effect on blood clotting, which could be a dangerous side effect in a person not having a stroke.</p>\\n\\n<p>In a laboratory dish, the researchers added the modified tPA to neural progenitor cells &mdash; the precursors to neurons. They had generated these pre-neurons from induced pluripotent stem cells, a special kind of stem cell that can be derived from a person&rsquo;s skin cells. After 15 minutes, the researchers transferred either tPA-conditioned or unconditioned neural progenitor cells to the injury site in a rat model of severe spinal cord injury.</p>\\n\\n<p>Two months after treatment, the researchers found 2.5-fold more tPA-conditioned neural progenitor cells than unconditioned cells still present in the rats. What&rsquo;s more, the tPA-conditioned cells had begun specializing into full-fledged neurons, with axons (branches) emerging from the site of transplantation and extending as far as four vertebrae away. According to Campana, that&rsquo;s unusual.</p>\\n\\n<p>&ldquo;It was striking to see at two and four months the tremendous improvements in the ability of those progenitor cells to survive in the injury cavity,&rdquo; she said. &ldquo;Just keeping these cells alive has been very difficult in past studies.&rdquo;</p>\\n\\n<p>Even more surprisingly, it turned out that what Shiga had observed in the rats with modified tPA was a three-fold increase in motor activity after four months, as measured using a well-established scoring system that quantifies a combination of rat joint and limb movements, trunk stability, paw and tail positioning, stepping and coordination.</p>\\n\\n<p>Pain is a special focus of Campana&rsquo;s lab and the team was initially most interested in that aspect of spinal cord injury treatment. They measure pain in rat models based on how they lift their front paws in response to added weights.</p>\\n\\n<p>&ldquo;The addition of tPA-treated neural precursors didn&rsquo;t reduce pain in this model,&rdquo; Campana said. &ldquo;But we also didn&rsquo;t exacerbate it &mdash; and to not see increased pain is important safety information for clinical translation to improve motor outcomes. We also don&rsquo;t want worsen the pain burden of patients living with spinal cord injuries.&rdquo;</p>\\n\\n<p>One limitation of this spinal cord injury model is that the rats don&rsquo;t live long enough to truly recapitulate what for humans is a long-term condition, or long enough to measure potential changes in gene expression over time. But it is currently the best available non-human primate model for the human situation, Campana said.</p>\\n\\n<p>While Campana&rsquo;s work may be many years away from testing in patients, her approach has two potential advantages compared to other studies: 1) the use of induced pluripotent stem cells means a patient&rsquo;s own cells would be the source of treatment, rather than a transplant of donated cells from another person, and 2) tPA is already approved by the U.S. Food and Drug Administration (FDA) for use in humans.</p>\\n\\n<p>The team next plans to dive into what, exactly, modified tPA does to neural progenitor cells on a molecular level that stimulates their growth and allows them to help repair spinal cord injuries.</p>\\n\\n<p>Meanwhile, other UC San Diego School of Medicine researchers are testing other approaches to treating spinal cord injuries with stem cells in clinical trials. For example, in June 2018, <a href=\"https://health.ucsd.edu/news/releases/Pages/2018-06-01-stem-cell-based-phase-I-trial-to-repair-spinal-cord-injuries-produces-encouraging-results.aspx\" target=\"_blank\">a team reported</a> that a first-in-human phase I clinical trial in which neural stem cells were transplanted into participants with chronic spinal cord injuries produced measurable improvement in three of four subjects, with no serious adverse effects.</p>\\n\\n<p>There are currently an estimated 291,000 people living with a spinal cord injury in the U.S. and approximately 17,730 new cases each year, according to 2019 statistics provided by the National Spinal Cord Injury Statistic Center at the University of Alabama at Birmingham. There is no way to reverse damage to the spinal cord. There are no FDA-approved stem cell-based therapies available for spinal cord injuries. Depending on the type and severity of the injury, spinal cord injuries are currently managed &mdash; and further injury prevented &mdash; with a combination of surgery, medications to manage pain, rehabilitation and assistive devices.</p>\\n\\n<p>Additional co-authors include: Akina Shiga, Seiji Ohtori, Chiba University; Pinar Mesci, HyoJun Kwon, Coralie Brifault, John H. Kim, Jacob J. Jeziorski, Chanond Nasamran, Alysson R. Muotri, and Steven L. Gonias, UC San Diego.</p>\\n\\n<p>This research was funded, in part, by the National Institutes of Health (grants R01NS097590, R01HL136395, UL1TR001442, R01MH108528, R01MH094753, R01MH109885, R01MH100175 and U19MH107367), U.S. Department of Defense (grant SC140273 / W81XWH-15-1-0498), International Rett Syndrome Foundation and National Cooperative Reprogrammed Cell Research Groups to Study Mental Illness.</p>\\n\\n<p><em>Disclosure: Co-author Alysson Muotri, PhD, is a co-founder and has equity interest in TISMOO, a company dedicated to genetic analysis focusing on therapeutic applications customized for autism spectrum disorder and other neurological disorders with genetic origins. The terms of this arrangement have been reviewed and approved by the University of California San Diego in accordance with its conflict of interest policies.</em></p>\\n\\n\\t\\t\\t\\t<section id=\"social-share-links\" class=\"share e-share clearfix\">\\n\\t<h2 class=\"share-h\">Share</h2>\\n\\t<ul>\\n\\t\\t<li class=\"social-item\"><a href=\"http://www.facebook.com/sharer.php?u=https://ucsdnews.ucsd.edu/pressrelease/stroke-drug-boosts-stem-cell-therapy-for-spinal-cord-injury-in-rats\" class=\"social-link facebook-link\" rel=\"external\" data-gaLabel=\"facebook\" title=\"Share on Facebook\" target=\"_blank\">Facebook</a></li>\\n\\t\\t<li class=\"social-item\"><a href=\"http://twitter.com/share?text=Stroke Drug Boosts Stem Cell Therapy for Spinal Cord Injury in Rats&url=https://ucsdnews.ucsd.edu/pressrelease/stroke-drug-boosts-stem-cell-therapy-for-spinal-cord-injury-in-rats\" class=\"social-link twitter-link\" rel=\"external\" data-gaLabel=\"twitter\" title=\"Tweet on Twitter\" target=\"_blank\">Twitter</a></li>\\n\\t\\t<li class=\"social-item\"><a href=\"http://www.linkedin.com/shareArticle?mini=true&title=Stroke Drug Boosts Stem Cell Therapy for Spinal Cord Injury in Rats&url=https://ucsdnews.ucsd.edu/pressrelease/stroke-drug-boosts-stem-cell-therapy-for-spinal-cord-injury-in-rats\" class=\"social-link linkedin-link\" rel=\"external\" data-gaLabel=\"linkedin\" title=\"Share on Linkedin\" target=\"_blank\">Linkedin</a></li>\\n\\t\\t<li class=\"social-item\">\\n\\t\\t\\t<script>\\n\\t\\t\\tdocument.write(\\'<a href=\"mailto:?subject=\\' + encodeURIComponent(\\'Stroke Drug Boosts Stem Cell Therapy for Spinal Cord Injury in Rats\\') + \\'&body=I%20thought%20you%20might%20be%20interested%20in%20this%20story:%0A%0Ahttps://ucsdnews.ucsd.edu/pressrelease/stroke-drug-boosts-stem-cell-therapy-for-spinal-cord-injury-in-rats\" class=\"social-link mail-link\" rel=\"external\" data-gaLabel=\"email\" title=\"Send this page to a friend\">Email</a>\\');\\n\\t\\t\\t</script>\\n\\t\\t\\t<noscript>\\n\\t\\t\\t\\t<a href=\"mailto:?subject=Stroke Drug Boosts Stem Cell Therapy for Spinal Cord Injury in Rats&body=I%20thought%20you%20might%20be%20interested%20in%20this%20story:%0A%0Ahttps://ucsdnews.ucsd.edu/pressrelease/stroke-drug-boosts-stem-cell-therapy-for-spinal-cord-injury-in-rats\" class=\"social-link mail-link\" rel=\"external\" data-gaLabel=\"email\" title=\"Send this page to a friend\">Email</a>\\n\\t\\t\\t</noscript>\\n\\t\\t</li>\\n\\t\\t<li class=\"social-item\"><a class=\"social-link print-link\" rel=\"external\" data-gaLabel=\"print\" title=\"Print this page\">Print</a></li>\\n\\t</ul>\\n</section>\\n\\n\\t\\t\\t\\t<hr />\\n\\n\\t\\t\\t\\t\\n\\n\\t\\t\\t\\t<div class=\"highlight\">\\n\\t\\t\\t\\t\\t<p>\\n\\t\\t\\t\\t\\t\\tUC San Diego\\xe2\\x80\\x99s <a href=\"https://ucpa.ucsd.edu/services/studio/\">Studio Ten 300</a> offers radio and television connections for media interviews with our faculty, which can be coordinated via <span data-eeEncEmail_wXnwdHbVMv=\\'1\\'>.(JavaScript must be enabled to view this email address)</span><script>/*<![CDATA[*/var out = \\'\\',el = document.getElementsByTagName(\\'span\\'),l = [\\'>\\',\\'a\\',\\'/\\',\\'<\\',\\' 117\\',\\' 100\\',\\' 101\\',\\' 46\\',\\' 100\\',\\' 115\\',\\' 99\\',\\' 117\\',\\' 64\\',\\' 111\\',\\' 105\\',\\' 100\\',\\' 117\\',\\' 116\\',\\' 115\\',\\'>\\',\\'\\\\\"\\',\\' 117\\',\\' 100\\',\\' 101\\',\\' 46\\',\\' 100\\',\\' 115\\',\\' 99\\',\\' 117\\',\\' 64\\',\\' 111\\',\\' 105\\',\\' 100\\',\\' 117\\',\\' 116\\',\\' 115\\',\\':\\',\\'o\\',\\'t\\',\\'l\\',\\'i\\',\\'a\\',\\'m\\',\\'\\\\\"\\',\\'=\\',\\'f\\',\\'e\\',\\'r\\',\\'h\\',\\'a \\',\\'<\\'],i = l.length,j = el.length;while (--i >= 0)out += unescape(l[i].replace(/^\\\\s\\\\s*/, \\'&#\\'));while (--j >= 0)if (el[j].getAttribute(\\'data-eeEncEmail_wXnwdHbVMv\\'))el[j].innerHTML = out;/*]]>*/</script>. To connect with a UC San Diego faculty expert on relevant issues and trending news stories, visit <a href=\"https://ucsdnews.ucsd.edu/media-resources/faculty-experts\">https://ucsdnews.ucsd.edu/media-resources/faculty-experts</a>. \\n\\t\\t\\t\\t\\t</p>\\n\\t\\t\\t\\t</div>\\n\\n\\t\\t\\t\\t<!-- Show Campaign for UC San Diego logo if category is \"Philanthropy\" -->\\n\\t\\t\\t\\t\\n\\t\\t\\t\\t\\t\\n\\t\\t\\t \\t\\n\\t\\t\\t\\t\\t\\n\\t\\t\\t \\t\\n\\t\\t\\t\\t\\t\\n\\t\\t\\t \\t\\n\\t\\t\\t</div>\\n\\t\\t\\t<!-- //////// END ARTICLE CONTENT //////// -->\\n\\n\\t\\t\\t<!--///////////////// BEGIN SIDEBAR ////////////// -->\\n\\t\\t\\t<aside class=\"nr-sidebar sidebar\">\\n\\n\\t\\t\\t\\t\\n\\n\\t\\t\\t\\t<!-- //////// RELATED LINKS BEGIN //////// -->\\n\\t\\t\\t\\t\\n\\t\\t\\t\\t<!-- //////// RELATED LINKS END //////// -->\\n\\n\\t\\t\\t\\t<!-- //////// FILED UNDER BEGIN //////// -->\\n\\t\\t\\t\\t \\n<section class=\"story-cats accessory clearfix\">\\n\\t<h2>Filed Under</h2>\\n\\t<ul class=\"cats-list\">\\n\\t\\t\\n\\t\\t\\n\\t\\t\\n\\t\\t<li><a href=\"https://ucsdnews.ucsd.edu/archives/category/health_med\">Health &amp; Medicine</a></li>\\n\\t\\t\\n\\t\\t\\n\\t\\t<li><a href=\"https://ucsdnews.ucsd.edu/archives/category/rsh\">Research</a></li>\\n\\t\\t\\n\\t\\t\\n\\t\\t<li><a href=\"https://ucsdnews.ucsd.edu/archives/category/sci_eng\">Science &amp; Engineering</a></li>\\n\\t\\t\\n\\t\\t\\n\\t\\t<li><a href=\"https://ucsdnews.ucsd.edu/archives/category/alum\">Alumni</a></li>\\n\\t\\t\\n\\t\\t\\n\\t\\t<li><a href=\"https://ucsdnews.ucsd.edu/archives/category/fac\">Faculty</a></li>\\n\\t\\t\\n\\t\\t\\n\\t\\t<li><a href=\"https://ucsdnews.ucsd.edu/archives/category/leadership\">Leadership</a></li>\\n\\t\\t\\n\\t\\t\\n\\t\\t<li><a href=\"https://ucsdnews.ucsd.edu/archives/category/sta\">Staff</a></li>\\n\\t\\t\\n\\t\\t\\n\\t\\t<li><a href=\"https://ucsdnews.ucsd.edu/archives/category/stu\">Students</a></li>\\n\\t\\t\\n\\t\\t\\n\\t\\t<li><a href=\"https://ucsdnews.ucsd.edu/archives/category/som\">School of Medicine</a></li>\\n\\t\\t\\n\\t\\t\\n\\t</ul>\\n</section>\\n\\n\\t\\t\\t\\t<!-- //////// FILED UNDER END //////// -->\\n\\n\\n\\n\\t\\t\\t\\t<!-- //////// ABOUT OUR CAMPUS BEGIN //////// -->\\n\\t\\t\\t\\t\\t\\t\\t\\t\\t\\t<section class=\"quick-links accessory\">\\n\\t\\t\\t\\t\\t\\t\\t<h2>About Our Campus</h2>\\n\\t\\t\\t\\t\\t\\t\\t<ul class=\"link-list\">\\n\\t\\t\\t\\t\\t\\t\\t\\t<li><a href=\"http://ucpa.ucsd.edu/resources/campus-profile/\" target=\"_blank\" class=\"ct\" data-gaCategory=\"home-quicklink\" data-gaLabel=\"profile\">Campus Profile</a></li>\\n\\t\\t\\t\\t\\t\\t\\t\\t<li><a href=\"http://ucpa.ucsd.edu/resources/tours/\" target=\"_blank\" class=\"ct\" data-gaCategory=\"home-quicklink\" data-gaLabel=\"tours\">Campus Tours</a></li>\\n\\t\\t\\t\\t\\t\\t\\t\\t<li><a href=\"http://ucpa.ucsd.edu/about/contact/\" target=\"_blank\"  class=\"ct\" data-gaCategory=\"home-quicklink\" data-gaLabel=\"contact\">Contact UCPA</a></li>\\n\\t\\t\\t\\t\\t\\t\\t</ul>\\n\\t\\t\\t\\t\\t\\t</section>\\n\\t\\t\\t\\t<!-- //////// ABOUT OUR CAMPUS END //////// -->\\n\\t\\t\\t</aside>\\n\\t\\t\\t<!--//////////////// END SIDEBAR ////////////// -->\\n\\n\\t\\t\\n\\t\\t</article>\\n\\t</div>\\n</div><!-- end content wrapper -->\\n\\n\\t<div id=\"sn\">\\n\\t\\t<div class=\"l-row\">\\n\\t\\t\\t<nav id=\"sn-nav\">\\n\\t\\t\\t\\t\\t<ul class=\"sf-menu\" id=\"site-nav\">\\n\\t\\t\\t\\t\\t\\t<li><a href=\"/\" >Home</a></li>\\n\\t\\t\\t\\t\\t\\t<li><a href=\"/archives\" >News</a>\\n\\t\\t\\t\\t\\t\\t\\t<ul>\\n\\t\\t\\t\\t\\t\\t\\t\\t<li><a href=\"/archives\" >All News</a>\\n\\n\\t\\t\\t\\t\\t\\t\\t\\t\\n\\t\\t\\t\\t\\t\\t\\t\\t\\t<li><a href=\"https://ucsdnews.ucsd.edu/archives/category/art_cul\" >Arts &amp; Culture</a></li>\\n\\t\\t\\t\\t\\t\\t\\t\\t\\n\\t\\t\\t\\t\\t\\t\\t\\t\\t<li><a href=\"https://ucsdnews.ucsd.edu/archives/category/ath\" >Athletics</a></li>\\n\\t\\t\\t\\t\\t\\t\\t\\t\\n\\t\\t\\t\\t\\t\\t\\t\\t\\t<li><a href=\"https://ucsdnews.ucsd.edu/archives/category/bus_econ\" >Business &amp; Economics</a></li>\\n\\t\\t\\t\\t\\t\\t\\t\\t\\n\\t\\t\\t\\t\\t\\t\\t\\t\\t<li><a href=\"https://ucsdnews.ucsd.edu/archives/category/camp_comm\" >Campus &amp; Community</a></li>\\n\\t\\t\\t\\t\\t\\t\\t\\t\\n\\t\\t\\t\\t\\t\\t\\t\\t\\t<li><a href=\"https://ucsdnews.ucsd.edu/archives/category/health_med\" >Health &amp; Medicine</a></li>\\n\\t\\t\\t\\t\\t\\t\\t\\t\\n\\t\\t\\t\\t\\t\\t\\t\\t\\t<li><a href=\"https://ucsdnews.ucsd.edu/archives/category/philanthropy\" >Philanthropy</a></li>\\n\\t\\t\\t\\t\\t\\t\\t\\t\\n\\t\\t\\t\\t\\t\\t\\t\\t\\t<li><a href=\"https://ucsdnews.ucsd.edu/archives/category/rsh\" >Research</a></li>\\n\\t\\t\\t\\t\\t\\t\\t\\t\\n\\t\\t\\t\\t\\t\\t\\t\\t\\t<li><a href=\"https://ucsdnews.ucsd.edu/archives/category/sci_eng\" >Science &amp; Engineering</a></li>\\n\\t\\t\\t\\t\\t\\t\\t\\t\\n\\t\\t\\t\\t\\t\\t\\t\\t\\t<li><a href=\"https://ucsdnews.ucsd.edu/archives/category/soc_pol\" >Society &amp; Politics</a></li>\\n\\t\\t\\t\\t\\t\\t\\t\\t\\n\\t\\t\\t\\t\\t\\t\\t\\t<li class=\"rsh-theme-nav\"><a href=\"/more/slideshow\" >Slideshows</a></li>\\n\\t\\t\\t\\t\\t\\t\\t</ul>\\n\\t\\t\\t\\t\\t\\t</li>\\n\\t\\t\\t\\t\\t\\t<li><a href=\"/this-week\" >This Week Newsmagazine</a>\\n\\t\\t\\t\\t\\t\\t\\t<ul>\\n\\t\\t\\t\\t\\t\\t\\t\\t<li><a href=\"/this-week\">Current Issue</a>\\n\\t\\t\\t\\t\\t\\t\\t\\t<li><a href=\"/this-week/archive\" >Past Issues</a></li>\\n\\t\\t\\t\\t\\t\\t\\t\\t<li><a href=\"/this-week/about\" >About This Week</a>\\n\\t\\t\\t\\t\\t\\t\\t\\t<li><a href=\"/subscribe\" >Subscribe</a></li>\\n\\t\\t\\t\\t\\t\\t\\t</ul>\\n\\t\\t\\t\\t\\t\\t</li>\\n\\t\\t\\t\\t\\t\\t<li><a href=\"/media-resources\" >Resources for Media</a>\\n\\t\\t\\t\\t\\t\\t\\t<ul>\\n\\t\\t\\t\\t\\t\\t\\t\\t<li><a href=\"/media-resources/faculty-experts\" >Faculty Experts</a></li>\\n\\t\\t\\t\\t\\t\\t\\t\\t<li><a href=\"/media-resources/media-contacts\" >Media Contacts</a></li>\\n\\t\\t\\t\\t\\t\\t\\t\\t<li><a href=\"https://ucpa.ucsd.edu/campus-profile/\">Campus Profile</a></li>\\n\\t\\t\\t\\t\\t\\t\\t\\t<li><a href=\"https://ucpa.ucsd.edu/resources/image-library/\">Campus Images</a></li>\\n\\t\\t\\t\\t\\t\\t\\t\\t<li><a href=\"https://ucpa.ucsd.edu/services/studio/\">Studio Ten 300</a></li>\\n\\t\\t\\t\\t\\t\\t\\t\\t<li><a href=\"https://ucpa.ucsd.edu/brand/downloads/\">Logo</a></li>\\n\\t\\t\\t\\t\\t\\t\\t\\t<li><a href=\"https://ucpa.ucsd.edu/brand/story/use-of-the-university-name/\">University Name</a></li>\\n\\t\\t\\t\\t\\t\\t\\t</ul>\\n\\t\\t\\t\\t\\t\\t</li>\\n\\t\\t\\t\\t\\t\\t\\n\\t\\t\\t\\t\\t</ul>\\n<!-- end SITE NAV -->\\n\\t\\t\\t</nav>\\n\\n<!-- SEARCH -->\\n\\n\\t\\t\\t<div id=\"sn-search\" class=\"\">\\n\\n\\t\\t\\t\\t<a href=\"#\" class=\"sn-search-trigger\">Search</a><!-- triggers the search panel -->\\n\\n\\t\\t\\t\\t<div class=\"sn-search-panel clearfix\">\\n<!-- \\t\\t\\t\\t\\t<h1>Search</h1> -->\\n\\n<!-- search selector -->\\n\\t\\t\\t\\t\\t<div class=\"sn-search-selector\">\\n\\t\\t\\t\\t\\t\\t<div class=\"sn-search-selector-trigger sn-search-selector-pop-opener toggle\" rel=\"this-search-item\">This Site</div>\\n<!-- search topics panel -->\\n\\t\\t\\t\\t\\t\\t<div class=\"sn-search-topics-panel pop sn-search-selector-pop\">\\n\\t\\t\\t\\t\\t\\t\\t<ul class=\"sn-search-topics\">\\n\\t\\t\\t\\t\\t\\t\\t\\t<li class=\"this-search-item\"><a data-form=\"this\">Search News</a></li>\\n\\t\\t\\t\\t\\t\\t\\t\\t<li class=\"ucsd-search-item\"><a data-form=\"ucsd\">Search UC San Diego</a></li>\\n\\t\\t\\t\\t\\t\\t\\t\\t<li class=\"people-search-item\"><a data-form=\"people\">Search Faculty/Staff</a></li>\\n\\t\\t\\t\\t\\t\\t\\t</ul>\\n\\t\\t\\t\\t\\t\\t\\t<a class=\"pop-closer\" href=\"#\">close</a>\\n\\t\\t\\t\\t\\t\\t</div><!-- end search topics panel -->\\n\\t\\t\\t\\t\\t</div><!-- end search selector -->\\n\\n<!-- news search -->\\n\\t\\t\\t\\t\\t<div id=\"sn-this-search\" class=\"sn-search-box clearfix is-active\">\\n\\t\\t\\t\\t\\t\\t<form action=\"https://ucsdnews.ucsd.edu/search\" method=\"get\" id=\"cse-search-box\">\\n\\t\\t\\t\\t\\t\\t\\t<input type=\"hidden\" name=\"cx\" value=\"013897743415033289876:nb-e5fxzod8\" />\\n\\t\\t\\t\\t\\t\\t\\t<input type=\"hidden\" name=\"ie\" value=\"UTF-8\" />\\n\\t\\t\\t\\t\\t\\t\\t<label class=\"visuallyhidden\">Search News</label>\\n\\t\\t\\t\\t\\t\\t\\t<input type=\"search\" class=\"search-input\" id=\"google-search\" name=\"q\" placeholder=\"Search News\">\\n\\t\\t\\t\\t\\t\\t\\t<a class=\"form-submit\">Search</a>\\n\\t\\t\\t\\t\\t\\t\\t<button type=\"submit\">Search</button>\\n\\t\\t\\t\\t\\t\\t</form>\\n\\t\\t\\t\\t\\t</div><!-- end calendar search -->\\n\\n<!-- campus search -->\\n\\t\\t\\t\\t\\t<div id=\"sn-ucsd-search\" class=\"sn-search-box clearfix\">\\n\\t\\t\\t\\t\\t\\t<form action=\"http://act.ucsd.edu/cwp/tools/search?site=cascade-cwp\" title=\"Search The UCSD Website\">\\n\\t\\t\\t\\t\\t\\t\\t<label class=\"visuallyhidden\">Search UC San Diego</label>\\n\\t\\t\\t\\t\\t\\t\\t<input type=\"search\" class=\"search-input\" name=\"q\" placeholder=\"Search UC San Diego\"/>\\n\\t\\t\\t\\t\\t\\t\\t<a class=\"form-submit\">Search</a>\\n\\t\\t\\t\\t\\t\\t\\t<button type=\"submit\">Search</button>\\n\\t\\t\\t\\t\\t\\t</form>\\n\\t\\t\\t\\t\\t</div><!-- end campus search -->\\n\\n<!-- people search -->\\n\\t\\t\\t\\t\\t<div id=\"sn-people-search\" class=\"sn-search-box clearfix\">\\n\\t\\t\\t\\t\\t\\t<form action=\"http://www.ucsd.edu/directory/search\" method=\"get\" name=\"{6997CAAD-DD2E-4962-B327-2EF82056C17C}\" title=\"Search For People At UCSD\">\\n\\t\\t\\t\\t\\t\\t\\t\\t<label class=\"visuallyhidden\">Search Faculty and Staff</label>\\n\\t\\t\\t\\t\\t\\t<input type=\"search\" class=\"search-input\" name=\"entry\" placeholder=\"Search Faculty/Staff\" />\\n\\t\\t\\t\\t\\t\\t\\t<input name=\"jlinkevent\" type=\"hidden\" value=\"Redirect\" />\\n\\t\\t\\t\\t\\t\\t\\t<a class=\"form-submit\">Search</a>\\n\\t\\t\\t\\t\\t\\t\\t<button type=\"submit\">Search</button>\\n\\t\\t\\t\\t\\t\\t\\t<input name=\"dir\" type=\"hidden\" value=\"faculty_staff\" />\\n\\t\\t\\t\\t\\t\\t</form>\\n\\t\\t\\t\\t\\t</div><!-- end people search -->\\n\\n\\t\\t\\t\\t</div><!-- end search pop panel -->\\n\\n\\t\\t\\t\\t<a id=\"sn-search-closer\" href=\"#\">close</a>\\n\\n\\t\\t\\t</div><!-- end search -->\\n\\n\\t\\t\\t<div id=\"sn-social-links\">\\n\\t\\t\\t\\t<ul class=\"clearfix\">\\n\\t\\t\\t\\t\\t<li class=\"sn-nav-item sn-social-item first\"><a href=\"http://facebook.com/ucsandiego\" class=\"sn-social-link   facebook-link\" target=\"_blank\" rel=\"external\" data-gaLabel=\"facebook\" title=\"Connect with us on Facebook.\">Facebook</a></li>\\n\\t\\t\\t\\t\\t<li class=\"sn-nav-item sn-social-item\"><a href=\"http://twitter.com/ucsdnews\" class=\"sn-social-link   twitter-link\" target=\"_blank\" rel=\"external\" data-gaLabel=\"twitter\" title=\"Connect with us on Twitter.\">Twitter</a></li>\\n\\t\\t\\t\\t\\t<li class=\"sn-nav-item sn-social-item\"><a href=\"http://youtube.com/ucsandiego\" class=\"sn-social-link   youtube-link\" target=\"_blank\" rel=\"external\" data-gaLabel=\"youtube\" title=\"Connect with us on YouTube.\">YouTube</a></li>\\n\\t\\t\\t\\t\\t<li class=\"sn-nav-item sn-social-item\"><a href=\"https://instagram.com/ucsandiego\" class=\"sn-social-link  instagram-link\" target=\"_blank\" rel=\"external\" data-gaLabel=\"instagram\" title=\"Connect with us on Instagram.\">Instagram</a></li>\\n\\t\\t\\t\\t</ul>\\n\\t\\t\\t</div>\\n\\n\\t\\t</div><!-- end l-row -->\\n\\t</div><!--  end sn -->\\n\\n\\t<div id=\"sf-wrapper\" class=\"clearfix\">\\n\\t\\t<footer id=\"sf\">\\n\\t\\t\\t<section class=\"sf-c sf-c1 sf-il\">\\n\\t\\t\\t\\t<h1>Important information</h1>\\n\\t\\t\\t\\t<ul>\\n\\t\\t\\t\\t\\t<li><a href=\"http://www.ucsd.edu/emergency/\">Emergency Status</a></li>\\n\\t\\t\\t\\t\\t<li><a href=\"http://disabilities.ucsd.edu/\">Disability Resources</a></li>\\n\\t\\t\\t\\t\\t<li><a href=\"http://www.ucsd.edu/explore/about/principles.html\">Principles of Community</a></li>\\n\\t\\t\\t\\t\\t<li><a href=\"http://diversity.ucsd.edu/index.html\">Equity, Diversity and Inclusion</a></li>\\n\\t\\t\\t\\t</ul>\\n\\t\\t\\t</section>\\n\\t\\t\\t<section class=\"sf-c sf-c2\">\\n\\t\\t\\t\\t<h1 class=\"sf-logo\"><a title=\"UC San Diego\\xe2\\x80\\x99s homepage\" href=\"http://ucsd.edu\">UC San Diego</a></h1>\\n\\t\\t\\t\\t<p>9500 Gilman Dr., La Jolla, CA 92093 <br/>\\n\\t\\t\\t\\t(858) 534-2230</p>\\n\\t\\t\\t\\t<p>Copyright &copy; 2019<br/>\\n\\t\\t\\t\\tRegents of the University of California. <br/>\\n\\t\\t\\t\\tAll rights reserved.</p>\\n\\t\\t\\t\\t<ul>\\n\\t\\t\\t\\t\\t<li><a href=\"https://ucsd.edu/about/terms-of-use.html\" target=\"_blank\">Terms</a></li>\\n\\t\\t\\t\\t\\t<li><a href=\"https://ucsd.edu/about/website-accessibility.html\">Accessibility</a></li>\\n\\t\\t\\t\\t\\t<li><a href=\"/media-resources/media-contacts\">Contact</a></li>\\n\\t\\t\\t\\t</ul>\\n\\t\\t\\t</section>\\n\\t\\t\\t<section class=\"sf-c sf-c3 sf-compact\">\\n\\t\\t\\t\\t<h1 class=\"pop-opener\">Divisions and Schools</h1>\\n\\t\\t\\t\\t<ul class=\"pop\">\\n\\t\\t\\t\\t\\t<li><a href=\"http://dah.ucsd.edu/\">Arts & Humanities</a></li>\\n\\t\\t\\t\\t\\t<li><a href=\"http://biology.ucsd.edu/\">Biological Sciences</a></li>\\n\\t\\t\\t\\t\\t<li><a href=\"http://www.jacobsschool.ucsd.edu/\">Jacobs School of Engineering</a></li>\\n\\t\\t\\t\\t\\t<li><a href=\"http://physicalsciences.ucsd.edu/\">Physical Sciences</a></li>\\n\\t\\t\\t\\t\\t<li><a href=\"http://rady.ucsd.edu/\">Rady School of Management</a></li>\\n\\t\\t\\t\\t\\t<li><a href=\"http://gps.ucsd.edu/\">School of Global Policy and Strategy</a></li>\\n\\t\\t\\t\\t\\t<li><a href=\"http://som.ucsd.edu/\">School of Medicine</a></li>\\n\\t\\t\\t\\t\\t<li><a href=\"http://www.sio.ucsd.edu/\">Scripps Institution of Oceanography</a></li>\\n\\t\\t\\t\\t\\t<li><a href=\"http://pharmacy.ucsd.edu/index.shtml\">Skaggs School of Pharmacy and Pharmaceutical Sciences</a></li>\\n\\t\\t\\t\\t\\t<li><a href=\"http://socialsciences.ucsd.edu/\">Social Sciences</a></li>\\n\\t\\t\\t\\t</ul>\\n\\t\\t\\t</section>\\n\\t\\t\\t<section class=\"sf-c sf-c4 sf-compact\">\\n\\t\\t\\t\\t<h1 class=\"pop-opener\">Other University Sites</h1>\\n\\t\\t\\t\\t<ul class=\"pop\">\\n\\t\\t\\t\\t\\t<li><a href=\"http://www.ucsd.edu/admissions/index.html\">Admissions</a></li>\\n\\t\\t\\t\\t\\t<li><a href=\"http://alumni.ucsd.edu/\">Alumni</a></li>\\n\\t\\t\\t\\t\\t<li><a href=\"http://www.ucsdtritons.com/\">Athletics</a></li>\\n\\t\\t\\t\\t\\t<li><a href=\"http://chancellor.ucsd.edu/\">Chancellor</a></li>\\n\\t\\t\\t\\t\\t<li><a href=\"http://diversity.ucsd.edu/index.html\">Diversity</a></li>\\n\\t\\t\\t\\t\\t<li><a href=\"http://extension.ucsd.edu/\">Extension</a></li>\\n\\t\\t\\t\\t\\t<li><a href=\"http://giving.ucsd.edu/\">Giving</a></li>\\n\\t\\t\\t\\t\\t<li><a href=\"http://health.ucsd.edu/index.aspx\">Health System</a></li>\\n\\t\\t\\t\\t\\t<li><a href=\"http://libraries.ucsd.edu/\">Library</a></li>\\n\\t\\t\\t\\t\\t<li><a href=\"http://www-act.ucsd.edu/maps/\">Maps</a></li>\\n\\t\\t\\t\\t\\t<li><a href=\"http://preuss.ucsd.edu/\">Preuss School</a></li>\\n\\t\\t\\t\\t</ul>\\n\\t\\t\\t</section>\\n\\t\\t</footer>\\n\\t</div>\\n\\n\\t<script type=\"text/javascript\" src=\"//ajax.googleapis.com/ajax/libs/jquery/1.11.0/jquery.min.js\"></script>\\n\\t<script type=\"text/javascript\">window.jQuery || document.write(\\'<script src=\"/js/vendor/jquery-1.11.0.min.js\"><\\\\/script>\\')</script>\\n\\n\\t<script type=\"text/javascript\" src=\"/js/min/plugins-min.js\"></script>\\n\\t<script type=\"text/javascript\" src=\"/js/min/go-min.js\"></script>\\n\\t\\n\\n\\t\\n\\n\\t\\n\\n</body>\\n</html>\\n\\n'\n"
     ]
    }
   ],
   "source": [
    "import certifi\n",
    "import requests\n",
    "\n",
    "try:\n",
    "    print('Checking connection to Site...')\n",
    "    test = requests.get(\"https://ucsdnews.ucsd.edu/\"\n",
    "                        + \"pressrelease/stroke-drug-boosts-stem-cell\"\n",
    "                        + \"-therapy-for-spinal-cord-injury-in-rats\")\n",
    "    print('Connection to Site OK.')\n",
    "    soup=BeautifulSoup(test.content,'html.parser')\n",
    "    l=soup.findAll(\"p\") # get all the paragraphs only in the html page\n",
    "    \n",
    "    for i in l:\n",
    "        strrr += str(i)\n",
    "except requests.exceptions.SSLError as err:\n",
    "    print('SSL Error. Adding custom certs to Certifi store...')\n",
    "    cafile = certifi.where()\n",
    "    with open('certicate.pem', 'rb') as infile:\n",
    "        customca = infile.read()\n",
    "    with open(cafile, 'ab') as outfile:\n",
    "        outfile.write(customca)\n",
    "    print('That might have worked.')"
   ]
  },
  {
   "cell_type": "code",
   "execution_count": null,
   "metadata": {},
   "outputs": [],
   "source": [
    "strrr = \"\"\n",
    "req = urllib.request.Request('http://triton.news/2019/11/ucsd-professor-tom-wong-to-announce-run-for-congress-tomorrow/')\n",
    "\n",
    "with urllib.request.urlopen(req) as response:\n",
    "    the_page = response.read()\n",
    "    soup=BeautifulSoup(the_page,'html.parser')\n",
    "    l=soup.findAll(\"p\") # get all the paragraphs only in the html page\n",
    "    \n",
    "    for i in l:\n",
    "        strrr += str(i)\n",
    "    \n",
    "    txt_lst = strrr.split(\" \") #added all text to a list\n",
    "    filt_txt_lst = list(filter(remove_short, txt_lst))\n",
    "    art_words = list(filter(remove_meaningless, filt_txt_lst))\n",
    "    print(art_words)"
   ]
  }
 ],
 "metadata": {
  "kernelspec": {
   "display_name": "Python 3",
   "language": "python",
   "name": "python3"
  },
  "language_info": {
   "codemirror_mode": {
    "name": "ipython",
    "version": 3
   },
   "file_extension": ".py",
   "mimetype": "text/x-python",
   "name": "python",
   "nbconvert_exporter": "python",
   "pygments_lexer": "ipython3",
   "version": "3.6.2"
  }
 },
 "nbformat": 4,
 "nbformat_minor": 4
}
