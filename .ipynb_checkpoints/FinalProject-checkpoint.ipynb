{
 "cells": [
  {
   "cell_type": "markdown",
   "metadata": {},
   "source": [
    "# Project Title : Yearly UCSD Application Rate and League Table Linear Regression Model\n",
    "Authors: \n",
    "Thanh Luong\n",
    "Abigail Han\n",
    "Saroop Samra\n",
    "Amy Nguyen"
   ]
  },
  {
   "cell_type": "markdown",
   "metadata": {},
   "source": [
    "# Question\n",
    "Is there a valid SIMPLE linear regression with US News Rankings and Yearly UCSD Application Rate?\n",
    "What does a visualization of this look like?\n",
    "What is the pearson correlation factor?\n",
    "\n",
    "\n",
    "Is there a valid MULTIPLE linear regression with US News Rankings and Times Score and Yearly UCSD Application Rate?\n",
    "What does a visualization of this look like?\n",
    "What is the pearson correlation factor?"
   ]
  },
  {
   "cell_type": "markdown",
   "metadata": {},
   "source": [
    "# Data\n",
    "\n",
    "Include the code to read your dataset in below and briefly explain what information is included in your dataset that you'll use for analysis."
   ]
  },
  {
   "cell_type": "code",
   "execution_count": 92,
   "metadata": {},
   "outputs": [
    {
     "name": "stdout",
     "output_type": "stream",
     "text": [
      "[[ 1996.      43.       0.   23687.       0.  ]\n",
      " [ 1997.      34.       0.   25098.       5.96]\n",
      " [ 1998.      33.       0.   28090.      11.92]\n",
      " [ 1999.      32.       0.   32541.      15.85]\n",
      " [ 2000.      32.       0.   35693.       9.69]\n",
      " [ 2001.      31.       0.   38188.       6.99]\n",
      " [ 2002.      31.       0.   41346.       8.27]\n",
      " [ 2003.      31.       0.   43443.       5.07]\n",
      " [ 2004.      32.       0.   41524.      -4.42]\n",
      " [ 2005.      35.       0.   40534.      -2.38]\n",
      " [ 2006.      32.       0.   43591.       7.54]\n",
      " [ 2007.      38.       0.   45088.       3.43]\n",
      " [ 2008.      38.       0.   47385.       5.09]\n",
      " [ 2009.      35.       0.   47060.      -0.69]\n",
      " [ 2010.      35.       0.   48098.       2.21]\n",
      " [ 2011.      35.      73.2  53449.      11.13]\n",
      " [ 2012.      37.      73.   60832.      13.81]\n",
      " [ 2013.      38.      75.2  67391.      10.78]\n",
      " [ 2014.      39.      67.4  73448.       8.99]\n",
      " [ 2015.      37.      68.6  78061.       6.28]\n",
      " [ 2016.      39.      72.2  84206.       7.87]\n",
      " [ 2017.      44.      73.2  88448.       5.04]\n",
      " [ 2018.      42.      78.7  97898.      10.68]]\n"
     ]
    }
   ],
   "source": [
    "import numpy as np\n",
    "import matplotlib.pyplot as plt\n",
    "import statsmodels.api as sm\n",
    "\n",
    "my_data = np.loadtxt('ec_data.txt',delimiter=',',dtype=float)\n",
    "np.set_printoptions(suppress=True)\n",
    "print(my_data)"
   ]
  },
  {
   "cell_type": "markdown",
   "metadata": {},
   "source": [
    "# Data Wrangling\n",
    "\n",
    "Include text and code needed to wrangle your data into a tidy data format. If your data are already in a usable format, explain what checks you did on the data (and include the code) to ensure that the data were tidy:\n",
    "\n",
    "Prepare data for simple linear regression : Year, US New Score, Yearly Applicant Rate\n",
    "  We will drop the Number of Applicants, Times Score columns \n",
    "  \n",
    "Prepare data for multiple linear regression : Year, US New Score, Times Score, Yearly Applicant Rate\n",
    "  We will drop the Number of Applicants\n",
    "  We will drop all Rows where the Times Score is zero (data was unavailable)\n",
    "  "
   ]
  },
  {
   "cell_type": "code",
   "execution_count": 93,
   "metadata": {},
   "outputs": [
    {
     "name": "stdout",
     "output_type": "stream",
     "text": [
      "Simple Linear Regression Data\n",
      "[[43.    0.  ]\n",
      " [34.    5.96]\n",
      " [33.   11.92]\n",
      " [32.   15.85]\n",
      " [32.    9.69]\n",
      " [31.    6.99]\n",
      " [31.    8.27]\n",
      " [31.    5.07]\n",
      " [32.   -4.42]\n",
      " [35.   -2.38]\n",
      " [32.    7.54]\n",
      " [38.    3.43]\n",
      " [38.    5.09]\n",
      " [35.   -0.69]\n",
      " [35.    2.21]\n",
      " [35.   11.13]\n",
      " [37.   13.81]\n",
      " [38.   10.78]\n",
      " [39.    8.99]\n",
      " [37.    6.28]\n",
      " [39.    7.87]\n",
      " [44.    5.04]\n",
      " [42.   10.68]]\n",
      "Multiple Linear Regression Data\n",
      "[[35.   73.2  11.13]\n",
      " [37.   73.   13.81]\n",
      " [38.   75.2  10.78]\n",
      " [39.   67.4   8.99]\n",
      " [37.   68.6   6.28]\n",
      " [39.   72.2   7.87]\n",
      " [44.   73.2   5.04]\n",
      " [42.   78.7  10.68]]\n"
     ]
    }
   ],
   "source": [
    "# Simple Linear Regression Data: Drop the Year, Number of Applicants, Times Score columns\n",
    "simple_linear_regress_data = np.delete(my_data, [0, 2,3], 1)\n",
    "print(\"Simple Linear Regression Data\")\n",
    "print(simple_linear_regress_data)\n",
    "\n",
    "# Multiple Linear Regression Data: Drop the Year, Number of Applicant columns\n",
    "#                                  Drop All Rows where Times Score is Zero\n",
    "multiple_linear_regress_data = np.delete(my_data, [0, 3], 1)\n",
    "multiple_linear_regress_data = multiple_linear_regress_data[multiple_linear_regress_data[:,1] != 0.0]\n",
    "print(\"Multiple Linear Regression Data\")\n",
    "print(multiple_linear_regress_data)"
   ]
  },
  {
   "cell_type": "markdown",
   "metadata": {},
   "source": [
    "# Data Analysis\n",
    "\n",
    "Include text and code to explore and analyze the data your group used for your final project."
   ]
  },
  {
   "cell_type": "code",
   "execution_count": 94,
   "metadata": {},
   "outputs": [
    {
     "name": "stdout",
     "output_type": "stream",
     "text": [
      "                            OLS Regression Results                            \n",
      "==============================================================================\n",
      "Dep. Variable:                      y   R-squared:                       0.004\n",
      "Model:                            OLS   Adj. R-squared:                 -0.043\n",
      "Method:                 Least Squares   F-statistic:                   0.08631\n",
      "Date:                Thu, 19 Dec 2019   Prob (F-statistic):              0.772\n",
      "Time:                        14:29:50   Log-Likelihood:                -69.636\n",
      "No. Observations:                  23   AIC:                             143.3\n",
      "Df Residuals:                      21   BIC:                             145.5\n",
      "Df Model:                           1                                         \n",
      "Covariance Type:            nonrobust                                         \n",
      "==============================================================================\n",
      "                 coef    std err          t      P>|t|      [0.025      0.975]\n",
      "------------------------------------------------------------------------------\n",
      "const          9.4822     10.267      0.924      0.366     -11.869      30.833\n",
      "x1            -0.0838      0.285     -0.294      0.772      -0.677       0.509\n",
      "==============================================================================\n",
      "Omnibus:                        0.940   Durbin-Watson:                   0.920\n",
      "Prob(Omnibus):                  0.625   Jarque-Bera (JB):                0.745\n",
      "Skew:                          -0.413   Prob(JB):                        0.689\n",
      "Kurtosis:                       2.689   Cond. No.                         339.\n",
      "==============================================================================\n",
      "\n",
      "Warnings:\n",
      "[1] Standard Errors assume that the covariance matrix of the errors is correctly specified.\n"
     ]
    },
    {
     "data": {
      "image/png": "[encoded data removed]",
      "text/plain": [
       "<Figure size 432x288 with 1 Axes>"
      ]
     },
     "metadata": {
      "needs_background": "light"
     },
     "output_type": "display_data"
    },
    {
     "name": "stdout",
     "output_type": "stream",
     "text": [
      "[[35.  73.2]\n",
      " [37.  73. ]\n",
      " [38.  75.2]\n",
      " [39.  67.4]\n",
      " [37.  68.6]\n",
      " [39.  72.2]\n",
      " [44.  73.2]\n",
      " [42.  78.7]]\n",
      "                            OLS Regression Results                            \n",
      "==============================================================================\n",
      "Dep. Variable:                      y   R-squared:                       0.577\n",
      "Model:                            OLS   Adj. R-squared:                  0.408\n",
      "Method:                 Least Squares   F-statistic:                     3.416\n",
      "Date:                Thu, 19 Dec 2019   Prob (F-statistic):              0.116\n",
      "Time:                        14:29:51   Log-Likelihood:                -15.773\n",
      "No. Observations:                   8   AIC:                             37.55\n",
      "Df Residuals:                       5   BIC:                             37.79\n",
      "Df Model:                           2                                         \n",
      "Covariance Type:            nonrobust                                         \n",
      "==============================================================================\n",
      "                 coef    std err          t      P>|t|      [0.025      0.975]\n",
      "------------------------------------------------------------------------------\n",
      "const          0.4593     18.039      0.025      0.981     -45.911      46.829\n",
      "x1            -0.6873      0.303     -2.266      0.073      -1.467       0.092\n",
      "x2             0.4895      0.248      1.973      0.105      -0.148       1.127\n",
      "==============================================================================\n",
      "Omnibus:                        1.051   Durbin-Watson:                   2.569\n",
      "Prob(Omnibus):                  0.591   Jarque-Bera (JB):                0.761\n",
      "Skew:                           0.589   Prob(JB):                        0.683\n",
      "Kurtosis:                       2.054   Cond. No.                     1.92e+03\n",
      "==============================================================================\n",
      "\n",
      "Warnings:\n",
      "[1] Standard Errors assume that the covariance matrix of the errors is correctly specified.\n",
      "[2] The condition number is large, 1.92e+03. This might indicate that there are\n",
      "strong multicollinearity or other numerical problems.\n"
     ]
    },
    {
     "name": "stderr",
     "output_type": "stream",
     "text": [
      "/Users/amytrinhnguyen/Library/Python/3.6/lib/python/site-packages/scipy/stats/stats.py:1450: UserWarning: kurtosistest only valid for n>=20 ... continuing anyway, n=8\n",
      "  \"anyway, n=%i\" % int(n))\n"
     ]
    }
   ],
   "source": [
    "X = simple_linear_regress_data[:,0]\n",
    "Y = simple_linear_regress_data[:,1]\n",
    "results = sm.OLS(Y,sm.add_constant(X)).fit()\n",
    "print(results.summary())\n",
    "plt.scatter(X, Y, s=np.pi*3)\n",
    "plt.title('Simple Linear Regression')\n",
    "plt.xlabel('US News Score')\n",
    "plt.ylabel('UCSD Yearly Applicant Rate')\n",
    "plt.plot(np.unique(X), np.poly1d(np.polyfit(X, Y, 1))(np.unique(X)))\n",
    "plt.show()\n",
    "\n",
    "X = np.delete(multiple_linear_regress_data, [2], 1)\n",
    "Y = multiple_linear_regress_data[:,2]\n",
    "print(X)\n",
    "results = sm.OLS(Y,sm.add_constant(X)).fit()\n",
    "print(results.summary())"
   ]
  },
  {
   "cell_type": "markdown",
   "metadata": {},
   "source": [
    "<h1> Sentiment Analysis </h1>"
   ]
  },
  {
   "cell_type": "markdown",
   "metadata": {},
   "source": [
    "<h3> Training Data </h3>\n",
    "<p> This section collects and filters training data from a twitter tweet sentiment dataset. The dataset has 2 </p>"
   ]
  },
  {
   "cell_type": "code",
   "execution_count": 105,
   "metadata": {},
   "outputs": [
    {
     "data": {
      "text/html": [
       "<div>\n",
       "<style scoped>\n",
       "    .dataframe tbody tr th:only-of-type {\n",
       "        vertical-align: middle;\n",
       "    }\n",
       "\n",
       "    .dataframe tbody tr th {\n",
       "        vertical-align: top;\n",
       "    }\n",
       "\n",
       "    .dataframe thead th {\n",
       "        text-align: right;\n",
       "    }\n",
       "</style>\n",
       "<table border=\"1\" class=\"dataframe\">\n",
       "  <thead>\n",
       "    <tr style=\"text-align: right;\">\n",
       "      <th></th>\n",
       "      <th>class</th>\n",
       "      <th>text</th>\n",
       "    </tr>\n",
       "  </thead>\n",
       "  <tbody>\n",
       "    <tr>\n",
       "      <th>0</th>\n",
       "      <td>Pos</td>\n",
       "      <td>[that, will, iphon, crack, swype, appl, iphon]</td>\n",
       "    </tr>\n",
       "    <tr>\n",
       "      <th>1</th>\n",
       "      <td>Pos</td>\n",
       "      <td>[announc, just, will, carrier, ad, iphon, supp...</td>\n",
       "    </tr>\n",
       "    <tr>\n",
       "      <th>2</th>\n",
       "      <td>Pos</td>\n",
       "      <td>[http, video, with, hilari, sum, youtub, prett...</td>\n",
       "    </tr>\n",
       "    <tr>\n",
       "      <th>3</th>\n",
       "      <td>Pos</td>\n",
       "      <td>[made, iphon, switch, easi, appl]</td>\n",
       "    </tr>\n",
       "    <tr>\n",
       "      <th>4</th>\n",
       "      <td>Pos</td>\n",
       "      <td>[that, realiz, just, twitter, appl, into, than...</td>\n",
       "    </tr>\n",
       "  </tbody>\n",
       "</table>\n",
       "</div>"
      ],
      "text/plain": [
       "  class                                               text\n",
       "0   Pos     [that, will, iphon, crack, swype, appl, iphon]\n",
       "1   Pos  [announc, just, will, carrier, ad, iphon, supp...\n",
       "2   Pos  [http, video, with, hilari, sum, youtub, prett...\n",
       "3   Pos                  [made, iphon, switch, easi, appl]\n",
       "4   Pos  [that, realiz, just, twitter, appl, into, than..."
      ]
     },
     "execution_count": 105,
     "metadata": {},
     "output_type": "execute_result"
    }
   ],
   "source": [
    "import pandas as pd\n",
    "from nltk.stem import PorterStemmer #for stemming words\n",
    "import re\n",
    "\n",
    "# training data from CMU's CSE class: http://boston.lti.cs.cmu.edu/classes/95-865-K/HW/HW3/\n",
    "twitter_sent = pd.read_csv(\"twitter_sentiment.csv\")\n",
    "\n",
    "#Splice the words in each column to remove non alphabet and short words \n",
    "def filter_col(tweet):\n",
    "    spliced = list(re.findall(r\"[a-zA-Z']+\", tweet)) #split and remove non alphabet\n",
    "    filtered_duplicates = list(set(spliced)) # remove duplicates in a tweet\n",
    "    filtered_short = list(filter(remove_short, filtered_duplicates))\n",
    "    return filtered_short #tweet as a list\n",
    "\n",
    "#remove words that are theoretically too short to mean much\n",
    "def remove_short(word):\n",
    "    if len(word) <= 3:\n",
    "            return False\n",
    "    return True\n",
    "\n",
    "#get the stem for same meaning words\n",
    "stemmer = PorterStemmer()\n",
    "filtered_cols = twitter_sent['text'].apply(filter_col)\n",
    "twitter_sent['text'] = filtered_cols.apply(lambda col: [stemmer.stem(word) for word in col])\n",
    "\n",
    "twitter_sent.head()"
   ]
  },
  {
   "cell_type": "markdown",
   "metadata": {},
   "source": [
    "<h3> Webscraping an Article for Text </h3><br><p> This section gets the contents from a URL using the requests package and certifi to reference the root certificate for vertification </p>"
   ]
  },
  {
   "cell_type": "code",
   "execution_count": 114,
   "metadata": {},
   "outputs": [
    {
     "name": "stdout",
     "output_type": "stream",
     "text": [
      "Checking connection to Site...\n",
      "Connection to Site OK.\n",
      "['class', 'meta', 'post', 'meta', 'clearfix', 'span', 'class', 'updated', 'meta', 'date', 'class', 'calendar', 'November', 'span', 'span', 'class', 'vcard', 'author', 'meta', 'author', 'span', 'class', 'class', 'user', 'href', 'http', 'triton', 'news', 'author', 'author', 'title', 'Posts', 'Elew', 'Elew', 'span', 'span', 'span', 'class', 'meta', 'tags', 'class', 'href', 'http', 'triton', 'news', 'category', 'news', 'local', 'category', 'Local', 'href', 'http', 'triton', 'news', 'category', 'news', 'category', 'News', 'span', 'span', 'class', 'meta', 'comments', 'class', 'comment', 'span', 'class', 'postid', 'data', 'dsqidentifier', 'http', 'triton', 'news', 'span', 'span', 'Diego', 'Political', 'Science', 'Professor', 'Wong', 'plans', 'announce', 'campaign', 'Diego', 'Congressional', 'District', 'November', 'seat', 'which', 'opened', 'href', 'https', 'sandiegouniontribune', 'news', 'politics', 'story', 'susan', 'davis', 'retire', 'drop', 'race', 'reelection', 'after', 'Democrat', 'Susan', 'Davis', 'announced', 'September', 'that', 'will', 'seek', 'reelection', 'Wong', 'will', 'join', 'Sara', 'Jacobs', 'href', 'https', 'sandiegouniontribune', 'news', 'politics', 'story', 'diego', 'council', 'president', 'georgette', 'gomez', 'kicks', 'congressional', 'campaign', 'Diego', 'City', 'Council', 'President', 'Georgette', 'Gomez', 'others', 'race', 'district', 'Wong', 'submitted', 'href', 'https', 'docquery', 'forms', 'paperwork', 'Democrat', 'days', 'before']\n"
     ]
    }
   ],
   "source": [
    "\n",
    "from bs4 import BeautifulSoup # for parsing HTML\n",
    "import certifi # to get root certificates for webpages\n",
    "import requests # to get webpage\n",
    "\n",
    "# I consulted these articles:     \n",
    "#       https://www.analyticsvidhya.com/blog/2018/07/hands-on-sentiment-analysis-dataset-python/\n",
    "#       https://www.geeksforgeeks.org/reading-selected-webpage-content-using-python-web-scraping/\n",
    "#       https://incognitjoe.github.io/adding-certs-to-requests.html\n",
    "\n",
    "def get_site_content(url):\n",
    "    try:\n",
    "        print('Checking connection to Site...')\n",
    "        site = requests.get(url)\n",
    "        print('Connection to Site OK.') # printed if there isn't an error\n",
    "        return filter_content(site.content)\n",
    "    except requests.exceptions.SSLError as err:\n",
    "        print('SSL Error. Adding custom certs to Certifi store...')\n",
    "        cafile = certifi.where() #adds a certificate if there isn't one\n",
    "        with open('certicate.pem', 'rb') as infile:\n",
    "            customca = infile.read()\n",
    "        with open(cafile, 'ab') as outfile:\n",
    "            outfile.write(customca)\n",
    "        print('That might have worked.')\n",
    "\n",
    "def filter_content(content):\n",
    "    content_str = \"\"\n",
    "    soup = BeautifulSoup(content, \"html.parser\")\n",
    "    pars = soup.findAll(\"p\")\n",
    "    \n",
    "    for i in pars:\n",
    "        content_str += str(i)\n",
    "    \n",
    "    split_lst = list(re.findall(r\"[a-zA-Z']+\", strrr)) #keeps only alpha and splits string into a list\n",
    "    txt_lst = list(filter(remove_short, split_lst))\n",
    "    return txt_lst\n",
    "\n",
    "url = \"https://ucsdnews.ucsd.edu/pressrelease/stroke-drug-boosts-stem-cell-therapy-for-spinal-cord-injury-in-rats\"\n",
    "txt_lst = get_site_content(url)\n",
    "print(txt_lst[:150])"
   ]
  },
  {
   "cell_type": "code",
   "execution_count": 97,
   "metadata": {},
   "outputs": [
    {
     "name": "stdout",
     "output_type": "stream",
     "text": [
      "{'that': {'Pos': 8, 'Neg': 34}, 'will': {'Pos': 9, 'Neg': 11}, 'support': {'Pos': 5, 'Neg': 4}, 'more': {'Pos': 5, 'Neg': 7}, 'with': {'Pos': 16, 'Neg': 48}, 'into': {'Pos': 2, 'Neg': 5}, 'said': {'Pos': 3, 'Neg': 3}, 'person': {'Pos': 2, 'Neg': 3}, 'from': {'Pos': 14, 'Neg': 16}, 'best': {'Pos': 8, 'Neg': 3}, 'which': {'Pos': 2, 'Neg': 4}, 'they': {'Pos': 3, 'Neg': 16}, 'help': {'Pos': 4, 'Neg': 5}, 'model': {'Pos': 2, 'Neg': 2}, 'their': {'Pos': 3, 'Neg': 5}, 'send': {'Pos': 4, 'Neg': 10}, 'side': {'Pos': 3, 'Neg': 1}, 'break': {'Pos': 2, 'Neg': 4}, 'team': {'Pos': 2, 'Neg': 3}, 'some': {'Pos': 2, 'Neg': 8}, 'done': {'Pos': 7, 'Neg': 7}, 'when': {'Pos': 8, 'Neg': 14}, 'these': {'Pos': 2, 'Neg': 1}, 'want': {'Pos': 4, 'Neg': 8}, 'over': {'Pos': 5, 'Neg': 3}, 'about': {'Pos': 8, 'Neg': 16}, 'live': {'Pos': 2, 'Neg': 2}, 'than': {'Pos': 5, 'Neg': 9}, 'have': {'Pos': 9, 'Neg': 31}, 'work': {'Pos': 5, 'Neg': 20}, 'like': {'Pos': 5, 'Neg': 13}, 'most': {'Pos': 2, 'Neg': 6}, 'email': {'Pos': 3, 'Neg': 2}, 'next': {'Pos': 4, 'Neg': 4}, 'class': {'Pos': 2, 'Neg': 1}, 'kind': {'Pos': 3, 'Neg': 1}, 'after': {'Pos': 4, 'Neg': 21}, 'what': {'Pos': 6, 'Neg': 17}, 'there': {'Pos': 2, 'Neg': 4}, 'still': {'Pos': 3, 'Neg': 11}, 'system': {'Pos': 2, 'Neg': 3}, 'were': {'Pos': 3, 'Neg': 3}, 'been': {'Pos': 3, 'Neg': 15}, 'four': {'Pos': 2, 'Neg': 1}, 'here': {'Pos': 2, 'Neg': 2}, 'must': {'Pos': 3, 'Neg': 6}, 'worth': {'Pos': 2, 'Neg': 1}, 'honor': {'Pos': 2, 'Neg': 1}, 'lead': {'Pos': 2, 'Neg': 3}, 'success': {'Pos': 3, 'Neg': 2}, 'book': {'Pos': 2, 'Neg': 4}, 'show': {'Pos': 4, 'Neg': 6}, 'would': {'Pos': 2, 'Neg': 9}, 'present': {'Pos': 2, 'Neg': 1}, 'while': {'Pos': 2, 'Neg': 2}, 'long': {'Pos': 2, 'Neg': 2}, 'submit': {'Pos': 2, 'Neg': 1}, 'back': {'Pos': 3, 'Neg': 9}, 'contact': {'Pos': 2, 'Neg': 7}, 'without': {'Pos': 1, 'Neg': 4}, 'them': {'Pos': 1, 'Neg': 11}, 'cord': {'Pos': 1, 'Neg': 3}, 'author': {'Pos': 1, 'Neg': 5}, 'serious': {'Pos': 1, 'Neg': 7}, 'could': {'Pos': 1, 'Neg': 8}, 'media': {'Pos': 1, 'Neg': 3}, 'take': {'Pos': 1, 'Neg': 5}, 'almost': {'Pos': 1, 'Neg': 2}, 'interest': {'Pos': 1, 'Neg': 3}, 'pain': {'Pos': 1, 'Neg': 6}, 'other': {'Pos': 1, 'Neg': 6}, 'under': {'Pos': 1, 'Neg': 2}, 'same': {'Pos': 1, 'Neg': 5}, 'type': {'Pos': 1, 'Neg': 5}, 'through': {'Pos': 1, 'Neg': 3}, 'repair': {'Pos': 1, 'Neg': 3}, 'those': {'Pos': 1, 'Neg': 3}, 'seek': {'Pos': 1, 'Neg': 2}, 'site': {'Pos': 1, 'Neg': 2}, 'poor': {'Pos': 1, 'Neg': 2}, 'connect': {'Pos': 1, 'Neg': 10}, 'seem': {'Pos': 1, 'Neg': 5}, 'also': {'Pos': 1, 'Neg': 3}, 'brain': {'Pos': 1, 'Neg': 3}, 'anyway': {'Pos': 1, 'Neg': 2}, 'skin': {'Pos': 1, 'Neg': 2}, 'told': {'Pos': 1, 'Neg': 4}, 'cell': {'Pos': 1, 'Neg': 2}, 'known': {'Pos': 1, 'Neg': 2}, 'each': {'Pos': 1, 'Neg': 2}} {'Pos': 264, 'Neg': 586}\n"
     ]
    }
   ],
   "source": [
    "probs = {}\n",
    "emo_count = {\"Pos\": 0, \"Neg\": 0}\n",
    "row_count = twitter_sent.shape[0]\n",
    "# iterate through all of the rows in the training data\n",
    "for i in range(row_count):\n",
    "    col = twitter_sent['class']\n",
    "    col2 = twitter_sent['text']\n",
    "    emo = str(col[i])\n",
    "    txt = list(col2[i])\n",
    "    \n",
    "    # gets the count of the emotions for every single word in text\n",
    "    for i in range(len(txt)):\n",
    "        spliced = txt[i]\n",
    "        # only use the words that appear in both the training dataset and the article\n",
    "        if spliced not in art_words:\n",
    "            continue\n",
    "            \n",
    "        word = probs.get(spliced)\n",
    "        if word:\n",
    "            if word.get(emo):\n",
    "                word[emo] += 1\n",
    "            else:\n",
    "                word[emo] = 1\n",
    "        else:\n",
    "            probs[spliced] = {}\n",
    "            word = probs.get(spliced)\n",
    "            # nudge both counts over by 1 to prevent \n",
    "            # any of the counts from being 0 (only nudge each word once)\n",
    "            word[\"Pos\"] = 1\n",
    "            word[\"Neg\"] = 1\n",
    "            word[emo] += 1\n",
    "            emo_count['Pos'] += 1 # accounts for nudging\n",
    "            emo_count['Neg'] += 1\n",
    "        \n",
    "        emo_count[emo] += 1\n",
    "    \n",
    "\n",
    "print(probs, emo_count)"
   ]
  },
  {
   "cell_type": "code",
   "execution_count": 98,
   "metadata": {},
   "outputs": [],
   "source": [
    "def calc_cond(emo, word):\n",
    "    if word.get(emo):\n",
    "        return word.get(emo)/emo_count.get(emo)\n",
    "    return 0\n",
    "\n",
    "def calc_all_cond(emo):\n",
    "    prob_words_given_emo = emo_count.get(emo)\n",
    "    for key in probs.keys():\n",
    "        word = probs.get(key)\n",
    "        prob_words_given_emo *= calc_cond(emo, word)\n",
    "    return prob_words_given_emo"
   ]
  },
  {
   "cell_type": "code",
   "execution_count": 99,
   "metadata": {},
   "outputs": [
    {
     "name": "stdout",
     "output_type": "stream",
     "text": [
      "The article has positive sentiment\n"
     ]
    }
   ],
   "source": [
    "prob_pos_g_w = calc_all_cond(\"Pos\")\n",
    "prob_neg_g_w = calc_all_cond(\"Neg\")\n",
    "\n",
    "if prob_pos_g_w > prob_neg_g_w:\n",
    "    print(\"The article has positive sentiment\")\n",
    "elif prob_pos_g_w < prob_neg_g_w:\n",
    "    print(\"The article has negative sentiment\")\n",
    "else:\n",
    "    # article is neutral if there is an equal probability of it being negative or positiv\n",
    "    print(\"The article is neutral\")"
   ]
  },
  {
   "cell_type": "markdown",
   "metadata": {},
   "source": [
    "# Programming Experience\n",
    "\n",
    "In this section, include information about your team's level of exprience programming in Python. Discuss briefly what new things (concepts, skills, packages, etc.) you learned by completing this extra credit."
   ]
  },
  {
   "cell_type": "markdown",
   "metadata": {},
   "source": [
    "<p>Three of the members have had Python programming experiance and are Data Science Majors (2 sophmores and 1 freshman). Some of us have taken DSC10 and DSC20 courses. However, we all needed refreshes as it was a while ago that some of us last wrote Python We also learned the new API: statsmodels. We didnt use this in our prior classes. We used this to perform simple and multiple linear regression. We also did lots of Google searches, this was useful to learn how to plot a scatter chart.</p>\n",
    "\n",
    "<p>Amy's Past Experiences: I took DSC 20 and did a did a Data Challenge so I have basic experience using Python and Pandas.<br> Amy's contributions: I did the attempt for the sentiment analysis portion so I learned a lot about having reading data from a URL using URLlib and using beautiful soup to get rid of the unneccesary HTML. I applied the concepts of tokenization to stem words and remove unneccesary words for analysis. This is my first time using PorterStemmer. </p>\n",
    "\n",
    "<p>Saroop worked on the data input, linear Regression and visualization and learned the statsmodels for the first time.</p>\n",
    "\n",
    "<p>All members reviewed the code and had a basic understanding of what we were attempting.</p>\n",
    "\n"
   ]
  },
  {
   "cell_type": "code",
   "execution_count": null,
   "metadata": {},
   "outputs": [],
   "source": []
  }
 ],
 "metadata": {
  "kernelspec": {
   "display_name": "Python 3",
   "language": "python",
   "name": "python3"
  },
  "language_info": {
   "codemirror_mode": {
    "name": "ipython",
    "version": 3
   },
   "file_extension": ".py",
   "mimetype": "text/x-python",
   "name": "python",
   "nbconvert_exporter": "python",
   "pygments_lexer": "ipython3",
   "version": "3.6.2"
  }
 },
 "nbformat": 4,
 "nbformat_minor": 4
}
