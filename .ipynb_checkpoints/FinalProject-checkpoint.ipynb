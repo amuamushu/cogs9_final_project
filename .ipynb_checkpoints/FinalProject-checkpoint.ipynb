{
 "cells": [
  {
   "cell_type": "markdown",
   "metadata": {},
   "source": [
    "# Project Title : Yearly UCSD Application Rate and League Table Linear Regression Model\n",
    "Authors: \n",
    "Thanh Luong\n",
    "Abigail Han\n",
    "Saroop Samra\n",
    "Amy Nguyen"
   ]
  },
  {
   "cell_type": "markdown",
   "metadata": {},
   "source": [
    "**Instructions**\n",
    "\n",
    "In this document, include text and code to walk users through your analysis. Feel free to add more cells as you go, but try to keep the five sections provided in order as they are. Feel free to add subsections within each section to organize your project. \n",
    "\n",
    "Be sure to change the title and include authors in the first cell.\n",
    "\n",
    "When finished, download as a PDF and submit the PDF on Gradescope for extra credit. Be sure to include all gorup members. There are up to 15 points extra credit, so even if you don't complete the whole project, completing part of this document will likely earn you some extra credit."
   ]
  },
  {
   "cell_type": "markdown",
   "metadata": {},
   "source": [
    "# Question\n",
    "Is there a valid SIMPLE linear regression with US News Rankings and Yearly UCSD Application Rate?\n",
    "What does a visualization of this look like?\n",
    "What is the pearson correlation factor?\n",
    "\n",
    "\n",
    "Is there a valid MULTIPLE linear regression with US News Rankings and Times Score and Yearly UCSD Application Rate?\n",
    "What does a visualization of this look like?\n",
    "What is the pearson correlation factor?"
   ]
  },
  {
   "cell_type": "markdown",
   "metadata": {},
   "source": [
    "# Data\n",
    "\n",
    "Include the code to read your dataset in below and briefly explain what information is included in your dataset that you'll use for analysis."
   ]
  },
  {
   "cell_type": "code",
   "execution_count": 8,
   "metadata": {},
   "outputs": [
    {
     "name": "stdout",
     "output_type": "stream",
     "text": [
      "[[ 1996.      43.       0.   23687.       0.  ]\n",
      " [ 1997.      34.       0.   25098.       5.96]\n",
      " [ 1998.      33.       0.   28090.      11.92]\n",
      " [ 1999.      32.       0.   32541.      15.85]\n",
      " [ 2000.      32.       0.   35693.       9.69]\n",
      " [ 2001.      31.       0.   38188.       6.99]\n",
      " [ 2002.      31.       0.   41346.       8.27]\n",
      " [ 2003.      31.       0.   43443.       5.07]\n",
      " [ 2004.      32.       0.   41524.      -4.42]\n",
      " [ 2005.      35.       0.   40534.      -2.38]\n",
      " [ 2006.      32.       0.   43591.       7.54]\n",
      " [ 2007.      38.       0.   45088.       3.43]\n",
      " [ 2008.      38.       0.   47385.       5.09]\n",
      " [ 2009.      35.       0.   47060.      -0.69]\n",
      " [ 2010.      35.       0.   48098.       2.21]\n",
      " [ 2011.      35.      73.2  53449.      11.13]\n",
      " [ 2012.      37.      73.   60832.      13.81]\n",
      " [ 2013.      38.      75.2  67391.      10.78]\n",
      " [ 2014.      39.      67.4  73448.       8.99]\n",
      " [ 2015.      37.      68.6  78061.       6.28]\n",
      " [ 2016.      39.      72.2  84206.       7.87]\n",
      " [ 2017.      44.      73.2  88448.       5.04]\n",
      " [ 2018.      42.      78.7  97898.      10.68]]\n"
     ]
    }
   ],
   "source": [
    "import numpy as np\n",
    "import matplotlib.pyplot as plt\n",
    "import statsmodels.api as sm\n",
    "\n",
    "my_data = np.loadtxt('ec_data.txt',delimiter=',',dtype=float)\n",
    "np.set_printoptions(suppress=True)\n",
    "print(my_data)"
   ]
  },
  {
   "cell_type": "markdown",
   "metadata": {},
   "source": [
    "<h3> Data Sources for attempted Sentimental Analysis</h3>\n",
    "<p> First data source is the training data used to get the probabilities of sentiment given certain words.\n",
    "    The second data source is a News Article on UCSD which we web scraped.</p>"
   ]
  },
  {
   "cell_type": "code",
   "execution_count": 15,
   "metadata": {},
   "outputs": [
    {
     "name": "stdout",
     "output_type": "stream",
     "text": [
      "{'swype': {'Pos': 1}, 'iphon': {'Pos': 30, 'Neg': 45}, 'will': {'Pos': 9, 'Neg': 10}, 'crack.': {'Pos': 1}, 'that': {'Pos': 7, 'Neg': 34}, 'ad': {'Pos': 1}, 'more': {'Pos': 3, 'Neg': 5}, 'carrier': {'Pos': 1}, 'support': {'Pos': 3, 'Neg': 2}, '(just': {'Pos': 1}, 'announced)': {'Pos': 1}, 'hilari': {'Pos': 1}, 'video': {'Pos': 2}, 'doe': {'Pos': 2, 'Neg': 8}, 'duet': {'Pos': 1}, 'with': {'Pos': 15, 'Neg': 50}, 'siri.': {'Pos': 2, 'Neg': 2}, 'pretti': {'Pos': 3, 'Neg': 2}, 'much': {'Pos': 2, 'Neg': 5}, 'sum': {'Pos': 1}, 'love': {'Pos': 26, 'Neg': 3}, 'affair!': {'Pos': 1}, 'http://t.co/8exbnqji': {'Pos': 1}, 'made': {'Pos': 4, 'Neg': 8}, 'easi': {'Pos': 1}, 'switch': {'Pos': 2}, 'iphone.': {'Pos': 2, 'Neg': 4}, 'just': {'Pos': 11, 'Neg': 33}, 'realiz': {'Pos': 1}, 'reason': {'Pos': 1}, 'into': {'Pos': 1, 'Neg': 4}, 'twitter': {'Pos': 4, 'Neg': 1}, 'ios5': {'Pos': 6, 'Neg': 12}, 'thank': {'Pos': 31, 'Neg': 12}, 'current': {'Pos': 3}, 'user': {'Pos': 2, 'Neg': 2}, 'littl': {'Pos': 4, 'Neg': 4}, 'disappoint': {'Pos': 1, 'Neg': 7}, 'should': {'Pos': 3, 'Neg': 3}, 'move': {'Pos': 3, 'Neg': 2}, 'strangest': {'Pos': 1}, 'thing': {'Pos': 4, 'Neg': 3}, 'siri': {'Pos': 11, 'Neg': 14}, 'said': {'Pos': 2, 'Neg': 2}, 'far.': {'Pos': 1}, 'sooo': {'Pos': 1}, 'glad': {'Pos': 2, 'Neg': 3}, 'gave': {'Pos': 2}, 'sens': {'Pos': 1}, 'humor!': {'Pos': 1}, 'http://t.co/twaeudbp': {'Pos': 1}, 'great': {'Pos': 11, 'Neg': 5}, 'close': {'Pos': 1, 'Neg': 1}, 'person': {'Pos': 1, 'Neg': 1}, 'event': {'Pos': 1}, 'tonight': {'Pos': 1}, 'regent': {'Pos': 1, 'Neg': 1}, 'store!': {'Pos': 2}, 'from': {'Pos': 13, 'Neg': 16}, 'which': {'Pos': 1, 'Neg': 3}, 'compani': {'Pos': 1, 'Neg': 1}, 'experi': {'Pos': 1, 'Neg': 4}, 'best': {'Pos': 4, 'Neg': 2}, 'custom': {'Pos': 5, 'Neg': 15}, 'servic': {'Pos': 9, 'Neg': 13}, 'asid': {'Pos': 1}, 'appli': {'Pos': 1}, 'hope': {'Pos': 3, 'Neg': 4}, 'they': {'Pos': 2, 'Neg': 16}, 'call': {'Pos': 3, 'Neg': 7}, 'lmao': {'Pos': 2}, 'think': {'Pos': 6, 'Neg': 6}, 'onto': {'Pos': 2}, 'someth': {'Pos': 3, 'Neg': 2}, 'magical!': {'Pos': 3}, 'dying!!!': {'Pos': 2}, 'haha.': {'Pos': 2}, 'suggest': {'Pos': 2, 'Neg': 1}, 'where': {'Pos': 5, 'Neg': 3}, 'find': {'Pos': 3, 'Neg': 2}, 'whore': {'Pos': 2}, 'hide': {'Pos': 1, 'Neg': 1}, 'bodi': {'Pos': 1}, 'lolol': {'Pos': 1}, 'regist': {'Pos': 2}, 'developer...': {'Pos': 2}, \"here'\": {'Pos': 2}, 'actual': {'Pos': 5, 'Neg': 2}, 'it...': {'Pos': 2}, 'help': {'Pos': 3, 'Neg': 1}, 'greatli': {'Pos': 2}, 'appreciated!': {'Pos': 2}, 'wow.': {'Pos': 1, 'Neg': 1}, 'deal': {'Pos': 2, 'Neg': 2}, 'refurb': {'Pos': 1}, '(first': {'Pos': 1}, 'gen)': {'Pos': 1}, 'models.': {'Pos': 1}, 'appl': {'Pos': 5, 'Neg': 16}, 'offer': {'Pos': 2}}\n"
     ]
    }
   ],
   "source": [
    "import pandas as pd\n",
    "from nltk.stem import PorterStemmer #for stemming words\n",
    "\n",
    "# training data from CMU's CSE class: http://boston.lti.cs.cmu.edu/classes/95-865-K/HW/HW3/\n",
    "twitter_sent = pd.read_csv(\"twitter_sentiment.csv\")\n",
    "\n",
    "twitter_sent.head()\n",
    "\n",
    "#Splice the words in each column to remove the short words and stem\n",
    "def filter_col(text_col):\n",
    "    spliced = text_col.split(\" \")\n",
    "    filtered = list(filter(remove_short, spliced))\n",
    "    return filtered\n",
    "\n",
    "#remove words that are theoretically too short to mean much, usernames, and hashtags\n",
    "def remove_short(word):\n",
    "    if len(word) <= 3 or \"@\" in word or \"#\" in word:\n",
    "        return False\n",
    "    return True\n",
    "\n",
    "#get the stem for same meaning words\n",
    "stemmer = PorterStemmer()\n",
    "filtered_cols = twitter_sent['text'].apply(filter_col)\n",
    "twitter_sent['text'] = filtered_cols.apply(lambda col: [stemmer.stem(word) for word in col])\n",
    "\n",
    "probs = {}\n",
    "\n",
    "row_count = twitter_sent.shape[0]\n",
    "# iterate through all of the rows in the training data\n",
    "for i in range(row_count):\n",
    "    col = twitter_sent['class']\n",
    "    col2 = twitter_sent['text']\n",
    "    emo = str(col[i])\n",
    "    txt = list(col2[i])\n",
    "    \n",
    "    # gets the count of the emotions for every single word in text\n",
    "    for i in range(len(txt)):\n",
    "        spliced = txt[i]\n",
    "        word = probs.get(spliced)\n",
    "        if word:\n",
    "            if word.get(emo):\n",
    "                word[emo] += 1\n",
    "            else:\n",
    "                word[emo] = 1\n",
    "        else:\n",
    "            probs[spliced] = {}\n",
    "            probs[spliced][emo] = 1\n",
    "\n",
    "first_few_pairs = {word: probs[word] for word in list(probs)[:100]}\n",
    "print(first_few_pairs)\n"
   ]
  },
  {
   "cell_type": "code",
   "execution_count": 6,
   "metadata": {},
   "outputs": [
    {
     "name": "stdout",
     "output_type": "stream",
     "text": [
      "['<p', 'class=\"meta', 'post-meta', 'clearfix\"><span', 'class=\"updated', 'meta-date\"><i', 'class=\"fa', 'fa-calendar\"></i>November', '19,', '2019</span><span', 'class=\"vcard', 'author', 'meta-author\"><span', 'class=\"fn\"><i', 'class=\"fa', 'fa-user\"></i><a', 'href=\"http://triton.news/author/mo/\"', 'rel=\"author\"', 'title=\"Posts', 'by', 'Mo', 'Elew\">Mo', 'Elew</a></span></span><span', 'class=\"meta-tags\"><i', 'class=\"fa', 'fa-tag\"></i><a', 'href=\"http://triton.news/category/news/local/\"', 'rel=\"category', 'tag\">Local</a>,', '<a', 'href=\"http://triton.news/category/news/\"', 'rel=\"category', 'tag\">News</a></span><span', 'class=\"meta-comments\"><i', 'class=\"fa', 'fa-comment-o\"></i><span', 'class=\"dsq-postid\"', 'data-dsqidentifier=\"28835', 'http://triton.news/?p=28835\">0</span></span>\\n</p><p>UC', 'San', 'Diego', 'Political', 'Science', 'Professor', 'Tom', 'Wong', 'plans', 'to', 'announce', 'his', 'campaign', 'for', 'San', 'Diego’s', '53rd', 'Congressional', 'District', 'on', 'November', '20,', 'a', 'seat', 'which', 'opened', 'up', '<a', 'href=\"https://www.sandiegouniontribune.com/news/politics/story/2019-09-04/rep-susan-davis-to-retire-drop-out-of-race-for-reelection-in-2020\">after', 'Democrat', 'Rep.', 'Susan', 'Davis', 'announced</a>', 'in', 'September', 'that', 'she', 'will', 'not', 'seek', 'reelection.', 'Wong', 'will', 'join', 'Sara', 'Jacobs,', '<a', 'href=\"https://www.sandiegouniontribune.com/news/politics/story/2019-09-14/san-diego-council-president-georgette-gomez-kicks-off-congressional-campaign\">San', 'Diego', 'City', 'Council', 'President', 'Georgette', 'Gomez</a>,', 'and', '11', 'others', 'in', 'the', 'race', 'for', 'the', '53rd', 'district.</p><p>Wong', 'submitted', '<a', 'href=\"https://docquery.fec.gov/cgi-bin/forms/C00727461/1362862/\">paperwork</a>', 'to', 'run', 'as', 'a', 'Democrat', 'a', 'few', 'days', 'before', 'his', 'opponent', '<a', 'href=\"https://timesofsandiego.com/politics/2019/11/16/california-democratic-party-endorses-georgette-gomez-in-53rd-congressional-district/\">San', 'Diego', 'Council', 'President', 'Georgette', 'Gómez', 'won', 'the', 'California', 'Democratic', 'Party’s', 'endorsement</a>', 'in', 'the', 'race.</p><p>The', '<a', 'href=\"https://susandavis.house.gov/district/\">53rd', 'Congressional', 'District</a>', 'stretches', 'from', 'the', 'I-5', 'and', 'Balboa', 'Park', 'on', 'the', 'west,', 'through', 'Mission', 'Valley']\n"
     ]
    }
   ],
   "source": [
    "import urllib.request\n",
    "from bs4 import BeautifulSoup\n",
    "\n",
    "# Web scraped an article for text (sentiment analysis)\n",
    "\n",
    "# I consulted these articles:     \n",
    "#       https://www.analyticsvidhya.com/blog/2018/07/hands-on-sentiment-analysis-dataset-python/\n",
    "#       https://www.geeksforgeeks.org/reading-selected-webpage-content-using-python-web-scraping/\n",
    "\n",
    "strrr = \"\"\n",
    "req = urllib.request.Request('http://triton.news/2019/11/ucsd-professor-tom-wong-to-announce-run-for-congress-tomorrow/')\n",
    "\n",
    "with urllib.request.urlopen(req) as response:\n",
    "    the_page = response.read()\n",
    "    soup=BeautifulSoup(the_page,'html.parser')\n",
    "    l=soup.findAll(\"p\") # get all the paragraphs only in the html page\n",
    "    \n",
    "    for i in l:\n",
    "        strrr += str(i)\n",
    "    txt_lst = strrr.split(\" \") #added all text to a list\n",
    "\n",
    "print(txt_lst[:150])\n",
    "\n",
    "#TO DO: get rid of short words, uses Naive Bayes formula to \n",
    "# compute the probability of negative, positive, or neutral sentiment given words in text (only use words that are\n",
    "# found in the twitter training dataset)\n",
    "    "
   ]
  },
  {
   "cell_type": "markdown",
   "metadata": {},
   "source": [
    "# Data Wrangling\n",
    "\n",
    "Include text and code needed to wrangle your data into a tidy data format. If your data are already in a usable format, explain what checks you did on the data (and include the code) to ensure that the data were tidy:\n",
    "\n",
    "Prepare data for simple linear regression : Year, US New Score, Yearly Applicant Rate\n",
    "  We will drop the Number of Applicants, Times Score columns \n",
    "  \n",
    "Prepare data for multiple linear regression : Year, US New Score, Times Score, Yearly Applicant Rate\n",
    "  We will drop the Number of Applicants\n",
    "  We will drop all Rows where the Times Score is zero (data was unavailable)\n",
    "  "
   ]
  },
  {
   "cell_type": "code",
   "execution_count": 9,
   "metadata": {},
   "outputs": [
    {
     "name": "stdout",
     "output_type": "stream",
     "text": [
      "Simple Linear Regression Data\n",
      "[[43.    0.  ]\n",
      " [34.    5.96]\n",
      " [33.   11.92]\n",
      " [32.   15.85]\n",
      " [32.    9.69]\n",
      " [31.    6.99]\n",
      " [31.    8.27]\n",
      " [31.    5.07]\n",
      " [32.   -4.42]\n",
      " [35.   -2.38]\n",
      " [32.    7.54]\n",
      " [38.    3.43]\n",
      " [38.    5.09]\n",
      " [35.   -0.69]\n",
      " [35.    2.21]\n",
      " [35.   11.13]\n",
      " [37.   13.81]\n",
      " [38.   10.78]\n",
      " [39.    8.99]\n",
      " [37.    6.28]\n",
      " [39.    7.87]\n",
      " [44.    5.04]\n",
      " [42.   10.68]]\n",
      "Multiple Linear Regression Data\n",
      "[[35.   73.2  11.13]\n",
      " [37.   73.   13.81]\n",
      " [38.   75.2  10.78]\n",
      " [39.   67.4   8.99]\n",
      " [37.   68.6   6.28]\n",
      " [39.   72.2   7.87]\n",
      " [44.   73.2   5.04]\n",
      " [42.   78.7  10.68]]\n"
     ]
    }
   ],
   "source": [
    "# Simple Linear Regression Data: Drop the Year, Number of Applicants, Times Score columns\n",
    "simple_linear_regress_data = np.delete(my_data, [0, 2,3], 1)\n",
    "print(\"Simple Linear Regression Data\")\n",
    "print(simple_linear_regress_data)\n",
    "\n",
    "# Multiple Linear Regression Data: Drop the Year, Number of Applicant columns\n",
    "#                                  Drop All Rows where Times Score is Zero\n",
    "multiple_linear_regress_data = np.delete(my_data, [0, 3], 1)\n",
    "multiple_linear_regress_data = multiple_linear_regress_data[multiple_linear_regress_data[:,1] != 0.0]\n",
    "print(\"Multiple Linear Regression Data\")\n",
    "print(multiple_linear_regress_data)"
   ]
  },
  {
   "cell_type": "markdown",
   "metadata": {},
   "source": [
    "# Data Analysis\n",
    "\n",
    "Include text and code to explore and analyze the data your group used for your final project."
   ]
  },
  {
   "cell_type": "code",
   "execution_count": 10,
   "metadata": {},
   "outputs": [
    {
     "name": "stdout",
     "output_type": "stream",
     "text": [
      "                            OLS Regression Results                            \n",
      "==============================================================================\n",
      "Dep. Variable:                      y   R-squared:                       0.004\n",
      "Model:                            OLS   Adj. R-squared:                 -0.043\n",
      "Method:                 Least Squares   F-statistic:                   0.08631\n",
      "Date:                Mon, 09 Dec 2019   Prob (F-statistic):              0.772\n",
      "Time:                        07:04:14   Log-Likelihood:                -69.636\n",
      "No. Observations:                  23   AIC:                             143.3\n",
      "Df Residuals:                      21   BIC:                             145.5\n",
      "Df Model:                           1                                         \n",
      "Covariance Type:            nonrobust                                         \n",
      "==============================================================================\n",
      "                 coef    std err          t      P>|t|      [0.025      0.975]\n",
      "------------------------------------------------------------------------------\n",
      "const          9.4822     10.267      0.924      0.366     -11.869      30.833\n",
      "x1            -0.0838      0.285     -0.294      0.772      -0.677       0.509\n",
      "==============================================================================\n",
      "Omnibus:                        0.940   Durbin-Watson:                   0.920\n",
      "Prob(Omnibus):                  0.625   Jarque-Bera (JB):                0.745\n",
      "Skew:                          -0.413   Prob(JB):                        0.689\n",
      "Kurtosis:                       2.689   Cond. No.                         339.\n",
      "==============================================================================\n",
      "\n",
      "Warnings:\n",
      "[1] Standard Errors assume that the covariance matrix of the errors is correctly specified.\n"
     ]
    },
    {
     "data": {
      "image/png": "[encoded data removed]",
      "text/plain": [
       "<Figure size 432x288 with 1 Axes>"
      ]
     },
     "metadata": {
      "needs_background": "light"
     },
     "output_type": "display_data"
    },
    {
     "name": "stdout",
     "output_type": "stream",
     "text": [
      "[[35.  73.2]\n",
      " [37.  73. ]\n",
      " [38.  75.2]\n",
      " [39.  67.4]\n",
      " [37.  68.6]\n",
      " [39.  72.2]\n",
      " [44.  73.2]\n",
      " [42.  78.7]]\n",
      "                            OLS Regression Results                            \n",
      "==============================================================================\n",
      "Dep. Variable:                      y   R-squared:                       0.577\n",
      "Model:                            OLS   Adj. R-squared:                  0.408\n",
      "Method:                 Least Squares   F-statistic:                     3.416\n",
      "Date:                Mon, 09 Dec 2019   Prob (F-statistic):              0.116\n",
      "Time:                        07:04:14   Log-Likelihood:                -15.773\n",
      "No. Observations:                   8   AIC:                             37.55\n",
      "Df Residuals:                       5   BIC:                             37.79\n",
      "Df Model:                           2                                         \n",
      "Covariance Type:            nonrobust                                         \n",
      "==============================================================================\n",
      "                 coef    std err          t      P>|t|      [0.025      0.975]\n",
      "------------------------------------------------------------------------------\n",
      "const          0.4593     18.039      0.025      0.981     -45.911      46.829\n",
      "x1            -0.6873      0.303     -2.266      0.073      -1.467       0.092\n",
      "x2             0.4895      0.248      1.973      0.105      -0.148       1.127\n",
      "==============================================================================\n",
      "Omnibus:                        1.051   Durbin-Watson:                   2.569\n",
      "Prob(Omnibus):                  0.591   Jarque-Bera (JB):                0.761\n",
      "Skew:                           0.589   Prob(JB):                        0.683\n",
      "Kurtosis:                       2.054   Cond. No.                     1.92e+03\n",
      "==============================================================================\n",
      "\n",
      "Warnings:\n",
      "[1] Standard Errors assume that the covariance matrix of the errors is correctly specified.\n",
      "[2] The condition number is large, 1.92e+03. This might indicate that there are\n",
      "strong multicollinearity or other numerical problems.\n"
     ]
    },
    {
     "name": "stderr",
     "output_type": "stream",
     "text": [
      "C:\\Users\\Manpreet\\Anaconda3\\lib\\site-packages\\scipy\\stats\\stats.py:1450: UserWarning: kurtosistest only valid for n>=20 ... continuing anyway, n=8\n",
      "  \"anyway, n=%i\" % int(n))\n"
     ]
    }
   ],
   "source": [
    "X = simple_linear_regress_data[:,0]\n",
    "Y = simple_linear_regress_data[:,1]\n",
    "results = sm.OLS(Y,sm.add_constant(X)).fit()\n",
    "print(results.summary())\n",
    "plt.scatter(X, Y, s=np.pi*3)\n",
    "plt.title('Simple Linear Regression')\n",
    "plt.xlabel('US News Score')\n",
    "plt.ylabel('UCSD Yearly Applicant Rate')\n",
    "plt.plot(np.unique(X), np.poly1d(np.polyfit(X, Y, 1))(np.unique(X)))\n",
    "plt.show()\n",
    "\n",
    "X = np.delete(multiple_linear_regress_data, [2], 1)\n",
    "Y = multiple_linear_regress_data[:,2]\n",
    "print(X)\n",
    "results = sm.OLS(Y,sm.add_constant(X)).fit()\n",
    "print(results.summary())"
   ]
  },
  {
   "cell_type": "markdown",
   "metadata": {},
   "source": [
    "# Programming Experience\n",
    "\n",
    "In this section, include information about your team's level of exprience programming in Python. Discuss briefly what new things (concepts, skills, packages, etc.) you learned by completing this extra credit."
   ]
  },
  {
   "cell_type": "markdown",
   "metadata": {},
   "source": [
    "<p>Three of the members have had Python programming experiance and are Data Science Majors (2 sophmores and 1 freshman). Some of us have taken DSC10 and DSC20 courses. However, we all needed refreshes as it was a while ago that some of us last wrote Python We also learned the new API: statsmodels. We didnt use this in our prior classes. We used this to perform simple and multiple linear regression. We also did lots of Google searches, this was useful to learn how to plot a scatter chart.</p>\n",
    "\n",
    "<p>Amy's Past Experiences: I took DSC 20 and did a did a Data Challenge so I have basic experience using Python and Pandas.<br> Amy's contributions: I did the attempt for the sentiment analysis portion so I learned a lot about having reading data from a URL using URLlib and using beautiful soup to get rid of the unneccesary HTML. I applied the concepts of tokenization to stem words and remove unneccesary words for analysis. This is my first time using PorterStemmer. </p>\n",
    "\n",
    "<p>Saroop worked on the data input, linear Regression and visualization and learned the statsmodels for the first time.</p>\n",
    "\n",
    "<p>All members reviewed the code and had a basic understanding of what we were attempting.</p>\n",
    "\n"
   ]
  },
  {
   "cell_type": "code",
   "execution_count": null,
   "metadata": {},
   "outputs": [],
   "source": [
    "\n",
    "    \n"
   ]
  }
 ],
 "metadata": {
  "kernelspec": {
   "display_name": "Python 3",
   "language": "python",
   "name": "python3"
  },
  "language_info": {
   "codemirror_mode": {
    "name": "ipython",
    "version": 3
   },
   "file_extension": ".py",
   "mimetype": "text/x-python",
   "name": "python",
   "nbconvert_exporter": "python",
   "pygments_lexer": "ipython3",
   "version": "3.6.2"
  }
 },
 "nbformat": 4,
 "nbformat_minor": 4
}
